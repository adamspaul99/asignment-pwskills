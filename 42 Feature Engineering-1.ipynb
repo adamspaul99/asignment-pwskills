{
 "cells": [
  {
   "cell_type": "markdown",
   "id": "4f448947-c268-444b-8bad-d99c743b0291",
   "metadata": {},
   "source": [
    "# Feature Engineering-1"
   ]
  },
  {
   "cell_type": "markdown",
   "id": "23044977-77c2-4dee-8afb-05a54e149a6e",
   "metadata": {},
   "source": [
    "### Q1: What are missing values in a dataset? Why is it essential to handle missing values? Name some algorithms that are not affected by missing values.\n",
    "\n",
    "1. Missing values in a dataset refer to the absence of certain data points or values for particular features in some observations or records.\n",
    "2. Handling missing values is crucial because they can negatively impact the accuracy and validity of statistical analyses and machine learning models.\n",
    "3. Some algorithms that are not affected by missing values include decision trees, random forests, and naive Bayes."
   ]
  },
  {
   "cell_type": "markdown",
   "id": "14587404-50c4-44c8-a85c-ce4d14f7c55d",
   "metadata": {},
   "source": [
    "### Q2: List down techniques used to handle missing data. Give an example of each with python code.\n",
    " \n",
    "Techniques for handling missing data include:\n",
    "1. Deletion: removing records or columns with missing values. Example: df.dropna()\n",
    "2. Imputation: filling in missing values with substitute values. Example: df.fillna(method='ffill')\n",
    "3. Interpolation: filling in missing values using a function that estimates values based on other data points. Example: df.interpolate()\n",
    "4. Hot-deck imputation: filling in missing values using randomly selected data points with similar characteristics. Example: fancyimpute.KNN()"
   ]
  },
  {
   "cell_type": "markdown",
   "id": "3127715e-6914-4fd7-934b-7c61dd1dc97c",
   "metadata": {},
   "source": [
    "### Q3: Explain the imbalanced data. What will happen if imbalanced data is not handled?\n",
    "\n",
    "Imbalanced data refers to datasets where the distribution of the target variable is not equal across different classes.\n",
    "\n",
    "If imbalanced data is not handled, machine learning models may perform poorly in predicting the underrepresented class, leading to biased results and inaccurate conclusions."
   ]
  },
  {
   "cell_type": "markdown",
   "id": "5bab870a-b97d-40fb-9075-a7442f7478a5",
   "metadata": {},
   "source": [
    "### Q4: What are Up-sampling and Down-sampling? Explain with an example when up-sampling and down-sampling are required.\n",
    "\n",
    "Up-sampling involves increasing the frequency of the minority class by replicating samples, while down-sampling involves reducing the frequency of the majority class by removing samples.\n",
    "\n",
    "Up-sampling may be required when working with imbalanced datasets with a low frequency of the minority class, while down-sampling may be necessary when the majority class is overrepresented.\n",
    "\n",
    "For example, in fraud detection, where fraudulent transactions are rare, up-sampling can be used to increase the frequency of the positive class and improve model performance."
   ]
  },
  {
   "cell_type": "markdown",
   "id": "9e652263-246f-4453-8e32-0db72e1d5876",
   "metadata": {},
   "source": [
    "### Q5: What is data Augmentation? Explain SMOTE.\n",
    "\n",
    "Data augmentation involves artificially generating new data by applying transformations to existing data, such as rotating or flipping images, to increase the size and diversity of the dataset.\n",
    "\n",
    "SMOTE (Synthetic Minority Over-sampling Technique) is a data augmentation technique specifically used for balancing imbalanced datasets. It creates synthetic samples of the minority class by interpolating between existing data points."
   ]
  },
  {
   "cell_type": "markdown",
   "id": "22282232-64fe-464f-9147-3b3e616ce143",
   "metadata": {},
   "source": [
    "### Q6: What are outliers in a dataset? Why is it essential to handle outliers?\n",
    "\n",
    "Outliers are data points that significantly deviate from the rest of the dataset, either in terms of their magnitude or distribution.\n",
    "\n",
    "Handling outliers is important because they can negatively affect the accuracy and performance of statistical models, leading to biased results and inaccurate conclusions."
   ]
  },
  {
   "cell_type": "markdown",
   "id": "f5a7ea4b-4abd-425f-a887-aede01a0d78c",
   "metadata": {},
   "source": [
    "### Q7: You are working on a project that requires analyzing customer data. However, you notice that some of the data is missing. What are some techniques you can use to handle the missing data in your analysis?\n",
    "\n",
    "Techniques for handling missing data include deletion, imputation, interpolation, and hot-deck imputation.\n",
    "\n",
    "The choice of technique depends on the nature and extent of the missing data, as well as the specific analysis or modeling objectives."
   ]
  },
  {
   "cell_type": "markdown",
   "id": "ab531058-119c-45da-bf93-2892cf394d0d",
   "metadata": {},
   "source": [
    "### Q8: You are working with a large dataset and find that a small percentage of the data is missing. What are some strategies you can use to determine if the missing data is missing at random or if there is a pattern to the missing data?\n",
    "Strategies for determining if missing data is missing at random or not include statistical tests, visualization, and exploratory data analysis. Statistical tests can help identify patterns and correlations in the missing data, while visualization can reveal any spatial or temporal patterns in the missing values."
   ]
  },
  {
   "cell_type": "markdown",
   "id": "deb0f3ef-021d-4595-a2ff-cb01f24747ca",
   "metadata": {},
   "source": [
    "### Q9: Suppose you are working on a medical diagnosis project and find that the majority of patients in the dataset do not have the condition of interest, while a small percentage do. What are some strategies you can use to evaluate the performance of your machine learning model on this imbalanced dataset?\n",
    "\n",
    "1. Strategies for evaluating machine learning models on imbalanced datasets include using appropriate evaluation metrics, resampling techniques, and ensemble methods.\n",
    "2. Evaluation metrics such as precision, recall, and F1 score are better suited for imbalanced datasets than accuracy.\n"
   ]
  },
  {
   "cell_type": "markdown",
   "id": "3a171d0e-6a12-482c-943d-d9005a27d769",
   "metadata": {},
   "source": [
    "### Q10: When attempting to estimate customer satisfaction for a project, you discover that the dataset is unbalanced, with the bulk of customers reporting being satisfied. What methods can you employ to balance the dataset and down-sample the majority class?\n",
    "\n",
    "Methods for balancing an unbalanced dataset with a majority class include down-sampling, where a subset of the majority class is randomly selected and removed from the dataset, or synthetic data generation, where new data points are artificially created to increase the frequency of the minority class."
   ]
  },
  {
   "cell_type": "markdown",
   "id": "784c3032-a114-4e5a-93ce-8ceaa2659a5e",
   "metadata": {},
   "source": [
    "### Q11: You discover that the dataset is unbalanced with a low percentage of occurrences while working on a project that requires you to estimate the occurrence of a rare event. What methods can you employ to balance the dataset and up-sample the minority class?\n",
    "\n",
    "Methods for balancing an unbalanced dataset with a minority class include up-sampling, where the minority class is replicated."
   ]
  },
  {
   "cell_type": "code",
   "execution_count": null,
   "id": "e9a2e818-e602-413c-b93b-9d4d81632f92",
   "metadata": {},
   "outputs": [],
   "source": []
  }
 ],
 "metadata": {
  "kernelspec": {
   "display_name": "Python 3 (ipykernel)",
   "language": "python",
   "name": "python3"
  },
  "language_info": {
   "codemirror_mode": {
    "name": "ipython",
    "version": 3
   },
   "file_extension": ".py",
   "mimetype": "text/x-python",
   "name": "python",
   "nbconvert_exporter": "python",
   "pygments_lexer": "ipython3",
   "version": "3.10.8"
  }
 },
 "nbformat": 4,
 "nbformat_minor": 5
}
