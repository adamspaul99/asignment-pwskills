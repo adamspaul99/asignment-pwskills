{
 "cells": [
  {
   "cell_type": "markdown",
   "id": "9a1c26f7-c285-4dfa-8f9d-9a46aa42d58b",
   "metadata": {},
   "source": [
    "## Q1. Explain GET and POST methods.\n",
    "\n"
   ]
  },
  {
   "cell_type": "markdown",
   "id": "8b5a2f33-1dbb-4c15-881a-6498ad13f336",
   "metadata": {},
   "source": [
    "**GET:** It is used to retrieve data from a server. The data is sent in the URL's query string, which can be seen in the browser's address bar. The data size is limited, and it's not recommended to send sensitive information through GET requests.\n",
    "\n",
    "**POST:** It is used to send data to a server. The data is sent in the request body, which is not visible in the browser's address bar. The data size is not limited, and it's recommended to send sensitive information through POST requests."
   ]
  },
  {
   "cell_type": "markdown",
   "id": "f3549eab-e22f-493c-9b77-d73d03fe3412",
   "metadata": {},
   "source": [
    "## Q2. Why is request used in Flask?\n"
   ]
  },
  {
   "cell_type": "markdown",
   "id": "0de04493-ed97-47f7-a8e6-7bf76b047efe",
   "metadata": {},
   "source": [
    "The request object is used to access incoming request data, such as form data, JSON data, or query parameters. It is a global object that is available in the context of the current request."
   ]
  },
  {
   "cell_type": "markdown",
   "id": "e74dadb9-7a94-4ca3-b051-a458940b18f6",
   "metadata": {},
   "source": [
    "## Q3. Why is redirect() used in Flask?\n"
   ]
  },
  {
   "cell_type": "markdown",
   "id": "57ea61ae-e974-4fee-8938-27bbab6ab0c9",
   "metadata": {},
   "source": [
    "**redirect()** is a function that is used to redirect the user to another URL. It is used when a user accesses a certain URL, and the server needs to send the user to a different URL, such as after a successful form submission or authentication. The redirect() function takes the target URL as a parameter and returns a new response object with a 302 status code."
   ]
  },
  {
   "cell_type": "markdown",
   "id": "7a09ec19-61e6-4bd6-9e4d-86b73253aff4",
   "metadata": {},
   "source": [
    "## Q4. What are templates in Flask? Why is the render_template() function used?"
   ]
  },
  {
   "cell_type": "markdown",
   "id": "088a9b0d-2dda-4aaa-bd07-c5aa5ff26fdc",
   "metadata": {},
   "source": [
    "**Templates** in Flask are HTML files that contain placeholders for dynamic content. They allow developers to separate the presentation layer from the business logic of the application. In Flask, the render_template() function is used to render templates. It takes the name of the template file and any arguments that need to be passed to the template as keyword argument"
   ]
  },
  {
   "cell_type": "markdown",
   "id": "a3154d3e-41f4-4584-b8b9-9647cf4f5e5c",
   "metadata": {},
   "source": [
    "## Q5. Create a simple API. Use Postman to test it. Attach the screenshot of the output in the Jupyter Notebook."
   ]
  },
  {
   "cell_type": "markdown",
   "id": "01b941ed-acf4-4809-8d3e-e98ccf4de29d",
   "metadata": {},
   "source": [
    "ouput = https://brown-psychiatrist-iuglj.pwskills.app/lab/tree/work/post-1.png"
   ]
  }
 ],
 "metadata": {
  "kernelspec": {
   "display_name": "Python 3 (ipykernel)",
   "language": "python",
   "name": "python3"
  },
  "language_info": {
   "codemirror_mode": {
    "name": "ipython",
    "version": 3
   },
   "file_extension": ".py",
   "mimetype": "text/x-python",
   "name": "python",
   "nbconvert_exporter": "python",
   "pygments_lexer": "ipython3",
   "version": "3.10.8"
  }
 },
 "nbformat": 4,
 "nbformat_minor": 5
}
