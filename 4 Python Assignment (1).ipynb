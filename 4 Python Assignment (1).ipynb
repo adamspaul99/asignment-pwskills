{
 "cells": [
  {
   "cell_type": "markdown",
   "id": "6e138ff5-f1be-4a21-bfcf-f6906bdf3477",
   "metadata": {},
   "source": [
    "# Q1. Explain Class and Object with respect to Object-Oriented Programming. Give a suitable example."
   ]
  },
  {
   "cell_type": "markdown",
   "id": "e1260192-de66-460e-86ac-488831d3a50f",
   "metadata": {},
   "source": [
    "**ANS -** A class can be defined as a template/blueprint that describes the behavior/state of that the object and its type support."
   ]
  },
  {
   "cell_type": "code",
   "execution_count": 1,
   "id": "a0bb8065-5fbc-4280-83fa-7d0a97b925d3",
   "metadata": {},
   "outputs": [],
   "source": [
    "class pwskills1 :\n",
    "    \n",
    "    def __init__(self, phone_number, email_id, student_id): # init is our constructor\n",
    "        self.phone_number = phone_number\n",
    "        self.email_id = email_id\n",
    "        self.student_id = student_id\n",
    "        \n",
    "    def return_student_detials(self):\n",
    "        return self.phone_number, self.email_id, self.student_id"
   ]
  },
  {
   "cell_type": "code",
   "execution_count": 2,
   "id": "e58c007f-9672-47ac-b998-0f034375de30",
   "metadata": {},
   "outputs": [],
   "source": [
    "rohan = pwskills1(743274290, 'rohan@gmail.com', 111)"
   ]
  },
  {
   "cell_type": "code",
   "execution_count": 3,
   "id": "8e8b924a-8f48-4a00-ae31-4d976b6e4b12",
   "metadata": {},
   "outputs": [
    {
     "data": {
      "text/plain": [
       "(743274290, 'rohan@gmail.com', 111)"
      ]
     },
     "execution_count": 3,
     "metadata": {},
     "output_type": "execute_result"
    }
   ],
   "source": [
    "rohan.return_student_detials()"
   ]
  },
  {
   "cell_type": "markdown",
   "id": "1509fb23-fb84-4026-82ff-9df67642b79a",
   "metadata": {},
   "source": [
    "# Q2. Name the four pillars of OOPs."
   ]
  },
  {
   "cell_type": "markdown",
   "id": "e344dec0-6d0c-4045-91b2-5e8cc2ba1a93",
   "metadata": {},
   "source": [
    "**ANS -** The Four Pillars of Object Oriented Programming.\n",
    "\n",
    "1. Abstraction.\n",
    "2. Encapsulation.\n",
    "3. Inheritance.\n",
    "4. Polymorphism"
   ]
  },
  {
   "cell_type": "markdown",
   "id": "8dafad79-93cb-458e-bada-4971f9a94b04",
   "metadata": {},
   "source": [
    "# Q3. Explain why the __init__() function is used. Give a suitable example."
   ]
  },
  {
   "cell_type": "markdown",
   "id": "28453e52-f246-49cb-b722-672b7480439f",
   "metadata": {},
   "source": [
    "**ANS -** init is a constructor and Constructors are used to initializing the object’s state"
   ]
  },
  {
   "cell_type": "code",
   "execution_count": 4,
   "id": "60a95101-e904-4710-b886-22fc73b2292b",
   "metadata": {},
   "outputs": [
    {
     "name": "stdout",
     "output_type": "stream",
     "text": [
      "Hello, my name is Nikhil\n"
     ]
    }
   ],
   "source": [
    "class Person:\n",
    " \n",
    "    # init method or constructor\n",
    "    def __init__(self, name):\n",
    "        self.name = name\n",
    " \n",
    "    # Sample Method\n",
    "    def say_hi(self):\n",
    "        print('Hello, my name is', self.name)\n",
    " \n",
    " \n",
    "p = Person('Nikhil')\n",
    "p.say_hi()"
   ]
  },
  {
   "cell_type": "markdown",
   "id": "e86eea81-d3d6-4992-b176-88b5515fcef5",
   "metadata": {},
   "source": [
    "# Q4. Why self is used in OOPs?"
   ]
  },
  {
   "cell_type": "markdown",
   "id": "2cde4178-3163-417d-b7f2-703a0e9490e3",
   "metadata": {},
   "source": [
    "**ANS -** we give 'self' as a very first argument so that it can bind by itself.\n",
    "\n",
    "self is not a reserved keyword we can use anyword in place of self."
   ]
  },
  {
   "cell_type": "markdown",
   "id": "9c6be6c7-c81d-46e0-bfec-bb3cfe2e29ad",
   "metadata": {},
   "source": [
    "# Q5. What is inheritance? Give an example for each type of inheritance."
   ]
  },
  {
   "cell_type": "markdown",
   "id": "31847973-3307-43b1-a610-7dd0619cb45c",
   "metadata": {},
   "source": [
    "**ANS -** Inheritance is a mechanism in which one class acquires the property of another class.\n",
    "\n",
    "Types of inheritance :-\n",
    "\n",
    "1. Single Inheritance\n",
    "2. Multiple Inheritance\n",
    "3. Multilevel Inheritance\n",
    "4. Hierarchical Inheritance\n",
    "5. Hybrid Inheritance"
   ]
  },
  {
   "cell_type": "markdown",
   "id": "5ca0a0c7-f320-4400-b6de-cddb763996f8",
   "metadata": {},
   "source": [
    "### **Single Inheritance**"
   ]
  },
  {
   "cell_type": "code",
   "execution_count": 1,
   "id": "3c2e77ca-3c49-4c9d-bcfe-e31566e391b1",
   "metadata": {},
   "outputs": [],
   "source": [
    "class Parent:\n",
    "    def func1(self):\n",
    "        print(\"This function is in parent class.\")\n",
    " \n",
    " \n",
    "class Child(Parent):\n",
    "    def func2(self):\n",
    "        print(\"This function is in child class.\")\n",
    " "
   ]
  },
  {
   "cell_type": "code",
   "execution_count": 2,
   "id": "4d5590fd-c0d2-41df-81d0-3aa5c667cd6b",
   "metadata": {},
   "outputs": [
    {
     "name": "stdout",
     "output_type": "stream",
     "text": [
      "This function is in parent class.\n",
      "This function is in child class.\n"
     ]
    }
   ],
   "source": [
    "object = Child()\n",
    "object.func1()\n",
    "object.func2()"
   ]
  },
  {
   "cell_type": "markdown",
   "id": "72ca9d51-b732-42c5-9c55-27de8484e592",
   "metadata": {},
   "source": [
    "### **Multiple Inheritance**"
   ]
  },
  {
   "cell_type": "code",
   "execution_count": 3,
   "id": "f2447071-5eac-4964-9944-955d6ca2dccc",
   "metadata": {},
   "outputs": [],
   "source": [
    "class Mother:\n",
    "    mothername = \"\"\n",
    " \n",
    "    def mother(self):\n",
    "        print(self.mothername)\n",
    "\n",
    "class Father:\n",
    "    fathername = \"\"\n",
    " \n",
    "    def father(self):\n",
    "        print(self.fathername)\n",
    "\n",
    "class Son(Mother, Father):\n",
    "    def parents(self):\n",
    "        print(\"Father :\", self.fathername)\n",
    "        print(\"Mother :\", self.mothername)\n",
    " "
   ]
  },
  {
   "cell_type": "code",
   "execution_count": 4,
   "id": "8ffc5e81-1e53-42e1-9d35-bc767cd54da9",
   "metadata": {},
   "outputs": [
    {
     "name": "stdout",
     "output_type": "stream",
     "text": [
      "Father : RAM\n",
      "Mother : SITA\n"
     ]
    }
   ],
   "source": [
    "s1 = Son()\n",
    "s1.fathername = \"RAM\"\n",
    "s1.mothername = \"SITA\"\n",
    "s1.parents()"
   ]
  },
  {
   "cell_type": "markdown",
   "id": "4505bf39-65b4-4d0f-907f-fc66590ccabf",
   "metadata": {},
   "source": [
    "### **Multilevel Inheritance**"
   ]
  },
  {
   "cell_type": "code",
   "execution_count": 5,
   "id": "bab6ef25-8693-4be1-907e-833963be5598",
   "metadata": {},
   "outputs": [],
   "source": [
    "class Grandfather:\n",
    " \n",
    "    def __init__(self, grandfathername):\n",
    "        self.grandfathername = grandfathername\n",
    "\n",
    "\n",
    "class Father(Grandfather):\n",
    "    def __init__(self, fathername, grandfathername):\n",
    "        self.fathername = fathername\n",
    " \n",
    "        # invoking constructor of Grandfather class\n",
    "        Grandfather.__init__(self, grandfathername)\n",
    "\n",
    "class Son(Father):\n",
    "    def __init__(self, sonname, fathername, grandfathername):\n",
    "        self.sonname = sonname\n",
    " \n",
    "        # invoking constructor of Father class\n",
    "        Father.__init__(self, fathername, grandfathername)\n",
    " \n",
    "    def print_name(self):\n",
    "        print('Grandfather name :', self.grandfathername)\n",
    "        print(\"Father name :\", self.fathername)\n",
    "        print(\"Son name :\", self.sonname)\n",
    " \n",
    " \n"
   ]
  },
  {
   "cell_type": "code",
   "execution_count": 6,
   "id": "f6922b10-68f2-4182-8822-872825c15ab9",
   "metadata": {},
   "outputs": [
    {
     "name": "stdout",
     "output_type": "stream",
     "text": [
      "Lal mani\n",
      "Grandfather name : Lal mani\n",
      "Father name : Rampal\n",
      "Son name : Prince\n"
     ]
    }
   ],
   "source": [
    "s1 = Son('Prince', 'Rampal', 'Lal mani')\n",
    "print(s1.grandfathername)\n",
    "s1.print_name()"
   ]
  },
  {
   "cell_type": "markdown",
   "id": "10b16e47-cae1-4009-b3c9-651eb71d2f95",
   "metadata": {},
   "source": [
    "### **Hierarchical Inheritance**"
   ]
  },
  {
   "cell_type": "code",
   "execution_count": 7,
   "id": "9b49cc94-581d-44a0-bc5b-40f7f8f5eb15",
   "metadata": {},
   "outputs": [],
   "source": [
    "class Parent:\n",
    "    def func1(self):\n",
    "        print(\"This function is in parent class.\")\n",
    "\n",
    "class Child1(Parent):\n",
    "    def func2(self):\n",
    "        print(\"This function is in child 1.\")\n",
    "\n",
    "class Child2(Parent):\n",
    "    def func3(self):\n",
    "        print(\"This function is in child 2.\")\n",
    "\n",
    "        \n",
    "    "
   ]
  },
  {
   "cell_type": "code",
   "execution_count": 8,
   "id": "3653a078-45a6-4122-a72a-18d7061cf44e",
   "metadata": {},
   "outputs": [
    {
     "name": "stdout",
     "output_type": "stream",
     "text": [
      "This function is in parent class.\n",
      "This function is in child 1.\n",
      "This function is in parent class.\n",
      "This function is in child 2.\n"
     ]
    }
   ],
   "source": [
    "object1 = Child1()\n",
    "object2 = Child2()\n",
    "object1.func1()\n",
    "object1.func2()\n",
    "object2.func1()\n",
    "object2.func3()"
   ]
  },
  {
   "cell_type": "markdown",
   "id": "f99d9c8d-4afc-4096-bfb4-429415883f03",
   "metadata": {},
   "source": [
    "### **Hybrid Inheritance**"
   ]
  },
  {
   "cell_type": "code",
   "execution_count": 10,
   "id": "f8238938-96a9-4348-b9b3-c6a74f6ae3b9",
   "metadata": {},
   "outputs": [],
   "source": [
    "class School:\n",
    "    def func1(self):\n",
    "        print(\"This function is in school.\")\n",
    "\n",
    "\n",
    "class Student1(School):\n",
    "    def func2(self):\n",
    "        print(\"This function is in student 1. \")\n",
    "\n",
    "\n",
    "class Student2(School):\n",
    "    def func3(self):\n",
    "        print(\"This function is in student 2.\")\n",
    "\n",
    "\n",
    "class Student3(Student1, School):\n",
    "    def func4(self):\n",
    "        print(\"This function is in student 3.\")\n"
   ]
  },
  {
   "cell_type": "code",
   "execution_count": 11,
   "id": "908f9f77-344c-46e9-b587-f740a254bec4",
   "metadata": {},
   "outputs": [
    {
     "name": "stdout",
     "output_type": "stream",
     "text": [
      "This function is in school.\n",
      "This function is in student 1. \n"
     ]
    }
   ],
   "source": [
    "object = Student3()\n",
    "object.func1()\n",
    "object.func2()"
   ]
  }
 ],
 "metadata": {
  "kernelspec": {
   "display_name": "Python 3 (ipykernel)",
   "language": "python",
   "name": "python3"
  },
  "language_info": {
   "codemirror_mode": {
    "name": "ipython",
    "version": 3
   },
   "file_extension": ".py",
   "mimetype": "text/x-python",
   "name": "python",
   "nbconvert_exporter": "python",
   "pygments_lexer": "ipython3",
   "version": "3.10.8"
  }
 },
 "nbformat": 4,
 "nbformat_minor": 5
}
