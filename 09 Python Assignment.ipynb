{
 "cells": [
  {
   "cell_type": "markdown",
   "id": "836b5e23-e780-4ae5-84d1-ba2f2da14ec3",
   "metadata": {},
   "source": [
    "## Q1. What is Abstraction in OOps? Explain with an example.\n",
    "\n",
    "**ANS -** Abstraction refers to the ability to focus on the essential features of an object or a system while ignoring the irrelevant details"
   ]
  },
  {
   "cell_type": "code",
   "execution_count": 1,
   "id": "b0a14e72-c6d9-4a93-844e-f99e2d12c444",
   "metadata": {},
   "outputs": [],
   "source": [
    "class Animal:\n",
    "    def __init__(self, name, age):\n",
    "        self.name = name\n",
    "        self.age = age\n",
    "\n",
    "    def speak(self):\n",
    "        pass\n",
    "\n",
    "class Dog(Animal):\n",
    "    def speak(self):\n",
    "        return \"Woof!\"\n",
    "\n",
    "class Cat(Animal):\n",
    "    def speak(self):\n",
    "        return \"Meow!\"\n"
   ]
  },
  {
   "cell_type": "code",
   "execution_count": 3,
   "id": "a412f6a0-7608-4cbc-ba04-6add91297167",
   "metadata": {},
   "outputs": [],
   "source": [
    "dog = Dog(\"Rufus\", 3)\n",
    "cat = Cat(\"Mittens\", 5)"
   ]
  },
  {
   "cell_type": "code",
   "execution_count": 4,
   "id": "8d8079a6-e249-465d-8a8d-0709a042e1f5",
   "metadata": {},
   "outputs": [
    {
     "data": {
      "text/plain": [
       "'Woof!'"
      ]
     },
     "execution_count": 4,
     "metadata": {},
     "output_type": "execute_result"
    }
   ],
   "source": [
    "dog.speak()\n"
   ]
  },
  {
   "cell_type": "code",
   "execution_count": 5,
   "id": "36666388-5def-4fa5-beac-7584ebc2c525",
   "metadata": {},
   "outputs": [
    {
     "data": {
      "text/plain": [
       "'Meow!'"
      ]
     },
     "execution_count": 5,
     "metadata": {},
     "output_type": "execute_result"
    }
   ],
   "source": [
    "cat.speak()"
   ]
  },
  {
   "cell_type": "markdown",
   "id": "2b7959bf-98b2-4696-9f16-1692ae82bc2e",
   "metadata": {},
   "source": [
    "## Q2. Differentiate between Abstraction and Encapsulation. Explain with an example.\n",
    "\n",
    "**ANS -** Abstraction refers to the ability to focus on the essential features of an object or a system while ignoring the irrelevant details on the other hand, Encapsulation is the process of binding data and methods together in a single unit (class) and restricting access to the data from outside the class."
   ]
  },
  {
   "cell_type": "code",
   "execution_count": 6,
   "id": "34b9994c-ef97-4c01-bc14-5ff46d4d564f",
   "metadata": {},
   "outputs": [],
   "source": [
    "class Car:\n",
    "    def __init__(self, model, year, color):\n",
    "        self.__model = model\n",
    "        self.__year = year\n",
    "        self.__color = color\n",
    "        \n",
    "    '''Example of Encapsulation as they are bind together \n",
    "    and at the same time restricting access to the data from outside the class.'''\n",
    "    \n",
    "    def get_model(self):\n",
    "        return self.__model\n",
    "\n",
    "    def get_color(self):\n",
    "        return self.__color\n",
    "\n",
    "    def set_color(self, color):\n",
    "        self.__color = color\n",
    "        \n",
    "    ''' Example of Abstraction, as they hide the complex details of starting and stopping a car, \n",
    "    while providing a simple interface for the user to interact with the Car object.'''\n",
    "    \n",
    "    def start(self):\n",
    "        print(\"Starting the car...\")\n",
    "\n",
    "    def stop(self):\n",
    "        print(\"Stopping the car...\")\n",
    "\n"
   ]
  },
  {
   "cell_type": "markdown",
   "id": "a8ff255d-f684-4c5a-9217-6692da7460e1",
   "metadata": {},
   "source": [
    "## Q3. What is abc module in python? Why is it used?\n",
    "\n",
    "**ANS -** The abc module in Python stands for \"Abstract Base Classes\". It provides a way to define abstract classes in Python, which are classes that cannot be instantiated on their own but serve as a template for other classes to inherit from.\n",
    "\n",
    "The abc module is used for creating and working with abstract base classes. Abstract base classes provide a way to define a common API for a group of related classes."
   ]
  },
  {
   "cell_type": "markdown",
   "id": "4a14e371-d892-49cd-bce3-6672e8b6e6fd",
   "metadata": {},
   "source": [
    "## Q4. How can we achieve data abstraction?\n",
    "\n",
    "**ANS -** Data abstraction is the process of hiding implementation details and showing only the necessary information to the user. In Python, we can achieve data abstraction using classes and objects."
   ]
  },
  {
   "cell_type": "code",
   "execution_count": 8,
   "id": "06bd6d4e-f6a9-4c64-910b-f2b02f72ebd2",
   "metadata": {},
   "outputs": [],
   "source": [
    "class Car:\n",
    "    def __init__(self, make, model, year):\n",
    "        self.__make = make\n",
    "        self.__model = model\n",
    "        self.__year = year\n",
    "\n",
    "    def get_make(self):\n",
    "        return self.__make\n",
    "\n",
    "    def get_model(self):\n",
    "        return self.__model\n",
    "\n",
    "    def get_year(self):\n",
    "        return self.__year\n",
    "\n",
    "    def set_make(self, make):\n",
    "        self.__make = make\n",
    "\n",
    "    def set_model(self, model):\n",
    "        self.__model = model\n",
    "\n",
    "    def set_year(self, year):\n",
    "        self.__year = year"
   ]
  },
  {
   "cell_type": "code",
   "execution_count": 9,
   "id": "bb332413-a15c-4dd0-a140-41bd20e45d11",
   "metadata": {},
   "outputs": [
    {
     "name": "stdout",
     "output_type": "stream",
     "text": [
      "Ford\n",
      "Mustang\n",
      "2022\n",
      "Toyota\n"
     ]
    }
   ],
   "source": [
    "car = Car('Ford', 'Mustang', 2022)\n",
    "\n",
    "print(car.get_make()) \n",
    "print(car.get_model()) \n",
    "print(car.get_year()) \n",
    "\n",
    "car.set_make('Toyota')\n",
    "print(car.get_make())\n"
   ]
  },
  {
   "cell_type": "markdown",
   "id": "882967d9-911a-4986-90a3-12aba6461a95",
   "metadata": {},
   "source": [
    "## Q5. Can we create an instance of an abstract class? Explain your answer.\n",
    "\n",
    "**ANS -** No, we cannot create an instance of an abstract class directly. An abstract class is a class that contains one or more abstract methods, which are methods that are declared but not defined. An abstract class serves as a blueprint for its subclasses, which must implement all the abstract methods defined in the abstract class."
   ]
  },
  {
   "cell_type": "code",
   "execution_count": null,
   "id": "18742161-a249-477c-b1ac-1db75658362d",
   "metadata": {},
   "outputs": [],
   "source": []
  }
 ],
 "metadata": {
  "kernelspec": {
   "display_name": "Python 3 (ipykernel)",
   "language": "python",
   "name": "python3"
  },
  "language_info": {
   "codemirror_mode": {
    "name": "ipython",
    "version": 3
   },
   "file_extension": ".py",
   "mimetype": "text/x-python",
   "name": "python",
   "nbconvert_exporter": "python",
   "pygments_lexer": "ipython3",
   "version": "3.10.8"
  }
 },
 "nbformat": 4,
 "nbformat_minor": 5
}
