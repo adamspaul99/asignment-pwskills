{
 "cells": [
  {
   "cell_type": "markdown",
   "id": "ec99fc82-3619-417d-83fa-7c2eab0cadf7",
   "metadata": {},
   "source": [
    "# Q1. Which keyword is used to create a function? Create a function to return a list of odd numbers in the range of 1 to 25."
   ]
  },
  {
   "cell_type": "markdown",
   "id": "901117c1-828c-431f-b635-c55e2eebceac",
   "metadata": {},
   "source": [
    "**ANS -** we use 'def' keyword to create a function."
   ]
  },
  {
   "cell_type": "code",
   "execution_count": 6,
   "id": "550fa227-8ba4-4a18-8d0d-4826e8ff99c4",
   "metadata": {},
   "outputs": [],
   "source": [
    "def odd(n):\n",
    "    list1 = []\n",
    "    for i in range(1, n+1):\n",
    "        if i % 2 != 0:\n",
    "            list1.append(i)\n",
    "    return list1"
   ]
  },
  {
   "cell_type": "code",
   "execution_count": 7,
   "id": "896d9d41-879a-4dfb-8b7d-e1b9c5e4be03",
   "metadata": {},
   "outputs": [
    {
     "data": {
      "text/plain": [
       "[1, 3, 5, 7, 9, 11, 13, 15, 17, 19, 21, 23, 25]"
      ]
     },
     "execution_count": 7,
     "metadata": {},
     "output_type": "execute_result"
    }
   ],
   "source": [
    "odd(25)"
   ]
  },
  {
   "cell_type": "markdown",
   "id": "cb37b83e-dc00-4deb-8603-22004cfb8143",
   "metadata": {},
   "source": [
    "# Q2. Why *args and **kwargs is used in some functions? Create a function each for *args and **kwargs to demonstrate their use."
   ]
  },
  {
   "cell_type": "markdown",
   "id": "422ca1f0-4250-4a55-a54d-d99ff58b4081",
   "metadata": {},
   "source": [
    "**ANS -** We can use *args and **kwargs as arguments of a function, when we are not sure about the number of arguments we are going to pass in the functions.\n",
    "\n",
    "***args** specifies the number of non-keyworded arguments that can be passed and the operations that can be performed\n",
    "\n",
    "****kwargs** is a variable number of keyworded arguments that can be passed to a function that can perform dictionary operations."
   ]
  },
  {
   "cell_type": "code",
   "execution_count": 30,
   "id": "aec96cd2-6f70-4ec5-a0bb-31c345d27570",
   "metadata": {},
   "outputs": [],
   "source": [
    "def args_kwargs(normal, *args, **kwargs):\n",
    "    '''This is the function for showing the example of *args and **kwargs'''\n",
    "    print(normal)\n",
    "    for i in args:\n",
    "        print(i)\n",
    "    print(\"\\nHere my args example ends, i give multiple arguments\")\n",
    "    print(\"\\nNow I would Like to introduce some of our heroes\")\n",
    "    for key, value in kwargs.items():\n",
    "        print(f\"{key} is a {value}\")"
   ]
  },
  {
   "cell_type": "code",
   "execution_count": 17,
   "id": "b897f97b-ceb7-40d9-95c8-59c351ec4781",
   "metadata": {},
   "outputs": [
    {
     "name": "stdout",
     "output_type": "stream",
     "text": [
      "I am a normal Argument and the students are:\n",
      "Harry\n",
      "Rohan\n",
      "Skillf\n",
      "Hammad\n",
      "Shivam\n",
      "The programmer\n",
      "2\n",
      "3\n",
      "4\n",
      "\n",
      "Here my args example starts i gives multiple arguments\n",
      "\n",
      "Now I would Like to introduce some of our heroes\n",
      "Rohan is a Monitor\n",
      "Harry is a Fitness Instructor\n",
      "The Programmer is a Coordinator\n",
      "Shivam is a Cook\n"
     ]
    }
   ],
   "source": [
    "har = [\"Harry\", \"Rohan\", \"Skillf\", \"Hammad\",\n",
    "       \"Shivam\", \"The programmer\"]\n",
    "normal1 = \"I am a normal Argument and the students are:\"\n",
    "kw = {\"Rohan\": \"Monitor\", \"Harry\": \"Fitness Instructor\",\n",
    "      \"The Programmer\": \"Coordinator\", \"Shivam\": \"Cook\"}\n",
    "args_kwargs(normal1, *har, 2,3,4, **kw)"
   ]
  },
  {
   "cell_type": "markdown",
   "id": "829f5dbf-fb31-4196-92d3-de12e2a1268c",
   "metadata": {},
   "source": [
    "# Q3. What is an iterator in python? Name the method used to initialise the iterator object and the method used for iteration. Use these methods to print the first five elements of the given list [2, 4, 6, 8, 10, 12, 14, 16, 18, 20]."
   ]
  },
  {
   "cell_type": "markdown",
   "id": "4119293c-ae2c-4823-9859-76b99592eae2",
   "metadata": {},
   "source": [
    "**ANS -** Iterator in Python is an object that is used to iterate over iterable objects like lists, tuples, dicts, and sets.\n",
    "\n",
    "Iter() method is used to initialize the iterator object and next() method is used for iteration."
   ]
  },
  {
   "cell_type": "code",
   "execution_count": 34,
   "id": "0d0ab75f-68ce-413a-9cde-05a7859ec08e",
   "metadata": {},
   "outputs": [],
   "source": [
    "a = iter([2, 4, 6, 8, 10, 12, 14, 16, 18, 20])"
   ]
  },
  {
   "cell_type": "code",
   "execution_count": 35,
   "id": "bb253bf8-7813-4b93-a131-e9c397a95297",
   "metadata": {},
   "outputs": [
    {
     "name": "stdout",
     "output_type": "stream",
     "text": [
      "2\n",
      "4\n",
      "6\n",
      "8\n",
      "10\n"
     ]
    }
   ],
   "source": [
    "for i in range(5):\n",
    "    print(next(a))"
   ]
  },
  {
   "cell_type": "markdown",
   "id": "af0bb909-85ea-4e17-872e-29b6bfc0068c",
   "metadata": {},
   "source": [
    "# Q4. What is a generator function in python? Why yield keyword is used? Give an example of a generator function."
   ]
  },
  {
   "cell_type": "markdown",
   "id": "fd72ab2c-95b8-4812-b062-18b85a63d031",
   "metadata": {},
   "source": [
    "**ANS -** Generators are useful when we want to produce a large sequence of values, but we don't want to store all of them in memory at once.\n",
    "\n",
    "**yield** is a special kind of reserved keyword i.e. use to create genrators"
   ]
  },
  {
   "cell_type": "code",
   "execution_count": 29,
   "id": "ff347bac-ff37-4cb1-83e8-75dfbd52e64c",
   "metadata": {},
   "outputs": [],
   "source": [
    "def test_fib(n):\n",
    "    '''This is a function to create n numbers of fibonacci series'''\n",
    "    a, b = 0, 1\n",
    "    for i in range(n):\n",
    "        yield a # yield is a special kind of reserved keyword i.e. use to create genrators\n",
    "        \n",
    "        a, b = b, a + b  # shortcut way"
   ]
  },
  {
   "cell_type": "code",
   "execution_count": 27,
   "id": "98de2175-d9e4-4c04-bd6b-987a9c329380",
   "metadata": {},
   "outputs": [
    {
     "data": {
      "text/plain": [
       "<generator object test_fib at 0x7f33d59fd770>"
      ]
     },
     "execution_count": 27,
     "metadata": {},
     "output_type": "execute_result"
    }
   ],
   "source": [
    "test_fib(13)"
   ]
  },
  {
   "cell_type": "code",
   "execution_count": 28,
   "id": "f6ba2b66-c38c-4c3b-afe1-96bdf20dc634",
   "metadata": {},
   "outputs": [
    {
     "name": "stdout",
     "output_type": "stream",
     "text": [
      "0\n",
      "1\n",
      "1\n",
      "2\n",
      "3\n",
      "5\n",
      "8\n",
      "13\n",
      "21\n",
      "34\n"
     ]
    }
   ],
   "source": [
    "for i in test_fib(10):\n",
    "    print(i)"
   ]
  },
  {
   "cell_type": "markdown",
   "id": "931e6ca1-8588-4fc2-ad5b-43affaab0f55",
   "metadata": {},
   "source": [
    "# Q5. Create a generator function for prime numbers less than 1000. Use the next() method to print the first 20 prime numbers."
   ]
  },
  {
   "cell_type": "code",
   "execution_count": 41,
   "id": "5fca6114-1695-443f-b908-cb5d75b67516",
   "metadata": {},
   "outputs": [
    {
     "name": "stdout",
     "output_type": "stream",
     "text": [
      "2\n",
      "3\n",
      "5\n",
      "7\n",
      "11\n"
     ]
    }
   ],
   "source": [
    "prime = []\n",
    "for Number in range (1, 1001):\n",
    "    count = 0\n",
    "    for i in range(2, (Number//2 + 1)):\n",
    "        if(Number % i == 0):\n",
    "            count = count + 1\n",
    "            break\n",
    "\n",
    "    if (count == 0 and Number != 1):\n",
    "        prime.append(Number)\n",
    "        \n",
    "\n",
    "prime = iter(prime)\n",
    "for i in range(5):\n",
    "    print(next(prime))"
   ]
  },
  {
   "cell_type": "markdown",
   "id": "60c762c5-9375-47ce-a9f0-6a1ad3f3ac7d",
   "metadata": {},
   "source": [
    "# Q6. Write a python program to print the first 10 Fibonacci numbers using a while loop."
   ]
  },
  {
   "cell_type": "code",
   "execution_count": 44,
   "id": "72d5efcc-b193-40d9-9208-bec8683c8f58",
   "metadata": {},
   "outputs": [
    {
     "name": "stdout",
     "output_type": "stream",
     "text": [
      "Here are 10 Fibonacci numbers\n",
      "0\n",
      "1\n",
      "1\n",
      "2\n",
      "3\n",
      "5\n",
      "8\n",
      "13\n",
      "21\n",
      "34\n"
     ]
    }
   ],
   "source": [
    "number = 10\n",
    "first_num = 0\n",
    "second_num = 1\n",
    "counter = 0\n",
    "\n",
    "print(\"Here are 10 Fibonacci numbers\")\n",
    "while counter < number:\n",
    "    \n",
    "    print(first_num)\n",
    "    c = first_num + second_num\n",
    "    first_num = second_num\n",
    "    second_num = c\n",
    "    counter = counter + 1"
   ]
  },
  {
   "cell_type": "markdown",
   "id": "5fb70259-aea1-474c-bbcc-df3a1dcc9874",
   "metadata": {},
   "source": [
    "# Q7. Write a List Comprehension to iterate through the given string: ‘pwskills’. Expected output: ['p', 'w', 's', 'k', 'i', 'l', 'l', 's']"
   ]
  },
  {
   "cell_type": "code",
   "execution_count": 45,
   "id": "14db47bb-48e1-45aa-ab17-e44f412398bc",
   "metadata": {},
   "outputs": [
    {
     "data": {
      "text/plain": [
       "['p', 'w', 's', 'k', 'i', 'l', 'l', 's']"
      ]
     },
     "execution_count": 45,
     "metadata": {},
     "output_type": "execute_result"
    }
   ],
   "source": [
    "[i for i in 'pwskills']"
   ]
  },
  {
   "cell_type": "markdown",
   "id": "94d3ffd0-44fc-4a0f-ae6b-c18e112f8e56",
   "metadata": {},
   "source": [
    "# Q8. Write a python program to check whether a given number is Palindrome or not using a while loop."
   ]
  },
  {
   "cell_type": "code",
   "execution_count": 72,
   "id": "16398d65-74c3-490f-8691-63187a8a4d9c",
   "metadata": {},
   "outputs": [
    {
     "name": "stdin",
     "output_type": "stream",
     "text": [
      "Enter any number: 765\n"
     ]
    },
    {
     "name": "stdout",
     "output_type": "stream",
     "text": [
      "Not a palindrome!\n"
     ]
    }
   ],
   "source": [
    "num = int(input(\"Enter any number:\"))\n",
    "num1 = num\n",
    "rev = 0\n",
    "while num > 0:\n",
    "    num3 = num % 10\n",
    "    rev = rev * 10 + num3\n",
    "    num = num // 10\n",
    "\n",
    "if(num1 == rev):\n",
    "    print(F\"The {num1} number is palindrome!\")\n",
    "else:\n",
    "    print(\"Not a palindrome!\")\n",
    "    \n"
   ]
  },
  {
   "cell_type": "markdown",
   "id": "a590961c-af65-4117-968b-5a0b2aca9cde",
   "metadata": {},
   "source": [
    "# Q9. Write a code to print odd numbers from 1 to 100 using list comprehension.\n",
    "Note: Use a list comprehension to create a list from 1 to 100 and use another List comprehension to filter\n",
    "out odd numbers."
   ]
  },
  {
   "cell_type": "code",
   "execution_count": 79,
   "id": "1a75919a-34ba-4249-8130-1ae65af29db7",
   "metadata": {},
   "outputs": [
    {
     "data": {
      "text/plain": [
       "[1,\n",
       " 3,\n",
       " 5,\n",
       " 7,\n",
       " 9,\n",
       " 11,\n",
       " 13,\n",
       " 15,\n",
       " 17,\n",
       " 19,\n",
       " 21,\n",
       " 23,\n",
       " 25,\n",
       " 27,\n",
       " 29,\n",
       " 31,\n",
       " 33,\n",
       " 35,\n",
       " 37,\n",
       " 39,\n",
       " 41,\n",
       " 43,\n",
       " 45,\n",
       " 47,\n",
       " 49,\n",
       " 51,\n",
       " 53,\n",
       " 55,\n",
       " 57,\n",
       " 59,\n",
       " 61,\n",
       " 63,\n",
       " 65,\n",
       " 67,\n",
       " 69,\n",
       " 71,\n",
       " 73,\n",
       " 75,\n",
       " 77,\n",
       " 79,\n",
       " 81,\n",
       " 83,\n",
       " 85,\n",
       " 87,\n",
       " 89,\n",
       " 91,\n",
       " 93,\n",
       " 95,\n",
       " 97,\n",
       " 99]"
      ]
     },
     "execution_count": 79,
     "metadata": {},
     "output_type": "execute_result"
    }
   ],
   "source": [
    "list1 = [i for i in range(1, 101)]\n",
    "[i for i in list1 if i % 2 != 0]"
   ]
  },
  {
   "cell_type": "code",
   "execution_count": null,
   "id": "10f782ec-849d-410a-9a4a-2ac6a49263ee",
   "metadata": {},
   "outputs": [],
   "source": []
  },
  {
   "cell_type": "code",
   "execution_count": null,
   "id": "9c8db094-7974-4674-ba31-df8889b51df1",
   "metadata": {},
   "outputs": [],
   "source": []
  },
  {
   "cell_type": "code",
   "execution_count": null,
   "id": "4ab01d84-74a8-467e-9029-5908b2de73e5",
   "metadata": {},
   "outputs": [],
   "source": []
  },
  {
   "cell_type": "code",
   "execution_count": null,
   "id": "ea12267d-3c3d-48b6-9ffb-a95fe4cb00af",
   "metadata": {},
   "outputs": [],
   "source": []
  },
  {
   "cell_type": "code",
   "execution_count": null,
   "id": "c81ebabf-324b-4f78-86ce-cf441a29f606",
   "metadata": {},
   "outputs": [],
   "source": []
  },
  {
   "cell_type": "code",
   "execution_count": null,
   "id": "a08d2918-20ff-4782-a923-c86a859b4293",
   "metadata": {},
   "outputs": [],
   "source": []
  },
  {
   "cell_type": "code",
   "execution_count": null,
   "id": "97cc678c-1d8a-40a5-a303-1e02f6ec6cbc",
   "metadata": {},
   "outputs": [],
   "source": []
  },
  {
   "cell_type": "code",
   "execution_count": null,
   "id": "db561484-d7b8-4684-a030-f0cfedcfa513",
   "metadata": {},
   "outputs": [],
   "source": []
  },
  {
   "cell_type": "code",
   "execution_count": null,
   "id": "39e480e6-9ca0-4e6d-95d2-45c88f35efe6",
   "metadata": {},
   "outputs": [],
   "source": []
  },
  {
   "cell_type": "code",
   "execution_count": null,
   "id": "410a9e5f-fc7a-423b-befc-17a80d5bd826",
   "metadata": {},
   "outputs": [],
   "source": []
  },
  {
   "cell_type": "code",
   "execution_count": null,
   "id": "a6cd7001-8625-4cdf-ba90-216caf8fc851",
   "metadata": {},
   "outputs": [],
   "source": []
  },
  {
   "cell_type": "code",
   "execution_count": null,
   "id": "568fe098-ecdc-4f26-a49c-d67c48b21307",
   "metadata": {},
   "outputs": [],
   "source": []
  },
  {
   "cell_type": "code",
   "execution_count": null,
   "id": "9452b761-302e-4fcd-bee2-59db99139813",
   "metadata": {},
   "outputs": [],
   "source": []
  },
  {
   "cell_type": "code",
   "execution_count": null,
   "id": "fe841ca0-a462-45ed-a717-78ef1900e58e",
   "metadata": {},
   "outputs": [],
   "source": []
  },
  {
   "cell_type": "code",
   "execution_count": null,
   "id": "22ccfc99-dc00-40b9-9a0d-9888d78ef89c",
   "metadata": {},
   "outputs": [],
   "source": []
  }
 ],
 "metadata": {
  "kernelspec": {
   "display_name": "Python 3 (ipykernel)",
   "language": "python",
   "name": "python3"
  },
  "language_info": {
   "codemirror_mode": {
    "name": "ipython",
    "version": 3
   },
   "file_extension": ".py",
   "mimetype": "text/x-python",
   "name": "python",
   "nbconvert_exporter": "python",
   "pygments_lexer": "ipython3",
   "version": "3.10.8"
  }
 },
 "nbformat": 4,
 "nbformat_minor": 5
}
