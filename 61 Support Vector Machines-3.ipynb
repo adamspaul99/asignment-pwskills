{
 "cells": [
  {
   "cell_type": "markdown",
   "id": "f292bcb2-d495-469b-a1de-cb3f4962e2d6",
   "metadata": {},
   "source": [
    "# Support Vector Machines-3"
   ]
  },
  {
   "cell_type": "markdown",
   "id": "a617a08c-09e0-4c4f-88ee-dcfe67bde6d5",
   "metadata": {},
   "source": [
    "### Q1. In order to predict house price based on several characteristics, such as location, square footage, number of bedrooms, etc., you are developing an SVM regression model. Which regression metric in this situation would be the best to employ?\n",
    "\n",
    "Dataset link: https://drive.google.com/file/d/1Z9oLpmt6IDRNw7IeNcHYTGeJRYypRSC0/view?usp=share_link\n",
    "\n",
    "\n",
    "In order to predict house price based on several characteristics using an SVM regression model, the best regression metric to employ would be the Mean Squared Error (MSE) or the Root Mean Squared Error (RMSE). These metrics would allow us to measure the average squared difference between the predicted and actual house prices."
   ]
  },
  {
   "cell_type": "markdown",
   "id": "585073e8-a67e-4441-9df4-f6056d3fa81b",
   "metadata": {},
   "source": [
    "### Q2. You have built an SVM regression model and are trying to decide between using MSE or R-squared as your evaluation metric. Which metric would be more appropriate if your goal is to predict the actual price of a house as accurately as possible?\n",
    "\n",
    "If our goal is to predict the actual price of a house as accurately as possible using an SVM regression model, the most appropriate evaluation metric would be the Mean Squared Error (MSE). MSE measures the average squared difference between the predicted and actual house prices, which provides a good measure of the overall accuracy of the model."
   ]
  },
  {
   "cell_type": "markdown",
   "id": "9d4b403c-2b18-4f4d-a20d-ea1771e5b4d7",
   "metadata": {},
   "source": [
    "### Q3. You have a dataset with a significant number of outliers and are trying to select an appropriate regression metric to use with your SVM model. Which metric would be the most appropriate in this scenario?\n",
    "\n",
    "If we have a dataset with a significant number of outliers and are trying to select an appropriate regression metric to use with our SVM model, the most appropriate metric would be the Mean Absolute Error (MAE). MAE is less sensitive to outliers than other regression metrics like MSE or RMSE, as it measures the average absolute difference between the predicted and actual house prices."
   ]
  },
  {
   "cell_type": "markdown",
   "id": "d6c6b6ab-e77b-4878-a5a7-01861e439734",
   "metadata": {},
   "source": [
    "### Q4. You have built an SVM regression model using a polynomial kernel and are trying to select the best metric to evaluate its performance. You have calculated both MSE and RMSE and found that both values are very close. Which metric should you choose to use in this case?\n",
    "If we have built an SVM regression model using a polynomial kernel and are trying to select the best metric to evaluate its performance, we should choose to use the Mean Squared Error (MSE). Although both MSE and RMSE provide similar information, MSE is easier to interpret and use for comparing the performance of different models."
   ]
  },
  {
   "cell_type": "markdown",
   "id": "af31ed04-eceb-4a1f-becf-20b84d2593e5",
   "metadata": {},
   "source": [
    "### Q5. You are comparing the performance of different SVM regression models using different kernels (linear, polynomial, and RBF) and are trying to select the best evaluation metric. Which metric would be most appropriate if your goal is to measure how well the model explains the variance in the target variable?\n",
    "\n",
    "If we are comparing the performance of different SVM regression models using different kernels (linear, polynomial, and RBF) and are trying to select the best evaluation metric, the most appropriate metric would be the coefficient of determination (R-squared). R-squared measures the proportion of the variance in the target variable that can be explained by the independent variables, providing a good measure of how well the model explains the variance in the data."
   ]
  }
 ],
 "metadata": {
  "kernelspec": {
   "display_name": "Python 3 (ipykernel)",
   "language": "python",
   "name": "python3"
  },
  "language_info": {
   "codemirror_mode": {
    "name": "ipython",
    "version": 3
   },
   "file_extension": ".py",
   "mimetype": "text/x-python",
   "name": "python",
   "nbconvert_exporter": "python",
   "pygments_lexer": "ipython3",
   "version": "3.10.8"
  }
 },
 "nbformat": 4,
 "nbformat_minor": 5
}
