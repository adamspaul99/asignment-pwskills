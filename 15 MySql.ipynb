{
 "cells": [
  {
   "cell_type": "markdown",
   "id": "f603f006-05c8-4e21-8372-e20307a5365b",
   "metadata": {
    "tags": []
   },
   "source": [
    "## Q1. What is a database? Differentiate between SQL and NoSQL databases."
   ]
  },
  {
   "cell_type": "markdown",
   "id": "b881c788-2224-4138-95aa-93d6df55360f",
   "metadata": {},
   "source": [
    "**Database --** A database is a collection of data that is organized in a way that allows easy retrieval, management, and updating of the data. It is an essential component of modern computer systems, and it is used to store and manage various types of data, such as customer information, sales data, and inventory records, among others."
   ]
  },
  {
   "cell_type": "markdown",
   "id": "c559b6dd-f32b-4fbf-b903-6c7f7dd39bae",
   "metadata": {},
   "source": [
    "There are two main types of databases: SQL (Structured Query Language) and NoSQL (Not Only SQL). The main differences between the two types are:\n",
    "\n",
    "1. Data structure: SQL databases are based on the relational model, which means that data is stored in tables with predefined relationships between them. NoSQL databases, on the other hand, are based on a variety of data models, including document-oriented, key-value, and graph-based.\n",
    "\n",
    "2. Query language: SQL databases use the SQL language to interact with the data, while NoSQL databases use a variety of query languages depending on the data model.\n",
    "\n",
    "3. Scalability: NoSQL databases are designed to be highly scalable and can handle large amounts of data across multiple servers, while SQL databases can be more limited in terms of scalability.\n",
    "\n",
    "4. Flexibility: NoSQL databases are generally more flexible than SQL databases because they can handle unstructured and semi-structured data more easily.\n",
    "\n",
    "5. Data consistency: SQL databases are generally better at enforcing data consistency, while NoSQL databases can sometimes have eventual consistency, which means that changes to the data may take some time to propagate across all nodes in a distributed system."
   ]
  },
  {
   "cell_type": "markdown",
   "id": "306751db-40ed-4a11-a12a-e34180b610f8",
   "metadata": {},
   "source": [
    "## Q2. What is DDL? Explain why CREATE, DROP, ALTER, and TRUNCATE are used with an example."
   ]
  },
  {
   "cell_type": "markdown",
   "id": "b962a3ff-7f50-4321-91e3-7ae74fe313d9",
   "metadata": {},
   "source": [
    "**DDL --** DDL stands for Data Definition Language, which is a category of SQL commands that are used to define and manipulate the structure of a database."
   ]
  },
  {
   "cell_type": "markdown",
   "id": "425ed31e-f99c-4ec6-b596-d447aa159846",
   "metadata": {},
   "source": [
    "1. CREATE: The CREATE command is used to create a new database object such as a table, view, or procedure"
   ]
  },
  {
   "cell_type": "code",
   "execution_count": null,
   "id": "26e71f55-a2ae-4487-8cca-cd0dccde6a63",
   "metadata": {},
   "outputs": [],
   "source": [
    "CREATE TABLE customers (\n",
    "    id INT PRIMARY KEY,\n",
    "    name VARCHAR(50) NOT NULL,\n",
    "    email VARCHAR(100) UNIQUE\n",
    ");\n"
   ]
  },
  {
   "cell_type": "markdown",
   "id": "cb9e57c7-9b00-4efd-acff-fccfeb63b94d",
   "metadata": {},
   "source": [
    "2. DROP: The DROP command is used to delete a database object such as a table, view, or procedure"
   ]
  },
  {
   "cell_type": "code",
   "execution_count": null,
   "id": "43edcccd-2b79-4c32-b432-de82efd8b4d6",
   "metadata": {},
   "outputs": [],
   "source": [
    "DROP TABLE customers;\n"
   ]
  },
  {
   "cell_type": "markdown",
   "id": "1591cce1-7bf6-4c7b-adde-fac517f23681",
   "metadata": {},
   "source": [
    "3. ALTER: The ALTER command is used to modify the structure of an existing database object such as a table or view."
   ]
  },
  {
   "cell_type": "code",
   "execution_count": null,
   "id": "5cffec97-5206-4a92-8195-c9c1e6a6b51c",
   "metadata": {},
   "outputs": [],
   "source": [
    "ALTER TABLE customers ADD phone VARCHAR(20);\n"
   ]
  },
  {
   "cell_type": "markdown",
   "id": "3d4a82f4-a578-4d12-a4a1-633604b6d2d1",
   "metadata": {},
   "source": [
    "4. TRUNCATE: The TRUNCATE command is used to delete all the data from a table while keeping the structure of the table intact."
   ]
  },
  {
   "cell_type": "code",
   "execution_count": null,
   "id": "bd4b3df3-1a0a-4045-b427-b9fa81e94514",
   "metadata": {},
   "outputs": [],
   "source": [
    "TRUNCATE TABLE customers;\n"
   ]
  },
  {
   "cell_type": "markdown",
   "id": "0aacc4db-e1d7-4a65-9087-3840b466e1e1",
   "metadata": {},
   "source": [
    "## Q3. What is DML? Explain INSERT, UPDATE, and DELETE with an example."
   ]
  },
  {
   "cell_type": "markdown",
   "id": "06e1d1f3-b356-4037-96db-b79c52f2d296",
   "metadata": {},
   "source": [
    "**DML --** DML stands for Data Manipulation Language, which is a subset of SQL (Structured Query Language) used to modify the data stored in a database."
   ]
  },
  {
   "cell_type": "markdown",
   "id": "bc22eca3-b2da-4529-8fe6-335692c5f78e",
   "metadata": {},
   "source": [
    "1. INSERT:\n",
    "The INSERT command is used to add new data to a table. The syntax for the INSERT command is"
   ]
  },
  {
   "cell_type": "code",
   "execution_count": null,
   "id": "d82778f9-cbab-4db3-982a-87e8951e46f5",
   "metadata": {},
   "outputs": [],
   "source": [
    "INSERT INTO students (name, age, grade)\n",
    "VALUES ('John', 18, 'A');\n"
   ]
  },
  {
   "cell_type": "markdown",
   "id": "99229239-4fdb-4231-afae-4ead0752f1df",
   "metadata": {},
   "source": [
    "2. UPDATE:\n",
    "The UPDATE command is used to modify existing data in a table. The syntax for the UPDATE command is:"
   ]
  },
  {
   "cell_type": "code",
   "execution_count": null,
   "id": "288b70d3-c9e8-4f43-b911-08a45db16cd4",
   "metadata": {},
   "outputs": [],
   "source": [
    "UPDATE students\n",
    "SET grade = 'B'\n",
    "WHERE name = 'John';\n"
   ]
  },
  {
   "cell_type": "markdown",
   "id": "86e81dae-42f9-4afe-b406-e924df359066",
   "metadata": {},
   "source": [
    "3. DELETE:\n",
    "The DELETE command is used to remove data from a table. The syntax for the DELETE command is:"
   ]
  },
  {
   "cell_type": "code",
   "execution_count": null,
   "id": "80ad9025-796e-452b-b8fb-0041d166ceec",
   "metadata": {},
   "outputs": [],
   "source": [
    "DELETE FROM students\n",
    "WHERE name = 'John';\n"
   ]
  },
  {
   "cell_type": "markdown",
   "id": "57a7deda-e801-43af-aea0-48515e74f800",
   "metadata": {},
   "source": [
    "## Q4. What is DQL? Explain SELECT with an example."
   ]
  },
  {
   "cell_type": "markdown",
   "id": "541c9c6f-17c6-4845-8a99-cc0e1718ff51",
   "metadata": {},
   "source": [
    "**DQL --** DQL stands for Data Query Language, and it is a subset of SQL (Structured Query Language) used to retrieve data from a database."
   ]
  },
  {
   "cell_type": "markdown",
   "id": "83579237-88f8-45d4-81a9-7e64298838a7",
   "metadata": {},
   "source": [
    "**SELECT --** SELECT is a statement used in DQL to retrieve data from one or more tables in a database. It allows you to specify the columns you want to retrieve, the tables you want to retrieve them from, and any conditions that should be met before the data is returned."
   ]
  },
  {
   "cell_type": "code",
   "execution_count": null,
   "id": "916ef419-8c8a-44c4-a65e-d12658d3f08b",
   "metadata": {},
   "outputs": [],
   "source": [
    "SELECT name, age \n",
    "FROM customers \n",
    "WHERE age > 30;\n"
   ]
  },
  {
   "cell_type": "markdown",
   "id": "1d3333f6-82fe-4876-b69f-1803aafe3f0a",
   "metadata": {},
   "source": [
    "## Q5. Explain Primary Key and Foreign Key."
   ]
  },
  {
   "cell_type": "markdown",
   "id": "3f24a500-e1af-475e-9d3e-71b072fe0f53",
   "metadata": {},
   "source": [
    "**Primary Key --** A primary key is a field or a set of fields in a database table that uniquely identifies each record in the table. It is used to enforce data integrity by ensuring that there are no duplicate records in the table"
   ]
  },
  {
   "cell_type": "markdown",
   "id": "0863e82c-6192-478d-b9ac-94a4f687b075",
   "metadata": {},
   "source": [
    "**Foreign Key --** A foreign key, on the other hand, is a field or a set of fields in a database table that refers to the primary key of another table. It is used to establish a relationship between two tables, where one table (the \"child\" table) references another table (the \"parent\" table)."
   ]
  },
  {
   "cell_type": "markdown",
   "id": "a2780c24-d679-4872-b842-ef3b029cade3",
   "metadata": {},
   "source": [
    "## Q6. Write a python code to connect MySQL to python. Explain the cursor() and execute() method."
   ]
  },
  {
   "cell_type": "code",
   "execution_count": null,
   "id": "ef695a7b-e76d-4ca7-8cc8-d31fb9272c1c",
   "metadata": {},
   "outputs": [],
   "source": [
    "import mysql.connector\n",
    "mydb = mysql.connector.connect(\n",
    "  host=\"localhost\",\n",
    "  user=\"abc\",\n",
    "  password=\"password\"\n",
    ")\n",
    "mycursor = mydb.cursor()\n",
    "# mycursor.execute(\"select * from test2.test_table\")\n",
    "mycursor.execute(\"select c1, c5 from test2.test_table\")\n",
    "for i in mycursor.fetchall():\n",
    "    print(i)\n",
    "mydb.close()"
   ]
  },
  {
   "cell_type": "markdown",
   "id": "450a9355-3abc-4166-8034-aa88083ee64c",
   "metadata": {},
   "source": [
    "**cursor() and execute() --** The cursor() method creates a cursor object, which is used to execute SQL queries on the database. The execute() method is used to execute an SQL query. The query can contain parameters, which can be passed as a tuple."
   ]
  },
  {
   "cell_type": "markdown",
   "id": "4ecb3b56-f56e-40cb-8c75-1add9ec0fc15",
   "metadata": {},
   "source": [
    "## Q7. Give the order of execution of SQL clauses in an SQL query."
   ]
  },
  {
   "cell_type": "markdown",
   "id": "c300c088-2393-4371-9dca-2219864db2c4",
   "metadata": {},
   "source": [
    "In SQL, the order of execution of clauses in a query is as follows:\n",
    "\n",
    "1. FROM: This clause specifies the table or tables from which the data will be selected.\n",
    "\n",
    "2. JOIN: If multiple tables are used in the query, the JOIN clause is used to combine the data from the tables.\n",
    "\n",
    "3. WHERE: The WHERE clause is used to filter the data based on specified conditions.\n",
    "\n",
    "4. GROUP BY: If the query involves grouping of data, the GROUP BY clause is used to group the data based on specified columns.\n",
    "\n",
    "5. HAVING: The HAVING clause is used to filter the grouped data based on specified conditions.\n",
    "\n",
    "6. SELECT: The SELECT clause is used to select the columns to be displayed in the query results.\n",
    "\n",
    "7. DISTINCT: The DISTINCT keyword is used to remove duplicate rows from the query results.\n",
    "\n",
    "8. ORDER BY: The ORDER BY clause is used to sort the query results based on specified columns.\n",
    "\n",
    "9. LIMIT/OFFSET: The LIMIT clause is used to limit the number of rows returned in the query results, while the OFFSET clause is used to skip a specified number of rows in the query results."
   ]
  }
 ],
 "metadata": {
  "kernelspec": {
   "display_name": "Python 3 (ipykernel)",
   "language": "python",
   "name": "python3"
  },
  "language_info": {
   "codemirror_mode": {
    "name": "ipython",
    "version": 3
   },
   "file_extension": ".py",
   "mimetype": "text/x-python",
   "name": "python",
   "nbconvert_exporter": "python",
   "pygments_lexer": "ipython3",
   "version": "3.10.8"
  }
 },
 "nbformat": 4,
 "nbformat_minor": 5
}
