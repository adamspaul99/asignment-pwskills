{
 "cells": [
  {
   "cell_type": "markdown",
   "id": "d92567a0-96d3-4ab4-b25c-fd633a2de57a",
   "metadata": {},
   "source": [
    "## Q1. Explain the assumptions required to use ANOVA and provide examples of violations that could impact the validity of the results.\n",
    "\n",
    "ANOVA assumes that the samples being compared are independent, normally distributed, and have equal variances. Violations of these assumptions could impact the validity of the results. For example, violations of the independence assumption could occur if there is some form of dependence between the samples being compared, such as in a repeated measures design. Violations of the normality assumption could occur if the data are heavily skewed or have outliers. Violations of the equal variance assumption could occur if the variances of the samples being compared are significantly different from each other."
   ]
  },
  {
   "cell_type": "markdown",
   "id": "ab132b96-cdab-4fb7-93f5-0b49b05a198a",
   "metadata": {},
   "source": [
    "## Q2. What are the three types of ANOVA, and in what situations would each be used?\n",
    "\n",
    "The three types of ANOVA are one-way ANOVA, factorial ANOVA, and repeated measures ANOVA. One-way ANOVA is used when there is only one independent variable. Factorial ANOVA is used when there are two or more independent variables, and their effects on the dependent variable are of interest. Repeated measures ANOVA is used when the same subjects are measured under different conditions."
   ]
  },
  {
   "cell_type": "markdown",
   "id": "0ca59938-f17d-45c8-bae1-09b89f3601c0",
   "metadata": {},
   "source": [
    "## Q3. What is the partitioning of variance in ANOVA, and why is it important to understand this concept?\n",
    "\n",
    "The partitioning of variance in ANOVA refers to the division of the total variance in the data into different sources of variation, such as the variation between groups and the variation within groups. Understanding this concept is important because it allows us to quantify the amount of variability in the data that can be attributed to different sources of variation and to test whether these sources of variation are statistically significant.\n",
    "\n"
   ]
  },
  {
   "cell_type": "markdown",
   "id": "f53747a3-9842-485f-be3d-25aa1c1e098b",
   "metadata": {},
   "source": [
    "## Q4. How would you calculate the total sum of squares (SST), explained sum of squares (SSE), and residual sum of squares (SSR) in a one-way ANOVA using Python?\n",
    "\n",
    "import pandas as pd\n",
    "import statsmodels.api as sm\n",
    "from statsmodels.formula.api import ols\n",
    "\n",
    "# Read in the data\n",
    "data = pd.read_csv(\"data.csv\")\n",
    "\n",
    "# Fit the one-way ANOVA model\n",
    "model = ols(\"y ~ group\", data=data).fit()\n",
    "\n",
    "# Calculate the sum of squares\n",
    "anova_table = sm.stats.anova_lm(model, typ=2)\n",
    "SST = anova_table[\"sum_sq\"][\"group\"] + anova_table[\"sum_sq\"][\"Residual\"]\n",
    "SSE = anova_table[\"sum_sq\"][\"group\"]\n",
    "SSR = anova_table[\"sum_sq\"][\"Residual\"]\n"
   ]
  },
  {
   "cell_type": "markdown",
   "id": "fc277349-b280-4bfd-9e1f-378aff0c789c",
   "metadata": {},
   "source": [
    "## Q5. In a two-way ANOVA, how would you calculate the main effects and interaction effects using Python?\n",
    "\n",
    "import pandas as pd\n",
    "import statsmodels.api as sm\n",
    "from statsmodels.formula.api import ols\n",
    "\n",
    "# Read in the data\n",
    "data = pd.read_csv(\"data.csv\")\n",
    "\n",
    "# Fit the two-way ANOVA model\n",
    "model = ols(\"y ~ A + B + A:B\", data=data).fit()\n",
    "\n",
    "# Calculate the main effects\n",
    "main_effects = model.params[[\"A\", \"B\"]]\n",
    "\n",
    "# Calculate the interaction effect\n",
    "interaction_effect = model.params[\"A:B\"]\n"
   ]
  },
  {
   "cell_type": "markdown",
   "id": "5f72ca12-42cb-46b6-a79d-98cb10e022f0",
   "metadata": {},
   "source": [
    "## Q6. Suppose you conducted a one-way ANOVA and obtained an F-statistic of 5.23 and a p-value of 0.02. What can you conclude about the differences between the groups, and how would you interpret these results?\n",
    "\n",
    "If the F-statistic is significant and the p-value is less than the alpha level (usually 0.05), we can conclude that there are significant differences between the groups. In this case, we can reject the null hypothesis that the means of the groups are equal. The F-statistic tells us the ratio of the variation between groups to the variation within groups. A high F-statistic and a low p-value indicate that the variation between groups is much larger than the variation within groups, suggesting that there are significant differences between the means of the groups"
   ]
  },
  {
   "cell_type": "markdown",
   "id": "1dcf762a-c7a0-4877-b6bc-f83afa2f8a32",
   "metadata": {},
   "source": [
    "## Q7. In a repeated measures ANOVA, how would you handle missing data, and what are the potential consequences of using different methods to handle missing data?\n",
    "\n",
    "When handling missing data in repeated measures ANOVA, the most commonly used method is the pairwise deletion or listwise deletion method. This method involves removing any observations with missing values on any of the variables used in the analysis. Another method is the imputation method, where missing values are replaced with estimated values based on observed data."
   ]
  },
  {
   "cell_type": "markdown",
   "id": "35000a75-17f8-400e-a737-fa2c91bcdf2e",
   "metadata": {},
   "source": [
    "## Q8. What are some common post-hoc tests used after ANOVA, and when would you use each one? Provide an example of a situation where a post-hoc test might be necessary.\n",
    "\n",
    "Some common post-hoc tests used after ANOVA are Tukey's Honestly Significant Difference (HSD) test, Bonferroni correction, Scheffe's test, and Fisher's Least Significant Difference (LSD) test. These tests are used to determine which groups differ significantly from each other after finding a significant main effect in the ANOVA.\n",
    "\n",
    "For example, if we conduct an ANOVA to compare the mean weight loss of three diets, and find a significant main effect, we can then use a post-hoc test to determine which specific diets led to significant differences in weight loss. This can help us identify which diet may be most effective for weight loss."
   ]
  },
  {
   "cell_type": "markdown",
   "id": "83627e94-6673-4936-8d3e-eea7df01cb90",
   "metadata": {},
   "source": [
    "## Q9. A researcher wants to compare the mean weight loss of three diets: A, B, and C. They collect data from 50 participants who were randomly assigned to one of the diets. Conduct a one-way ANOVA using Python to determine if there are any significant differences between the mean weight loss of the three diets. Report the F-statistic and p-value, and interpret the results.\n",
    "\n",
    "import pandas as pd\n",
    "import scipy.stats as stats\n",
    "\n",
    "data = pd.read_csv('data.csv')\n",
    "\n",
    "# Conduct one-way ANOVA assuming that our data have these three columns\n",
    "f_stat, p_val = stats.f_oneway(data['diet_A'], data['diet_B'], data['diet_C'])\n",
    "\n",
    "# Report results\n",
    "print('F-statistic:', f_stat)\n",
    "print('p-value:', p_val)\n",
    "\n",
    "# Interpret results\n",
    "if p_val < 0.05:\n",
    "    print('There is a significant difference in mean weight loss between the three diets.')\n",
    "else:\n",
    "    print('There is no significant difference in mean weight loss between the three diets.')\n"
   ]
  },
  {
   "cell_type": "markdown",
   "id": "ab3118a7-9acc-4153-a8ff-b6bed01ed059",
   "metadata": {},
   "source": [
    "## Q10. A company wants to know if there are any significant differences in the average time it takes to complete a task using three different software programs: Program A, Program B, and Program C. They randomly assign 30 employees to one of the programs and record the time it takes each employee to complete the task. Conduct a two-way ANOVA using Python to determine if there are any main effects or interaction effects between the software programs and employee experience level (novice vs. experienced). Report the F-statistics and p-values, and interpret the results.\n"
   ]
  },
  {
   "cell_type": "code",
   "execution_count": 1,
   "id": "2371ca17-e88e-4637-8a39-534933331c51",
   "metadata": {},
   "outputs": [
    {
     "name": "stdout",
     "output_type": "stream",
     "text": [
      "                                               sum_sq    df             F  \\\n",
      "C(software_program)                      6.000000e+03   2.0  1.006390e+03   \n",
      "C(experience_level)                      1.960000e+01   1.0  6.575080e+00   \n",
      "C(software_program):C(experience_level)  4.349898e-28   2.0  7.296155e-29   \n",
      "Residual                                 2.504000e+02  84.0           NaN   \n",
      "\n",
      "                                               PR(>F)  \n",
      "C(software_program)                      2.063068e-59  \n",
      "C(experience_level)                      1.212087e-02  \n",
      "C(software_program):C(experience_level)  1.000000e+00  \n",
      "Residual                                          NaN  \n"
     ]
    }
   ],
   "source": [
    "import pandas as pd\n",
    "import statsmodels.api as sm\n",
    "from statsmodels.formula.api import ols\n",
    "\n",
    "# Create a dataframe with the data\n",
    "df = pd.DataFrame({\n",
    "    'software_program': ['A']*30 + ['B']*30 + ['C']*30,\n",
    "    'experience_level': ['novice']*15 + ['experienced']*15 + ['novice']*15 + ['experienced']*15 + ['novice']*15 + ['experienced']*15,\n",
    "    'completion_time': [10, 11, 9, 12, 11, 13, 14, 15, 12, 13, 10, 11, 9, 12, 11, 13, 14, 15, 12, 13, 10, 11, 9, 12, 11, 13, 14, 15, 12, 13,\n",
    "                        20, 21, 19, 22, 21, 23, 24, 25, 22, 23, 20, 21, 19, 22, 21, 23, 24, 25, 22, 23, 20, 21, 19, 22, 21, 23, 24, 25, 22, 23,\n",
    "                        30, 31, 29, 32, 31, 33, 34, 35, 32, 33, 30, 31, 29, 32, 31, 33, 34, 35, 32, 33, 30, 31, 29, 32, 31, 33, 34, 35, 32, 33]\n",
    "})\n",
    "\n",
    "# Fit a two-way ANOVA model with interaction\n",
    "model = ols('completion_time ~ C(software_program) + C(experience_level) + C(software_program):C(experience_level)', data=df).fit()\n",
    "\n",
    "# Print the ANOVA table\n",
    "print(sm.stats.anova_lm(model, typ=2))\n"
   ]
  },
  {
   "cell_type": "markdown",
   "id": "071926c8-ec56-4cda-a2b9-8430c92b8646",
   "metadata": {},
   "source": [
    "## Q11. An educational researcher is interested in whether a new teaching method improves student test scores. They randomly assign 100 students to either the control group (traditional teaching method) or the experimental group (new teaching method) and administer a test at the end of the semester. Conduct a two-sample t-test using Python to determine if there are any significant differences in test scores between the two groups. If the results are significant, follow up with a post-hoc test to determine which group(s) differ significantly from each other.\n"
   ]
  },
  {
   "cell_type": "code",
   "execution_count": 2,
   "id": "eecff33b-c287-4c0e-9eea-c493ced5bb0f",
   "metadata": {},
   "outputs": [
    {
     "name": "stdout",
     "output_type": "stream",
     "text": [
      "t = -2.69, p = 0.0093\n"
     ]
    }
   ],
   "source": [
    "import numpy as np\n",
    "from scipy.stats import ttest_ind\n",
    "\n",
    "# Create arrays with the data\n",
    "control_scores = np.array([80, 75, 85, 90, 70, 80, 75, 85, 90, 70, 80, 75, 85, 90, 70, 80, 75, 85, 90, 70, 80, 75, 85, 90, 70, 80, 75, 85, 90, 70])\n",
    "experimental_scores = np.array([85, 90, 80, 75, 95, 85, 90, 80, 75, 95, 85, 90, 80, 75, 95, 85, 90, 80, 75, 95, 85, 90, 80, 75, 95, 85, 90, 80, 75, 95])\n",
    "\n",
    "# Conduct a two-sample t-test\n",
    "t, p = ttest_ind(control_scores, experimental_scores)\n",
    "\n",
    "# Print the t-statistic and p-value\n",
    "print(f\"t = {t:.2f}, p = {p:.4f}\")\n"
   ]
  },
  {
   "cell_type": "markdown",
   "id": "8c3c4c90-ef90-4966-b7e4-47a0421cc888",
   "metadata": {},
   "source": [
    "The results are significant (p < 0.05), indicating that there is a significant difference in test scores between the control and experimental groups. To determine which group(s) differ significantly from each other, we can conduct a post-hoc test such as Tukey's HSD test"
   ]
  },
  {
   "cell_type": "markdown",
   "id": "3d0e6475-cb7a-40ea-a033-b8f5ab13c0ce",
   "metadata": {},
   "source": [
    "## Q12. A researcher wants to know if there are any significant differences in the average daily sales of three retail stores: Store A, Store B, and Store C. They randomly select 30 days and record the sales for each store on those days. Conduct a repeated measures ANOVA using Python to determine if there are any significant differences in sales between the three stores. If the results are significant, follow up with a post- hoc test to determine which store(s) differ significantly from each other."
   ]
  },
  {
   "cell_type": "code",
   "execution_count": 1,
   "id": "6bde49ad-a869-4e77-8f1d-cb340422603f",
   "metadata": {},
   "outputs": [],
   "source": [
    "import pandas as pd\n",
    "import numpy as np\n",
    "import statsmodels.api as sm\n",
    "from statsmodels.formula.api import ols\n",
    "from statsmodels.stats.multicomp import pairwise_tukeyhsd\n"
   ]
  },
  {
   "cell_type": "code",
   "execution_count": 3,
   "id": "e93ca95e-023a-44b4-ab65-fed1ee32abf3",
   "metadata": {},
   "outputs": [],
   "source": [
    "data = pd.DataFrame({'store': ['A']*30 + ['B']*30 + ['C']*30,\n",
    "                     'day': np.tile(np.arange(1, 31), 3),\n",
    "                     'sales': np.random.randint(100, 1000, size=90)})\n"
   ]
  },
  {
   "cell_type": "code",
   "execution_count": 4,
   "id": "049a9480-0cb0-422c-99ae-a5c0c0ad9c62",
   "metadata": {},
   "outputs": [],
   "source": [
    "model = ols('sales ~ C(store) + C(day)', data=data).fit()\n",
    "anova_table = sm.stats.anova_lm(model, typ=2)\n"
   ]
  },
  {
   "cell_type": "code",
   "execution_count": 5,
   "id": "904fee8c-525c-4edd-8654-b121f789a7cb",
   "metadata": {},
   "outputs": [
    {
     "name": "stdout",
     "output_type": "stream",
     "text": [
      "                sum_sq    df         F    PR(>F)\n",
      "C(store)  3.054942e+04   2.0  0.215529  0.806758\n",
      "C(day)    2.051401e+06  29.0  0.998126  0.488006\n",
      "Residual  4.110505e+06  58.0       NaN       NaN\n"
     ]
    }
   ],
   "source": [
    "print(anova_table)\n"
   ]
  },
  {
   "cell_type": "code",
   "execution_count": 6,
   "id": "1ccf3a41-3b37-49be-b27c-b4261e3b2f15",
   "metadata": {},
   "outputs": [
    {
     "name": "stdout",
     "output_type": "stream",
     "text": [
      "  Multiple Comparison of Means - Tukey HSD, FWER=0.05  \n",
      "=======================================================\n",
      "group1 group2 meandiff p-adj    lower    upper   reject\n",
      "-------------------------------------------------------\n",
      "     A      B  16.3333 0.9693 -147.5165 180.1831  False\n",
      "     A      C -28.2667  0.911 -192.1165 135.5831  False\n",
      "     B      C    -44.6 0.7934 -208.4498 119.2498  False\n",
      "-------------------------------------------------------\n"
     ]
    }
   ],
   "source": [
    "posthoc = pairwise_tukeyhsd(data['sales'], data['store'], alpha=0.05)\n",
    "print(posthoc)\n"
   ]
  }
 ],
 "metadata": {
  "kernelspec": {
   "display_name": "Python 3 (ipykernel)",
   "language": "python",
   "name": "python3"
  },
  "language_info": {
   "codemirror_mode": {
    "name": "ipython",
    "version": 3
   },
   "file_extension": ".py",
   "mimetype": "text/x-python",
   "name": "python",
   "nbconvert_exporter": "python",
   "pygments_lexer": "ipython3",
   "version": "3.10.8"
  }
 },
 "nbformat": 4,
 "nbformat_minor": 5
}
