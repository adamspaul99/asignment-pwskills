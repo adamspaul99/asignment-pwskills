{
 "cells": [
  {
   "cell_type": "markdown",
   "id": "0cf7b461-1b27-46fd-b1b8-3a402cb5abe8",
   "metadata": {},
   "source": [
    "# Naïve bayes-1"
   ]
  },
  {
   "cell_type": "markdown",
   "id": "0c0bbabd-237a-4b17-aa21-03285c1a26ff",
   "metadata": {},
   "source": [
    "### Q1. What is Bayes' theorem?\n",
    " Bayes' theorem is a mathematical formula that describes the relationship between the probability of an event occurring given certain prior knowledge and the probability of that prior knowledge given the occurrence of the event."
   ]
  },
  {
   "cell_type": "markdown",
   "id": "673e14b4-3c24-465d-87f6-75ef48840d60",
   "metadata": {},
   "source": [
    "### Q2. What is the formula for Bayes' theorem?\n",
    "The formula for Bayes' theorem is:\n",
    "\n",
    "P(A|B) = P(B|A) * P(A) / P(B)\n",
    "\n",
    "where P(A|B) is the probability of event A given event B, P(B|A) is the probability of event B given event A, P(A) is the prior probability of event A, and P(B) is the prior probability of event B."
   ]
  },
  {
   "cell_type": "markdown",
   "id": "a24a1ccc-4615-4c3a-ad7d-6e64fddcaf67",
   "metadata": {},
   "source": [
    "### Q3. How is Bayes' theorem used in practice?\n",
    "Bayes' theorem is used in various fields such as machine learning, statistics, and data science to make predictions, estimate probabilities, and update beliefs based on new evidence."
   ]
  },
  {
   "cell_type": "markdown",
   "id": "56f9e867-58dc-49ab-970f-a8b1e38d77c1",
   "metadata": {},
   "source": [
    "### Q4. What is the relationship between Bayes' theorem and conditional probability?\n",
    "Bayes' theorem is based on conditional probability, as it describes the probability of an event A given the occurrence of event B, taking into account prior knowledge or evidence."
   ]
  },
  {
   "cell_type": "markdown",
   "id": "8873665e-c937-4018-82a7-86105ee0515c",
   "metadata": {},
   "source": [
    "### Q5. How do you choose which type of Naive Bayes classifier to use for any given problem?\n",
    "The type of Naive Bayes classifier to use depends on the nature of the problem and the type of data available. The three main types of Naive Bayes classifiers are Gaussian Naive Bayes, Multinomial Naive Bayes, and Bernoulli Naive Bayes, each suited for different types of data and problem scenarios"
   ]
  }
 ],
 "metadata": {
  "kernelspec": {
   "display_name": "Python 3 (ipykernel)",
   "language": "python",
   "name": "python3"
  },
  "language_info": {
   "codemirror_mode": {
    "name": "ipython",
    "version": 3
   },
   "file_extension": ".py",
   "mimetype": "text/x-python",
   "name": "python",
   "nbconvert_exporter": "python",
   "pygments_lexer": "ipython3",
   "version": "3.10.8"
  }
 },
 "nbformat": 4,
 "nbformat_minor": 5
}
