{
 "cells": [
  {
   "cell_type": "markdown",
   "id": "0cf7b461-1b27-46fd-b1b8-3a402cb5abe8",
   "metadata": {},
   "source": [
    "# Naïve bayes-1"
   ]
  },
  {
   "cell_type": "markdown",
   "id": "0c0bbabd-237a-4b17-aa21-03285c1a26ff",
   "metadata": {},
   "source": [
    "### Q1. What is Bayes' theorem?\n",
    "Bayes' theorem is a mathematical formula that describes the probability of an event, based on prior knowledge of conditions that might be related to the event. It is named after Reverend Thomas Bayes, an 18th-century British statistician."
   ]
  },
  {
   "cell_type": "markdown",
   "id": "673e14b4-3c24-465d-87f6-75ef48840d60",
   "metadata": {},
   "source": [
    "### Q2. What is the formula for Bayes' theorem?\n",
    "Bayes' theorem can be written as follows:\n",
    "\n",
    "P(A|B) = P(B|A) * P(A) / P(B)\n",
    "\n",
    "where A and B are events, P(A|B) is the conditional probability of A given B, P(B|A) is the conditional probability of B given A, P(A) is the prior probability of A, and P(B) is the prior probability of B."
   ]
  },
  {
   "cell_type": "markdown",
   "id": "a24a1ccc-4615-4c3a-ad7d-6e64fddcaf67",
   "metadata": {},
   "source": [
    "### Q3. How is Bayes' theorem used in practice?\n",
    "Bayes' theorem has numerous applications in many fields, including statistics, data science, machine learning, artificial intelligence, medical diagnosis, spam filtering, and more. In practice, Bayes' theorem is used to update beliefs or probabilities based on new evidence or data, and to make predictions or decisions based on those probabilities."
   ]
  },
  {
   "cell_type": "markdown",
   "id": "56f9e867-58dc-49ab-970f-a8b1e38d77c1",
   "metadata": {},
   "source": [
    "### Q4. What is the relationship between Bayes' theorem and conditional probability?\n",
    "What is the relationship between Bayes' theorem and conditional probability?\n",
    "Bayes' theorem is based on conditional probability, which is the probability of an event occurring given that another event has already occurred. Bayes' theorem provides a way to calculate the conditional probability of one event given another event and some prior knowledge or information."
   ]
  },
  {
   "cell_type": "markdown",
   "id": "8873665e-c937-4018-82a7-86105ee0515c",
   "metadata": {},
   "source": [
    "### Q5. How do you choose which type of Naive Bayes classifier to use for any given problem?\n",
    "How do you choose which type of Naive Bayes classifier to use for any given problem?\n",
    "The choice of Naive Bayes classifier depends on the nature of the problem and the type of data available. There are three main types of Naive Bayes classifiers: Gaussian Naive Bayes, Multinomial Naive Bayes, and Bernoulli Naive Bayes. Gaussian Naive Bayes is suitable for continuous data, Multinomial Naive Bayes is suitable for discrete data, and Bernoulli Naive Bayes is suitable for binary data."
   ]
  },
  {
   "cell_type": "markdown",
   "id": "a04d693d-2c4c-4c0e-b879-24f4d5de5aea",
   "metadata": {},
   "source": [
    "### Q6. You have a dataset with two features, X1 and X2, and two possible classes, A and B. You want to use Naive Bayes to classify a new instance with features X1 = 3 and X2 = 4. The following table shows the frequency of each feature value for each class:\n",
    "\n",
    "Class X1=1 X1=2 X1=3 X2=1 X2=2 X2=3 X2=4\n",
    "\n",
    "A 3 3 4 4 3 3 3\n",
    "\n",
    "B 2 2 1 2 2 2 3\n",
    "\n",
    "Assuming equal prior probabilities for each class, which class would Naive Bayes predict the new instance\n",
    "to belong to?\n",
    "\n",
    "ANS : To classify the new instance with features X1 = 3 and X2 = 4 using Naive Bayes, we can also use the following approach:\n",
    "\n",
    "1. Calculate the likelihood of each class given the new instance's features:\n",
    "P(X1=3,X2=4|A) = P(X1=3|A) * P(X2=4|A) = 0.4 * 0.3 = 0.12\n",
    "P(X1=3,X2=4|B) = P(X1=3|B) * P(X2=4|B) = 0.143 * 0.143 = 0.020449\n",
    "\n",
    "2. Multiply the likelihoods by the prior probabilities of each class (assuming equal prior probabilities of 0.5 for A and B):\n",
    "P(A|X1=3,X2=4) = P(X1=3,X2=4|A) * P(A) = 0.12 * 0.5 = 0.06\n",
    "P(B|X1=3,X2=4) = P(X1=3,X2=4|B) * P(B) = 0.020449 * 0.5 = 0.0102245\n",
    "\n",
    "3. Choose the class with the higher probability, which is class A in this case:\n",
    "Therefore, the Naive Bayes classifier would predict that the new instance with features X1 = 3 and X2 = 4 belongs to class A."
   ]
  },
  {
   "cell_type": "markdown",
   "id": "8dbd5026-ed09-47a6-b7b8-00abf7056eb3",
   "metadata": {},
   "source": [
    "## Some questions are very short answer type questions that's why i give answer in short form, i think its good and if not please give me feedback with particular question number."
   ]
  }
 ],
 "metadata": {
  "kernelspec": {
   "display_name": "Python 3 (ipykernel)",
   "language": "python",
   "name": "python3"
  },
  "language_info": {
   "codemirror_mode": {
    "name": "ipython",
    "version": 3
   },
   "file_extension": ".py",
   "mimetype": "text/x-python",
   "name": "python",
   "nbconvert_exporter": "python",
   "pygments_lexer": "ipython3",
   "version": "3.10.8"
  }
 },
 "nbformat": 4,
 "nbformat_minor": 5
}
