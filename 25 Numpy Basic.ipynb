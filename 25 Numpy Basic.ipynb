{
 "cells": [
  {
   "cell_type": "code",
   "execution_count": 2,
   "id": "542f608b-d362-4e5b-9516-c8f113f1b63f",
   "metadata": {},
   "outputs": [],
   "source": [
    "import numpy as np\n",
    "list_ = [ 1 , 2 , 3 , 4 , 5 ]\n",
    "array_list = np.array(object = list_)"
   ]
  },
  {
   "cell_type": "markdown",
   "id": "b620b7b1-b1d8-4fb1-8776-a4a5745a1e06",
   "metadata": {},
   "source": [
    "### Q1. Is there any difference in the data type of variables list_ and array_list? If there is then write a code to print the data types of both the variables.\n",
    "\n",
    "Yes, there is a difference in the data type of variables list_ and array_list. The data type of variable list_ is a list, whereas the data type of variable array_list is a numpy array."
   ]
  },
  {
   "cell_type": "code",
   "execution_count": 3,
   "id": "df97a3d6-2c15-40e4-955b-9634dc6893da",
   "metadata": {},
   "outputs": [
    {
     "name": "stdout",
     "output_type": "stream",
     "text": [
      "<class 'list'>\n",
      "<class 'numpy.ndarray'>\n"
     ]
    }
   ],
   "source": [
    "print(type(list_))\n",
    "print(type(array_list))"
   ]
  },
  {
   "cell_type": "markdown",
   "id": "65ab7958-a935-4de9-87f6-2629cb5cf3c0",
   "metadata": {},
   "source": [
    "### Q2. Write a code to print the data type of each and every element of both the variables list_ and arra_list."
   ]
  },
  {
   "cell_type": "code",
   "execution_count": 4,
   "id": "34228078-0bec-4e9b-9b5e-cd6335f5e552",
   "metadata": {},
   "outputs": [
    {
     "name": "stdout",
     "output_type": "stream",
     "text": [
      "list_  -->   <class 'int'>\n",
      "list_  -->   <class 'int'>\n",
      "list_  -->   <class 'int'>\n",
      "list_  -->   <class 'int'>\n",
      "list_  -->   <class 'int'>\n",
      "array_list  -->   <class 'numpy.int64'>\n",
      "array_list  -->   <class 'numpy.int64'>\n",
      "array_list  -->   <class 'numpy.int64'>\n",
      "array_list  -->   <class 'numpy.int64'>\n",
      "array_list  -->   <class 'numpy.int64'>\n"
     ]
    }
   ],
   "source": [
    "for element in list_:\n",
    "    print('list_  -->  ', type(element))\n",
    "\n",
    "\n",
    "for element in array_list:\n",
    "    print('array_list  -->  ', type(element))"
   ]
  },
  {
   "cell_type": "markdown",
   "id": "9e844094-f3f5-45ab-9658-11aa34a86eb1",
   "metadata": {},
   "source": [
    "### Q3. Considering the following changes in the variable, array_list:\n",
    "\n",
    "array_list = np.array(object = list_, dtype = int)\n",
    "\n",
    "Will there be any difference in the data type of the elements present in both the variables, list_ and\n",
    "arra_list? If so then print the data types of each and every element present in both the variables, list_\n",
    "and arra_list.\n",
    "\n",
    "**ANS** Yes, there will be a difference in the data type of the elements present in both the variables, list_ and array_list."
   ]
  },
  {
   "cell_type": "code",
   "execution_count": 5,
   "id": "7c2131a3-f9b6-4141-b645-91071ea26067",
   "metadata": {},
   "outputs": [
    {
     "name": "stdout",
     "output_type": "stream",
     "text": [
      "list_  -->   <class 'str'>\n",
      "list_  -->   <class 'str'>\n",
      "list_  -->   <class 'str'>\n",
      "list_  -->   <class 'str'>\n",
      "list_  -->   <class 'str'>\n",
      "array_list  -->   <class 'numpy.int64'>\n",
      "array_list  -->   <class 'numpy.int64'>\n",
      "array_list  -->   <class 'numpy.int64'>\n",
      "array_list  -->   <class 'numpy.int64'>\n",
      "array_list  -->   <class 'numpy.int64'>\n"
     ]
    }
   ],
   "source": [
    "list_ = ['1', '2', '3', '4', '5']\n",
    "array_list = np.array(object=list_, dtype=int)\n",
    "\n",
    "for element in list_:\n",
    "    print('list_  -->  ', type(element))\n",
    "\n",
    "\n",
    "for element in array_list:\n",
    "    print('array_list  -->  ', type(element))\n"
   ]
  },
  {
   "cell_type": "code",
   "execution_count": 8,
   "id": "69617b96-c2e4-4fe0-8fc7-64aa5108b97e",
   "metadata": {},
   "outputs": [],
   "source": [
    "import numpy as np\n",
    "num_list = [ [ 1 , 2 , 3 ] , [ 4 , 5 , 6 ] ]\n",
    "num_array = np.array(object = num_list)\n"
   ]
  },
  {
   "cell_type": "markdown",
   "id": "85b2a1e5-e9ab-4474-bbd9-5ff9465db371",
   "metadata": {},
   "source": [
    "### Q4. Write a code to find the following characteristics of variable, num_array:\n",
    "1. shape\n",
    "2. size"
   ]
  },
  {
   "cell_type": "code",
   "execution_count": 9,
   "id": "d8bd1567-ee76-444f-bb54-8eba0c5a25c1",
   "metadata": {},
   "outputs": [
    {
     "name": "stdout",
     "output_type": "stream",
     "text": [
      "Shape of num_array: (2, 3)\n",
      "Size of num_array: 6\n"
     ]
    }
   ],
   "source": [
    "print(\"Shape of num_array:\", num_array.shape)\n",
    "print(\"Size of num_array:\", num_array.size)"
   ]
  },
  {
   "cell_type": "markdown",
   "id": "170f5109-79e3-4610-a300-8aee3fa447ca",
   "metadata": {},
   "source": [
    "### Q5. Write a code to create numpy array of 3*3 matrix containing zeros only, using a numpy array creation function.\n",
    "[Hint: The size of the array will be 9 and the shape will be (3,3).]"
   ]
  },
  {
   "cell_type": "code",
   "execution_count": 10,
   "id": "514ac6b8-4315-4aa3-8026-f5be7b290a8d",
   "metadata": {},
   "outputs": [],
   "source": [
    "arr1 = np.zeros((3,3))"
   ]
  },
  {
   "cell_type": "code",
   "execution_count": 11,
   "id": "bf42a152-4902-4685-b4a0-8f0b4f1c07b9",
   "metadata": {},
   "outputs": [
    {
     "data": {
      "text/plain": [
       "array([[0., 0., 0.],\n",
       "       [0., 0., 0.],\n",
       "       [0., 0., 0.]])"
      ]
     },
     "execution_count": 11,
     "metadata": {},
     "output_type": "execute_result"
    }
   ],
   "source": [
    "arr1"
   ]
  },
  {
   "cell_type": "markdown",
   "id": "08322ce4-0271-42a4-b451-6e8cbb5a6168",
   "metadata": {},
   "source": [
    "### Q6. Create an identity matrix of shape (5,5) using numpy functions?\n",
    "[Hint: An identity matrix is a matrix containing 1 diagonally and other elements will be 0.]"
   ]
  },
  {
   "cell_type": "code",
   "execution_count": 15,
   "id": "1b7cba0a-4767-4540-a488-83c5fa22c20a",
   "metadata": {},
   "outputs": [],
   "source": [
    "arr1 = np.eye(5)"
   ]
  },
  {
   "cell_type": "code",
   "execution_count": 16,
   "id": "9041db6b-8033-46c7-8285-f588fffb3de6",
   "metadata": {},
   "outputs": [
    {
     "data": {
      "text/plain": [
       "array([[1., 0., 0., 0., 0.],\n",
       "       [0., 1., 0., 0., 0.],\n",
       "       [0., 0., 1., 0., 0.],\n",
       "       [0., 0., 0., 1., 0.],\n",
       "       [0., 0., 0., 0., 1.]])"
      ]
     },
     "execution_count": 16,
     "metadata": {},
     "output_type": "execute_result"
    }
   ],
   "source": [
    "arr1"
   ]
  },
  {
   "cell_type": "code",
   "execution_count": null,
   "id": "d5cacc8c-160a-4a8f-887e-1ed3415dd318",
   "metadata": {},
   "outputs": [],
   "source": []
  }
 ],
 "metadata": {
  "kernelspec": {
   "display_name": "Python 3 (ipykernel)",
   "language": "python",
   "name": "python3"
  },
  "language_info": {
   "codemirror_mode": {
    "name": "ipython",
    "version": 3
   },
   "file_extension": ".py",
   "mimetype": "text/x-python",
   "name": "python",
   "nbconvert_exporter": "python",
   "pygments_lexer": "ipython3",
   "version": "3.10.8"
  }
 },
 "nbformat": 4,
 "nbformat_minor": 5
}
