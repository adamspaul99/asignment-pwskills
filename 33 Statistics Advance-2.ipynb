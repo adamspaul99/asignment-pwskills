{
 "cells": [
  {
   "cell_type": "markdown",
   "id": "c754e7f2-adaf-4c50-8f8c-00c6f5cf688f",
   "metadata": {},
   "source": [
    "## Q1: What are the Probability Mass Function (PMF) and Probability Density Function (PDF)? Explain with  an example. \n",
    " \n",
    "The **Probability Mass Function (PMF)** and **Probability Density Function (PDF)** are mathematical functions used to describe the distribution of a random variable. The PMF is used for discrete random variables and gives the probability of each possible outcome. The PDF is used for continuous random variables and gives the probability density at each possible value.\n",
    "\n",
    "For example, consider flipping a fair coin. The PMF for the number of heads obtained in two flips would be:\n",
    "\n",
    "P(X=0) = 1/4\n",
    "P(X=1) = 1/2\n",
    "P(X=2) = 1/4\n",
    "\n",
    "The PDF for the time it takes to complete a task could be a normal distribution. The PDF would give the probability density at each possible time value."
   ]
  },
  {
   "cell_type": "markdown",
   "id": "48e92dde-2eb6-4954-b103-7a922451c122",
   "metadata": {},
   "source": [
    "## Q2: What is Cumulative Density Function (CDF)? Explain with an example. Why CDF is used? \n",
    "\n",
    "The **Cumulative Density Function (CDF)** is a function that gives the probability that a random variable is less than or equal to a certain value. It is the integral of the PDF. The CDF is used to calculate probabilities for continuous random variables.\n",
    "\n",
    "For example,\n",
    "\n",
    "Consider the same normal distribution as in Q1. The CDF for a normal distribution gives the probability that a random variable is less than or equal to a certain value. If we want to find the probability that the time to complete a task is less than or equal to 10 minutes, we would calculate the CDF at 10 minutes."
   ]
  },
  {
   "cell_type": "markdown",
   "id": "ea311547-0f7d-411f-99ba-c336081495b1",
   "metadata": {},
   "source": [
    "## Q3: What are some examples of situations where the normal distribution might be used as a model?  Explain how the parameters of the normal distribution relate to the shape of the distribution. \n",
    "\n",
    "The normal distribution is commonly used as a model for situations where the data is continuous and symmetric around the mean. Examples include the distribution of heights or weights of people, IQ scores, and the amount of rainfall in a particular area. The parameters of the normal distribution are the mean and standard deviation, which determine the center and spread of the distribution."
   ]
  },
  {
   "cell_type": "markdown",
   "id": "0824bb6f-87c6-4f21-8bef-a6d9365ea805",
   "metadata": {},
   "source": [
    "## Q4: Explain the importance of Normal Distribution. Give a few real-life examples of Normal  Distribution.  \n",
    "\n",
    "The **Normal distribution** is important because it is a common and well-understood distribution that occurs in many real-life situations. It allows us to make predictions and draw conclusions about populations based on samples. \n",
    "\n",
    "Examples of real-life situations where the normal distribution is used include predicting stock prices, analyzing test scores, and predicting the heights of offspring based on the heights of parents."
   ]
  },
  {
   "cell_type": "markdown",
   "id": "e7bf30df-c538-4eb8-bae8-7b5502d41045",
   "metadata": {},
   "source": [
    "## Q5: What is Bernaulli Distribution? Give an Example. What is the difference between Bernoulli  Distribution and Binomial Distribution? \n",
    "\n",
    "The **Bernoulli Distribution** is a discrete probability distribution with two possible outcomes, usually labeled as success or failure. It is used to model situations where there is only one trial with a binary outcome. An example would be flipping a coin to get heads or tails. The difference between the Bernoulli Distribution and the Binomial Distribution is that the Bernoulli Distribution models a single trial, while the Binomial Distribution models a fixed number of independent trials with the same probability of success"
   ]
  },
  {
   "cell_type": "markdown",
   "id": "b96df073-ca7d-4e10-ab15-aa50e6459e4c",
   "metadata": {},
   "source": [
    "## Q6. Consider a dataset with a mean of 50 and a standard deviation of 10. If we assume that the dataset  is normally distributed, what is the probability that a randomly selected observation will be greater  than 60? Use the appropriate formula and show your calculations. \n",
    "\n",
    "To find the probability that a randomly selected observation from a normally distributed dataset with mean 50 and standard deviation 10 will be greater than 60, we can use the standard normal distribution and the z-score formula:\n",
    "\n",
    "z = (X - mean) / standard deviation = (60 - 50) / 10 = 1\n",
    "\n",
    "Using a standard normal distribution table or calculator, we can find that the probability of a standard normal variable being greater than 1 is approximately 0.159."
   ]
  },
  {
   "cell_type": "markdown",
   "id": "e9cc1fbd-a611-42cc-9f12-934f9253cd80",
   "metadata": {},
   "source": [
    "## Q7: Explain uniform Distribution with an example. \n",
    "\n",
    "The uniform distribution is a probability distribution where all possible values within a given range are equally likely. An example would be rolling a fair six-sided die, where each outcome has a probability of 1/6. The PDF for a uniform distribution is a horizontal line over the range of possible values"
   ]
  },
  {
   "cell_type": "markdown",
   "id": "6c5fa612-978c-421b-9204-d126ffed5dfa",
   "metadata": {},
   "source": [
    "## Q8: What is the z score? State the importance of the z score. \n",
    "\n",
    "The z-score is a standardized value that represents the number of standard deviations a data point is from the mean of a dataset. It is calculated as (X - mean) / standard deviation. The z-score is important because it allows us"
   ]
  },
  {
   "cell_type": "markdown",
   "id": "9c8cdaee-fb83-49ba-9839-9b0685dd4010",
   "metadata": {},
   "source": [
    "## Q9: What is Central Limit Theorem? State the significance of the Central Limit Theorem.\n",
    "\n",
    "The central limit theorem says that the sampling distribution of the mean will always be normally distributed, as long as the sample size is large enough. Regardless of whether the population has a normal, Poisson, binomial, or any other distribution, the sampling distribution of the mean will be normal\n",
    "\n",
    "\n",
    "The CLT is significant because it allows us to make inferences about the population mean and variance based on a sample mean and variance, which can be used for hypothesis testing, confidence interval estimation, and other statistical analyses."
   ]
  },
  {
   "cell_type": "markdown",
   "id": "38404aed-d233-4d18-a681-4c03a9c325ee",
   "metadata": {},
   "source": [
    "## Q10: State the assumptions of the Central Limit Theorem.\n",
    "\n",
    "The assumptions of the Central Limit Theorem are as follows:\n",
    "\n",
    "1. The sample is drawn from a large population (or an infinite population).\n",
    "2. The samples are independent of each other.\n",
    "3. The samples are random, meaning that each member of the population has an equal chance of being selected for the sample.\n",
    "4. The population has a finite variance (or standard deviation)."
   ]
  },
  {
   "cell_type": "code",
   "execution_count": null,
   "id": "94d334bf-16f9-4057-8339-bf0887c0b241",
   "metadata": {},
   "outputs": [],
   "source": []
  }
 ],
 "metadata": {
  "kernelspec": {
   "display_name": "Python 3 (ipykernel)",
   "language": "python",
   "name": "python3"
  },
  "language_info": {
   "codemirror_mode": {
    "name": "ipython",
    "version": 3
   },
   "file_extension": ".py",
   "mimetype": "text/x-python",
   "name": "python",
   "nbconvert_exporter": "python",
   "pygments_lexer": "ipython3",
   "version": "3.10.8"
  }
 },
 "nbformat": 4,
 "nbformat_minor": 5
}
