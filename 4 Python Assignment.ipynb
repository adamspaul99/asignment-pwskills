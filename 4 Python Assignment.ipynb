{
 "cells": [
  {
   "cell_type": "markdown",
   "id": "6e138ff5-f1be-4a21-bfcf-f6906bdf3477",
   "metadata": {},
   "source": [
    "# Q1. Explain Class and Object with respect to Object-Oriented Programming. Give a suitable example."
   ]
  },
  {
   "cell_type": "markdown",
   "id": "e1260192-de66-460e-86ac-488831d3a50f",
   "metadata": {},
   "source": [
    "**ANS -** A class can be defined as a template/blueprint that describes the behavior/state of that the object and its type support."
   ]
  },
  {
   "cell_type": "code",
   "execution_count": 8,
   "id": "a0bb8065-5fbc-4280-83fa-7d0a97b925d3",
   "metadata": {},
   "outputs": [],
   "source": [
    "class pwskills1 :\n",
    "    \n",
    "    def __init__(self, phone_number, email_id, student_id): # init is our constructor\n",
    "        self.phone_number = phone_number\n",
    "        self.email_id = email_id\n",
    "        self.student_id = student_id\n",
    "        \n",
    "    def return_student_detials(self):\n",
    "        return self.phone_number, self.email_id, self.student_id"
   ]
  },
  {
   "cell_type": "code",
   "execution_count": 9,
   "id": "e58c007f-9672-47ac-b998-0f034375de30",
   "metadata": {},
   "outputs": [],
   "source": [
    "rohan = pwskills1(743274290, 'rohan@gmail.com', 111)"
   ]
  },
  {
   "cell_type": "code",
   "execution_count": 10,
   "id": "8e8b924a-8f48-4a00-ae31-4d976b6e4b12",
   "metadata": {},
   "outputs": [
    {
     "data": {
      "text/plain": [
       "(743274290, 'rohan@gmail.com', 111)"
      ]
     },
     "execution_count": 10,
     "metadata": {},
     "output_type": "execute_result"
    }
   ],
   "source": [
    "rohan.return_student_detials()"
   ]
  },
  {
   "cell_type": "markdown",
   "id": "1509fb23-fb84-4026-82ff-9df67642b79a",
   "metadata": {},
   "source": [
    "# Q2. Name the four pillars of OOPs."
   ]
  },
  {
   "cell_type": "markdown",
   "id": "e344dec0-6d0c-4045-91b2-5e8cc2ba1a93",
   "metadata": {},
   "source": [
    "**ANS -** The Four Pillars of Object Oriented Programming.\n",
    "\n",
    "1. Abstraction.\n",
    "2. Encapsulation.\n",
    "3. Inheritance.\n",
    "4. Polymorphism"
   ]
  },
  {
   "cell_type": "markdown",
   "id": "8dafad79-93cb-458e-bada-4971f9a94b04",
   "metadata": {},
   "source": [
    "# Q3. Explain why the __init__() function is used. Give a suitable example."
   ]
  },
  {
   "cell_type": "markdown",
   "id": "28453e52-f246-49cb-b722-672b7480439f",
   "metadata": {},
   "source": [
    "**ANS -** init is a constructor and Constructors are used to initializing the object’s state"
   ]
  },
  {
   "cell_type": "code",
   "execution_count": 11,
   "id": "60a95101-e904-4710-b886-22fc73b2292b",
   "metadata": {},
   "outputs": [
    {
     "name": "stdout",
     "output_type": "stream",
     "text": [
      "Hello, my name is Nikhil\n"
     ]
    }
   ],
   "source": [
    "class Person:\n",
    " \n",
    "    # init method or constructor\n",
    "    def __init__(self, name):\n",
    "        self.name = name\n",
    " \n",
    "    # Sample Method\n",
    "    def say_hi(self):\n",
    "        print('Hello, my name is', self.name)\n",
    " \n",
    " \n",
    "p = Person('Nikhil')\n",
    "p.say_hi()"
   ]
  },
  {
   "cell_type": "markdown",
   "id": "e86eea81-d3d6-4992-b176-88b5515fcef5",
   "metadata": {},
   "source": [
    "# Q4. Why self is used in OOPs?"
   ]
  },
  {
   "cell_type": "markdown",
   "id": "2cde4178-3163-417d-b7f2-703a0e9490e3",
   "metadata": {},
   "source": [
    "**ANS -** we give 'self' as a very first argument so that it can bind by itself.\n",
    "\n",
    "self is not a reserved keyword we can use anyword in place of self."
   ]
  },
  {
   "cell_type": "markdown",
   "id": "9c6be6c7-c81d-46e0-bfec-bb3cfe2e29ad",
   "metadata": {},
   "source": [
    "# Q5. What is inheritance? Give an example for each type of inheritance."
   ]
  },
  {
   "cell_type": "markdown",
   "id": "31847973-3307-43b1-a610-7dd0619cb45c",
   "metadata": {},
   "source": [
    "**ANS -** Inheritance is a mechanism in which one class acquires the property of another class.\n",
    "\n",
    "Types of inheritance :-\n",
    "\n",
    "1. Single Inheritance\n",
    "2. Multiple Inheritance\n",
    "3. Multilevel Inheritance\n",
    "4. Hierarchical Inheritance\n",
    "5. Hybrid Inheritance"
   ]
  }
 ],
 "metadata": {
  "kernelspec": {
   "display_name": "Python 3 (ipykernel)",
   "language": "python",
   "name": "python3"
  },
  "language_info": {
   "codemirror_mode": {
    "name": "ipython",
    "version": 3
   },
   "file_extension": ".py",
   "mimetype": "text/x-python",
   "name": "python",
   "nbconvert_exporter": "python",
   "pygments_lexer": "ipython3",
   "version": "3.10.8"
  }
 },
 "nbformat": 4,
 "nbformat_minor": 5
}
