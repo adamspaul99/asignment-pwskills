{
 "cells": [
  {
   "cell_type": "markdown",
   "id": "09927a01-310f-4cc8-9b53-99e705bb6ce3",
   "metadata": {},
   "source": [
    "### Q1. What is Statistics?\n",
    "\n",
    "**Statistics** is a branch of mathematics that deals with collecting, analyzing, interpreting, and presenting data. It involves techniques for summarizing data, making predictions, and drawing conclusions about a population based on a sample."
   ]
  },
  {
   "cell_type": "markdown",
   "id": "906cca31-a53d-4d5f-9321-d5360adb553c",
   "metadata": {},
   "source": [
    "### Q2. Define the different types of statistics and give an example of when each type might be used.\n",
    "\n",
    "The different types of statistics are **descriptive statistics** and **inferential statistics**. Descriptive statistics describe the characteristics of a dataset, while inferential statistics make inferences about a population based on a sample.\n",
    "\n",
    "An example of when descriptive statistics might be used is to summarize the characteristics of a set of data, such as the mean, median, and mode of a set of exam scores. An example of when inferential statistics might be used is to determine whether a treatment is effective based on a comparison of two groups of patients."
   ]
  },
  {
   "cell_type": "markdown",
   "id": "fa353fc7-c19b-4029-be63-6f07f2d8dccd",
   "metadata": {},
   "source": [
    "### Q3. What are the different types of data and how do they differ from each other? Provide an example of each type of data.\n",
    "\n",
    "1. **Nominal data** are categorical data that do not have a natural order or numerical meaning. An example of nominal data is the type of fruit someone prefers, such as apples, oranges, or bananas.\n",
    "\n",
    "2. **Ordinal data** are categorical data that have a natural order or numerical meaning. An example of ordinal data is a rating system, such as a Likert scale that measures satisfaction on a scale of 1-5.\n",
    "\n",
    "3. **Interval data** are numerical data that have a fixed scale, but do not have a true zero point. An example of interval data is temperature measured in Celsius or Fahrenheit.\n",
    "\n",
    "4. **Ratio data** are numerical data that have a fixed scale and a true zero point. An example of ratio data is weight measured in kilograms or pounds."
   ]
  },
  {
   "cell_type": "markdown",
   "id": "5eaaa38b-361f-4931-8166-666373785a9d",
   "metadata": {},
   "source": [
    "### Q4. Categorise the following datasets with respect to quantitative and qualitative data types:\n",
    "\n",
    "1. Grading in exam: A+, A, B+, B, C+, C, D, E \n",
    "\n",
    "--> Data type: Qualitative\n",
    "\n",
    "2. Colour of mangoes: yellow, green, orange, red \n",
    "\n",
    "--> Data type: Qualitative\n",
    "\n",
    "3. Height data of a class: [178.9, 179, 179.5, 176, 177.2, 178.3, 175.8,...] \n",
    "\n",
    "--> Data type: Quantitative (Continuous)\n",
    "\n",
    "4. Number of mangoes exported by a farm: [500, 600, 478, 672, ...] \n",
    "\n",
    "--> Data type: Quantitative (Discrete)"
   ]
  },
  {
   "cell_type": "markdown",
   "id": "6e3d3759-44c0-4fa4-bbc1-1a64174a2b5a",
   "metadata": {},
   "source": [
    "### Q5. Explain the concept of levels of measurement and give an example of a variable for each level.\n",
    "There are four levels of measurement: nominal, ordinal, interval, and ratio.\n",
    "\n",
    "1. Nominal: This level of measurement is used for categorical data where values are assigned to categories for identification purposes only. Examples of nominal variables are gender (male/female).\n",
    "\n",
    "2. Ordinal: This level of measurement is used for data that can be ranked or ordered. The difference between values is not important. Examples of ordinal variables include rank in a competition (1st/2nd/3rd).\n",
    "\n",
    "3. Interval: This level of measurement is used for data where the difference between values is meaningful, but there is no true zero point. Examples of interval variables include temperature measured in degrees Celsius or Fahrenheit.\n",
    "\n",
    "4. Ratio: This level of measurement is used for data where the difference between values is meaningful, and there is a true zero point. Examples of ratio variables include height, weight, and age."
   ]
  },
  {
   "cell_type": "markdown",
   "id": "0adb845e-fc7f-48d2-a9dd-234b439ebde6",
   "metadata": {},
   "source": [
    "### Q6. Why is it important to understand the level of measurement when analyzing data? Provide an example to illustrate your answer.\n",
    "\n",
    "Understanding the level of measurement is important when analyzing data because it affects the types of statistical analyses that can be performed. \n",
    "\n",
    "For example, it would be inappropriate to use mean or standard deviation to describe nominal data because the values cannot be added, subtracted, or multiplied. Instead, frequency tables or mode should be used to describe nominal data."
   ]
  },
  {
   "cell_type": "markdown",
   "id": "f1fce636-f6f4-48bc-bb3f-8be090d33f4e",
   "metadata": {},
   "source": [
    "### Q7. How nominal data type is different from ordinal data type.\n",
    "\n",
    "The nominal data type is different from the ordinal data type because nominal data represents categories that cannot be ranked or ordered, while ordinal data represents categories that can be ranked or ordered. Nominal data can only be counted and summarized using frequencies and percentages, while ordinal data can be summarized using measures of central tendency such as median or mode."
   ]
  },
  {
   "cell_type": "markdown",
   "id": "b54ad353-82a8-4f96-8a38-e7b24ab86b59",
   "metadata": {},
   "source": [
    "### Q8. Which type of plot can be used to display data in terms of range?\n",
    "\n",
    "A box plot can be used to display data in terms of range. A box plot displays the minimum and maximum values, as well as the median, upper quartile, and lower quartile. The length of the box indicates the interquartile range, or the range of values that fall within the middle 50% of the data."
   ]
  },
  {
   "cell_type": "markdown",
   "id": "160c539d-d3ac-4b22-98cf-02455ed15c18",
   "metadata": {},
   "source": [
    "### Q9. Describe the difference between descriptive and inferential statistics. Give an example of each type of statistics and explain how they are used.\n",
    "\n",
    "Descriptive statistics are used to describe and summarize data, while inferential statistics are used to make inferences about a population based on a sample of data.\n",
    "\n",
    "An example of descriptive statistics is calculating the mean and standard deviation of a sample of test scores to describe the performance of the group.\n",
    "\n",
    "An example of inferential statistics is conducting a hypothesis test to determine if there is a significant difference in the average test scores between two groups."
   ]
  },
  {
   "cell_type": "markdown",
   "id": "a9c66e01-91f0-4e22-aed9-11918e36ff6d",
   "metadata": {},
   "source": [
    "### Q10. What are some common measures of central tendency and variability used in statistics? Explain how each measure can be used to describe a dataset.\n",
    "\n",
    "Measures of central tendency and variability are used to describe the characteristics of a dataset.\n",
    "\n",
    "**Explanation** Measures of central tendency include the mean, median, and mode. The mean is the average of all values in a dataset, the median is the middle value when the values are sorted in order, and the mode is the most frequent value. The mean is sensitive to extreme values and may not be representative of the dataset if the distribution is skewed. The median is less sensitive to extreme values and is a better measure of central tendency when the distribution is skewed. The mode is useful for describing nominal data."
   ]
  }
 ],
 "metadata": {
  "kernelspec": {
   "display_name": "Python 3 (ipykernel)",
   "language": "python",
   "name": "python3"
  },
  "language_info": {
   "codemirror_mode": {
    "name": "ipython",
    "version": 3
   },
   "file_extension": ".py",
   "mimetype": "text/x-python",
   "name": "python",
   "nbconvert_exporter": "python",
   "pygments_lexer": "ipython3",
   "version": "3.10.8"
  }
 },
 "nbformat": 4,
 "nbformat_minor": 5
}
