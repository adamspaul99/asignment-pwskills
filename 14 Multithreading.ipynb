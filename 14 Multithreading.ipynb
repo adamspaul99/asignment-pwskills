{
 "cells": [
  {
   "cell_type": "markdown",
   "id": "37dfc637-c633-4496-bc90-a7a30d2ae8e5",
   "metadata": {},
   "source": [
    "## Q1. What is multithreading in python? Why is it used? Name the module used to handle threads in python"
   ]
  },
  {
   "cell_type": "markdown",
   "id": "3697a8fb-5dec-4439-84dd-2d5517e033bd",
   "metadata": {},
   "source": [
    "Multithreading in Python is a technique that allows the execution of multiple threads within a single process.\n",
    "\n",
    "Multithreading is used to improve the performance of a program by making efficient use of available resources. For example, in a web server, multiple clients may be sending requests simultaneously, and processing each request one by one would lead to a bottleneck. By using multithreading, the server can handle multiple requests simultaneously and improve the overall performance.\n",
    "\n",
    "The module used to handle threads in Python is called the \"threading\" module."
   ]
  },
  {
   "cell_type": "markdown",
   "id": "342fe6d4-fcb6-466c-a913-24a9a98a9c1e",
   "metadata": {},
   "source": [
    "## Q2. Why threading module used? Write the use of the following functions:\n",
    "\n",
    "1. activeCount()\n",
    "2. currentThread()\n",
    "3. enumerate()"
   ]
  },
  {
   "cell_type": "markdown",
   "id": "d4f3733a-4c44-40d3-9e6c-9862430ba23a",
   "metadata": {},
   "source": [
    "The threading module in Python is used to create and manage threads. A thread is a separate flow of execution that can run simultaneously with other threads in the same program.\n",
    "1. activeCount() -- \n",
    "This function returns the number of thread objects that are active.\n",
    "2. currentThread() -- \n",
    "This function returns a reference to the current thread object. The thread object represents the thread that is currently executing the code.\n",
    "3. enumerate() -- \n",
    "This function returns a list of all thread objects that are currently active\n"
   ]
  },
  {
   "cell_type": "markdown",
   "id": "f375f464-5796-45bf-90c3-9b9c6462ac7c",
   "metadata": {},
   "source": [
    "## Q3. Explain the following functions:\n",
    "\n",
    "1. run()\n",
    "2. start()\n",
    "3. join()\n",
    "4. isAlive()"
   ]
  },
  {
   "cell_type": "markdown",
   "id": "f272c207-e265-423e-b160-b275a362f789",
   "metadata": {},
   "source": [
    "1. run() -- This function is the entry point for the thread's activity. It is the method that is called when a thread starts running.\n",
    "\n",
    "2. start() -- This function starts the thread's activity by calling its run() method. Once a thread is started, its run() method is called in a separate thread of control.\n",
    "\n",
    "3. join() -- This function blocks the calling thread until the thread whose join() method is called completes its execution.\n",
    "\n",
    "4. isAlive() -- This function returns a Boolean indicating whether the thread is currently executing."
   ]
  },
  {
   "cell_type": "markdown",
   "id": "5afcec6c-a0a9-40d3-ad81-a18c7847ecc4",
   "metadata": {},
   "source": [
    "## Q4. Write a python program to create two threads. Thread one must print the list of squares and thread two must print the list of cubes"
   ]
  },
  {
   "cell_type": "code",
   "execution_count": 1,
   "id": "06063351-0858-4468-bfd9-c600288de326",
   "metadata": {},
   "outputs": [
    {
     "name": "stdout",
     "output_type": "stream",
     "text": [
      "1\n",
      "4\n",
      "9\n",
      "16\n",
      "25\n",
      "36\n",
      "49\n",
      "64\n",
      "81\n",
      "100\n",
      "1\n",
      "8\n",
      "27\n",
      "64\n",
      "125\n",
      "216\n",
      "343\n",
      "512\n",
      "729\n",
      "1000\n"
     ]
    }
   ],
   "source": [
    "import threading\n",
    "\n",
    "def squares():\n",
    "    for i in range(1, 11):\n",
    "        print(i**2)\n",
    "\n",
    "def cubes():\n",
    "    for i in range(1, 11):\n",
    "        print(i**3)\n",
    "\n",
    "t1 = threading.Thread(target=squares)\n",
    "t2 = threading.Thread(target=cubes)\n",
    "\n",
    "t1.start()\n",
    "t2.start()"
   ]
  },
  {
   "cell_type": "markdown",
   "id": "c3c00930-3d3e-4f50-8306-76e5f4f005be",
   "metadata": {},
   "source": [
    "## Q5. State advantages and disadvantages of multithreading"
   ]
  },
  {
   "cell_type": "markdown",
   "id": "8f97614e-8a82-4f9d-92c9-01c1077cb127",
   "metadata": {},
   "source": [
    "Advantages:\n",
    "\n",
    "1. Improved performance\n",
    "2. Resource sharing\n",
    "3. Responsiveness\n",
    "4. Scalability\n",
    "\n",
    "Disadvantages:\n",
    "\n",
    "1. Complexity\n",
    "2. Synchronization\n",
    "3. Overhead\n",
    "4. Race conditions\n"
   ]
  },
  {
   "cell_type": "markdown",
   "id": "49052a2b-2a5c-47c1-b3af-b6134ecf149a",
   "metadata": {},
   "source": [
    "## Q6. Explain deadlocks and race conditions."
   ]
  },
  {
   "cell_type": "markdown",
   "id": "f28a7cef-285d-4f15-a364-6ebf46d61552",
   "metadata": {},
   "source": [
    "1. Deadlocks -- Deadlocks occur in computer systems when two or more processes are unable to continue executing because they are waiting for each other to release resources or locks that they need to proceed\n",
    "\n",
    "2. Race conditions -- Race conditions can occur when multiple threads access shared resources simultaneously, leading to unpredictable behavior or errors. Preventing race conditions requires careful programming and synchronization."
   ]
  }
 ],
 "metadata": {
  "kernelspec": {
   "display_name": "Python 3 (ipykernel)",
   "language": "python",
   "name": "python3"
  },
  "language_info": {
   "codemirror_mode": {
    "name": "ipython",
    "version": 3
   },
   "file_extension": ".py",
   "mimetype": "text/x-python",
   "name": "python",
   "nbconvert_exporter": "python",
   "pygments_lexer": "ipython3",
   "version": "3.10.8"
  }
 },
 "nbformat": 4,
 "nbformat_minor": 5
}
