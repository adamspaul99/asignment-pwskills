{
 "cells": [
  {
   "cell_type": "markdown",
   "id": "3d4ade57-de6b-470a-a990-2e44e8ffda1f",
   "metadata": {},
   "source": [
    "# Regression-5"
   ]
  },
  {
   "cell_type": "markdown",
   "id": "56010c30-f715-44fb-9200-5e82f06b1a6e",
   "metadata": {},
   "source": [
    "### Q1. What is Elastic Net Regression and how does it differ from other regression techniques?\n",
    "Elastic Net Regression is a linear regression model that combines the penalties of L1 (Lasso) and L2 (Ridge) regularization methods. The model is used to handle the multicollinearity problem and select important features by shrinking less important features to zero. The L1 penalty performs feature selection by setting the coefficients of unimportant features to zero, while the L2 penalty shrinks the coefficients of all features. Compared to Lasso and Ridge regression, Elastic Net provides a balance between bias and variance and can handle a higher number of features."
   ]
  },
  {
   "cell_type": "markdown",
   "id": "a7d97032-5d6f-488e-81c3-f4f40828b516",
   "metadata": {},
   "source": [
    "### Q2. How do you choose the optimal values of the regularization parameters for Elastic Net Regression?\n",
    "The optimal values of the regularization parameters for Elastic Net Regression can be chosen using cross-validation. Cross-validation involves dividing the dataset into multiple subsets, training the model on a subset, and testing it on the remaining subsets. The optimal values of the parameters are chosen based on the performance of the model on the test set. Grid search or randomized search can also be used to automate the selection process by testing a range of values for the regularization parameters."
   ]
  },
  {
   "cell_type": "markdown",
   "id": "5cfed5c6-5721-4398-9350-5f866c585f28",
   "metadata": {},
   "source": [
    "### Q3. What are the advantages and disadvantages of Elastic Net Regression?\n",
    "The advantages of Elastic Net Regression are:\n",
    "\n",
    "- It can handle a large number of features\n",
    "- It provides a balance between bias and variance\n",
    "- It performs feature selection and reduces the risk of overfitting\n",
    "- It is robust to outliers and can handle correlated predictors\n",
    "- It is a flexible and powerful modeling technique\n",
    "\n",
    "The disadvantages of Elastic Net Regression are:\n",
    "\n",
    "- It may not perform well when the number of features is larger than the sample size\n",
    "- It may not perform well when the predictors are not correlated with the response variable\n",
    "- It may not provide meaningful coefficients for correlated features."
   ]
  },
  {
   "cell_type": "markdown",
   "id": "26dac8e7-7f7f-4c8a-a326-fb38263c5c6e",
   "metadata": {},
   "source": [
    "### Q4. What are some common use cases for Elastic Net Regression?\n",
    "Elastic Net Regression can be used for a variety of use cases, including:\n",
    "\n",
    "- Predictive modeling: predicting the outcome of a response variable based on multiple predictors\n",
    "- Feature selection: selecting the most important features for modeling and analysis\n",
    "- Data exploration: identifying the relationship between the response variable and the predictors\n",
    "- Variable reduction: reducing the number of predictors while maintaining the accuracy of the model."
   ]
  },
  {
   "cell_type": "markdown",
   "id": "78a947b8-4bef-4d15-a8c6-c7ec63c93562",
   "metadata": {},
   "source": [
    "### Q5. How do you interpret the coefficients in Elastic Net Regression?\n",
    " The coefficients in Elastic Net Regression represent the effect of each predictor on the response variable, holding all other predictors constant. A positive coefficient indicates that the predictor has a positive effect on the response variable, while a negative coefficient indicates a negative effect. The magnitude of the coefficient indicates the strength of the relationship between the predictor and the response variable. When the coefficient is zero, the predictor has no effect on the response variable."
   ]
  },
  {
   "cell_type": "markdown",
   "id": "1a65eab8-466a-42bc-aeda-9f5cf8c459b4",
   "metadata": {},
   "source": [
    "### Q6. How do you handle missing values when using Elastic Net Regression?\n",
    "Missing values can be handled in Elastic Net Regression by either imputing them or removing them. Imputation methods include mean imputation, median imputation, and regression imputation. Removing missing values can be done by either deleting the rows or columns with missing values or using a model that can handle missing values such as K-Nearest Neighbors or Multiple Imputation."
   ]
  },
  {
   "cell_type": "markdown",
   "id": "d5c0ca9a-be8f-4212-8711-1882f07d9c82",
   "metadata": {},
   "source": [
    "### Q7. How do you use Elastic Net Regression for feature selection?\n",
    "Elastic Net Regression can be used for feature selection by using the coefficients of the model. Features with non-zero coefficients are selected as important features, while features with zero coefficients are not important. Alternatively, a feature importance score can be calculated using a permutation test, which measures the change in performance when the feature is randomly permuted."
   ]
  },
  {
   "cell_type": "markdown",
   "id": "0d5f5e70-c7f4-475f-ab60-79e75be0185a",
   "metadata": {},
   "source": [
    "### Q8. How do you pickle and unpickle a trained Elastic Net Regression model in Python?\n",
    "To pickle and unpickle a trained Elastic Net Regression model in Python, the following steps can be followed:\n",
    "\n",
    "- Import the necessary libraries: pickle and sklearn.linear_model\n",
    "- Train and fit the model on the data\n",
    "- Save the model as a binary file using the pickle.dump() function\n",
    "- Load the saved model using the pickle.load() function.\n",
    "(below is the example code snippets for the same)"
   ]
  },
  {
   "cell_type": "code",
   "execution_count": 2,
   "id": "ad01da90-b10d-4d81-aaa1-8b61338008a0",
   "metadata": {},
   "outputs": [
    {
     "data": {
      "text/plain": [
       "\"\\nfrom sklearn.linear_model import ElasticNet\\nelast = ElasticNet()\\nelast.fit(X_train_scaled, y_train)\\ny_pred = elast.predict(X_test_scaled)\\nscore = r2_score(y_test, y_pred)\\nmae = mean_absolute_error(y_test, y_pred)\\nprint('R2 score :', score)\\nprint('Mean absolute error :', mae)\\n\\nimport pickle\\npickle.dump(scaler, open('scaler.pkl', 'wb'))\\npickle.dump(elast, open('elast.ple','wb'))\\n\\nelast = pickle.load(open('elast.pkl', 'rb'))\\n\""
      ]
     },
     "execution_count": 2,
     "metadata": {},
     "output_type": "execute_result"
    }
   ],
   "source": [
    "'''\n",
    "from sklearn.linear_model import ElasticNet\n",
    "elast = ElasticNet()\n",
    "elast.fit(X_train_scaled, y_train)\n",
    "y_pred = elast.predict(X_test_scaled)\n",
    "score = r2_score(y_test, y_pred)\n",
    "mae = mean_absolute_error(y_test, y_pred)\n",
    "print('R2 score :', score)\n",
    "print('Mean absolute error :', mae)\n",
    "\n",
    "import pickle\n",
    "pickle.dump(scaler, open('scaler.pkl', 'wb'))\n",
    "pickle.dump(elast, open('elast.ple','wb'))\n",
    "\n",
    "elast = pickle.load(open('elast.pkl', 'rb'))\n",
    "'''"
   ]
  },
  {
   "cell_type": "markdown",
   "id": "2985cf23-68fd-434b-acfa-c8aa29472742",
   "metadata": {},
   "source": [
    "### Q9. What is the purpose of pickling a model in machine learning?\n",
    "By pickling a model, you can save all the weights, biases, and other parameters of the model, as well as the trained features and pre-processing steps, in a file that can be easily loaded back into memory at a later time. The main purpose of pickling a model is to reuse it at a later stage or deploy it in production environments without having to retrain the model again.\n"
   ]
  }
 ],
 "metadata": {
  "kernelspec": {
   "display_name": "Python 3 (ipykernel)",
   "language": "python",
   "name": "python3"
  },
  "language_info": {
   "codemirror_mode": {
    "name": "ipython",
    "version": 3
   },
   "file_extension": ".py",
   "mimetype": "text/x-python",
   "name": "python",
   "nbconvert_exporter": "python",
   "pygments_lexer": "ipython3",
   "version": "3.10.8"
  }
 },
 "nbformat": 4,
 "nbformat_minor": 5
}
