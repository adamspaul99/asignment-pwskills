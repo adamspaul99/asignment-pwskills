{
 "cells": [
  {
   "cell_type": "markdown",
   "id": "2f310bcf-e346-493e-b61b-5b7e86dac184",
   "metadata": {},
   "source": [
    "## Q1. Which function is used to open a file? What are the different modes of opening a file? Explain each mode of file opening."
   ]
  },
  {
   "cell_type": "markdown",
   "id": "5c5bdf59-71a9-4ec6-9c82-fae916bc26ac",
   "metadata": {},
   "source": [
    "there are many ways of opening a file in python:-"
   ]
  },
  {
   "cell_type": "code",
   "execution_count": null,
   "id": "79b71b7d-cd2d-4e92-9b0f-7e8ea03ada7c",
   "metadata": {},
   "outputs": [],
   "source": [
    "f = open('test.txt', 'w')"
   ]
  },
  {
   "cell_type": "code",
   "execution_count": null,
   "id": "72593aaa-0789-4ebd-a86a-2959fa321aa5",
   "metadata": {},
   "outputs": [],
   "source": [
    "with open('new.txt', 'r') as f :\n",
    "    f.read()"
   ]
  },
  {
   "cell_type": "markdown",
   "id": "d167cc3e-2634-4260-b831-e59a61af809f",
   "metadata": {},
   "source": [
    "There are several modes in which a file can be opened, and each mode has a different purpose. The most common modes are:\n",
    "\n",
    "\"r\": read mode. This mode is used to read data from a file. If the file does not exist, an error will be thrown.\n",
    "\n",
    "\"w\": write mode. This mode is used to write data to a file. If the file does not exist, it will be created. If it does exist, any existing data will be erased.\n",
    "\n",
    "\"a\": append mode. This mode is used to append data to the end of a file. If the file does not exist, it will be created.\n",
    "\n",
    "\"x\": exclusive creation mode. This mode is used to create a new file, but it will throw an error if the file already exists.\n",
    "\n",
    "\"b\": binary mode. This mode is used to read or write binary data, such as images or audio files."
   ]
  },
  {
   "cell_type": "markdown",
   "id": "28fc931a-666a-48c3-b036-fb46b205ed3b",
   "metadata": {},
   "source": [
    "## Q2. Why close() function is used? Why is it important to close a file?"
   ]
  },
  {
   "cell_type": "markdown",
   "id": "e024681d-8598-48fd-a237-daba2326a20d",
   "metadata": {},
   "source": [
    "The close() function is used to close a file object in Python. It is important to close a file after it has been opened because it ensures that all the resources associated with the file are freed up."
   ]
  },
  {
   "cell_type": "markdown",
   "id": "451dfe33-9c0c-48c4-ad62-abd4df4ac766",
   "metadata": {},
   "source": [
    "## Q3. Write a python program to create a text file. Write ‘I want to become a Data Scientist’ in that file. Then close the file. Open this file and read the content of the file."
   ]
  },
  {
   "cell_type": "code",
   "execution_count": 1,
   "id": "097b7e3b-f9a1-4681-9a8e-b9b3a2ba9c6d",
   "metadata": {},
   "outputs": [],
   "source": [
    "f = open('test.txt', 'w')"
   ]
  },
  {
   "cell_type": "code",
   "execution_count": 2,
   "id": "978fcfd7-198a-45ff-95a9-82228551bf83",
   "metadata": {},
   "outputs": [
    {
     "data": {
      "text/plain": [
       "33"
      ]
     },
     "execution_count": 2,
     "metadata": {},
     "output_type": "execute_result"
    }
   ],
   "source": [
    "f.write('I want to become a Data Scientist')"
   ]
  },
  {
   "cell_type": "code",
   "execution_count": 3,
   "id": "698bc67f-1623-4975-b627-6ef994cb7781",
   "metadata": {},
   "outputs": [],
   "source": [
    "f.close()"
   ]
  },
  {
   "cell_type": "code",
   "execution_count": 6,
   "id": "42e109f0-591d-43be-bb30-a4e427ed53f1",
   "metadata": {},
   "outputs": [
    {
     "name": "stdout",
     "output_type": "stream",
     "text": [
      "I want to become a Data Scientist\n"
     ]
    }
   ],
   "source": [
    "with open('test.txt', 'r') as f :\n",
    "    print(f.read())"
   ]
  },
  {
   "cell_type": "markdown",
   "id": "e17dd489-7479-4c9d-ad83-73edf99274e5",
   "metadata": {},
   "source": [
    "## Q4. Explain the following with python code: read(), readline() and readlines()."
   ]
  },
  {
   "cell_type": "code",
   "execution_count": 12,
   "id": "5db3019c-cdd3-48eb-a41e-d2580a75a8e6",
   "metadata": {},
   "outputs": [],
   "source": [
    "with open('test.txt', 'w') as f :\n",
    "    f.write(\"this is my fileCourse Duration: 116h 5m 49s\\nData Science Masters course is highly curated and uniquely designed according to the latest industry standards.\\nThis program instills students the skills essential to knowledge discovery efforts to identify standard, novel,\\nand truly differentiated solutions and decision-making, including skills in managing, querying, analyzing, visualizing,\\nand extracting meaning from extremely large data sets.\")"
   ]
  },
  {
   "cell_type": "code",
   "execution_count": 16,
   "id": "37162a93-b5bc-4ac8-9b20-a18630d9759c",
   "metadata": {},
   "outputs": [
    {
     "name": "stdout",
     "output_type": "stream",
     "text": [
      "this is my fileCourse Duration: 116h 5m 49s\n",
      "Data Science Masters course is highly curated and uniquely designed according to the latest industry standards.\n",
      "This program instills students the skills essential to knowledge discovery efforts to identify standard, novel,\n",
      "and truly differentiated solutions and decision-making, including skills in managing, querying, analyzing, visualizing,\n",
      "and extracting meaning from extremely large data sets.\n"
     ]
    }
   ],
   "source": [
    "with open('test.txt', 'r') as f :\n",
    "    print(f.read())"
   ]
  },
  {
   "cell_type": "code",
   "execution_count": 17,
   "id": "d2eb28df-47c8-4bd5-9e5f-71bbfe325b49",
   "metadata": {},
   "outputs": [
    {
     "name": "stdout",
     "output_type": "stream",
     "text": [
      "this is my fileCourse Duration: 116h 5m 49s\n",
      "\n"
     ]
    }
   ],
   "source": [
    "with open('test.txt', 'r') as f :\n",
    "    print(f.readline())"
   ]
  },
  {
   "cell_type": "code",
   "execution_count": 18,
   "id": "a8bf6f9a-d8d1-4224-aac4-8d680589fdaa",
   "metadata": {},
   "outputs": [
    {
     "name": "stdout",
     "output_type": "stream",
     "text": [
      "['this is my fileCourse Duration: 116h 5m 49s\\n', 'Data Science Masters course is highly curated and uniquely designed according to the latest industry standards.\\n', 'This program instills students the skills essential to knowledge discovery efforts to identify standard, novel,\\n', 'and truly differentiated solutions and decision-making, including skills in managing, querying, analyzing, visualizing,\\n', 'and extracting meaning from extremely large data sets.']\n"
     ]
    }
   ],
   "source": [
    "with open('test.txt', 'r') as f :\n",
    "    print(f.readlines())"
   ]
  },
  {
   "cell_type": "markdown",
   "id": "97a42ff9-7622-4e19-a731-e7cd9e1a61b3",
   "metadata": {},
   "source": [
    "## Q5. Explain why with statement is used with open(). What is the advantage of using with statement and open() together?"
   ]
  },
  {
   "cell_type": "markdown",
   "id": "849297c3-82f5-4ce0-ac43-1853a22b185e",
   "metadata": {},
   "source": [
    "The with statement is used with the open() function in Python to handle file I/O operations.\n",
    "\n",
    "The advantage of using the with statement with open() is that it simplifies file I/O operations and ensures that files are properly closed when they are no longer needed."
   ]
  },
  {
   "cell_type": "markdown",
   "id": "c4e8f778-c65d-40bd-930c-1832ce68b533",
   "metadata": {},
   "source": [
    "## Q6. Explain the write() and writelines() functions. Give a suitable example."
   ]
  },
  {
   "cell_type": "markdown",
   "id": "a260d4ff-8ab6-4ff1-a2ec-9a4f57a419c1",
   "metadata": {},
   "source": [
    "The write() function is used to write a single string of data to a file. It takes a string as its argument and writes it to the file."
   ]
  },
  {
   "cell_type": "code",
   "execution_count": 25,
   "id": "e1bab662-f830-456d-8914-354dea0bed07",
   "metadata": {},
   "outputs": [],
   "source": [
    "with open('test1.txt', 'w') as f :\n",
    "    f.write(\"this is my fileCourse Duration: 116h 5m 49s\")"
   ]
  },
  {
   "cell_type": "code",
   "execution_count": 26,
   "id": "164f0069-7029-4de4-a5d6-c6ad788d0cef",
   "metadata": {},
   "outputs": [
    {
     "name": "stdout",
     "output_type": "stream",
     "text": [
      "this is my fileCourse Duration: 116h 5m 49s\n"
     ]
    }
   ],
   "source": [
    "with open('test1.txt', 'r') as f :\n",
    "    print(f.read())"
   ]
  },
  {
   "cell_type": "markdown",
   "id": "a2af83ec-8a01-4788-a9d3-6d24cad5b2b6",
   "metadata": {},
   "source": [
    "The writelines() function is used to write multiple strings to a file. It takes an iterable as its argument, where each item in the iterable is a string to be written to the file."
   ]
  },
  {
   "cell_type": "code",
   "execution_count": 27,
   "id": "89af1102-f33e-43ed-979d-6505c6005e2d",
   "metadata": {},
   "outputs": [],
   "source": [
    "with open('test2.txt', 'w') as f :\n",
    "    strings = [\"this is my fileCourse Duration: 116h 5m 49s\\n\", \"Data Science Masters course is highly curated and uniquely designed according to the latest industry standards.\\n\", \"This program instills students the skills essential to knowledge discovery efforts to identify standard, novel,\\n\", \"and truly differentiated solutions and decision-making, including skills in managing, querying, analyzing, visualizing,\\n\", \"and extracting meaning from extremely large data sets.\"]\n",
    "    f.writelines(strings)"
   ]
  },
  {
   "cell_type": "code",
   "execution_count": 28,
   "id": "1a166729-b712-45bb-acf1-56f56e40b5c6",
   "metadata": {},
   "outputs": [
    {
     "name": "stdout",
     "output_type": "stream",
     "text": [
      "this is my fileCourse Duration: 116h 5m 49s\n",
      "Data Science Masters course is highly curated and uniquely designed according to the latest industry standards.\n",
      "This program instills students the skills essential to knowledge discovery efforts to identify standard, novel,\n",
      "and truly differentiated solutions and decision-making, including skills in managing, querying, analyzing, visualizing,\n",
      "and extracting meaning from extremely large data sets.\n"
     ]
    }
   ],
   "source": [
    "with open('test2.txt', 'r') as f :\n",
    "    print(f.read())"
   ]
  }
 ],
 "metadata": {
  "kernelspec": {
   "display_name": "Python 3 (ipykernel)",
   "language": "python",
   "name": "python3"
  },
  "language_info": {
   "codemirror_mode": {
    "name": "ipython",
    "version": 3
   },
   "file_extension": ".py",
   "mimetype": "text/x-python",
   "name": "python",
   "nbconvert_exporter": "python",
   "pygments_lexer": "ipython3",
   "version": "3.10.8"
  }
 },
 "nbformat": 4,
 "nbformat_minor": 5
}
