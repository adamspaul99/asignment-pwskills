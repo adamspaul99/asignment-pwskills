{
 "cells": [
  {
   "cell_type": "markdown",
   "id": "0154a4d8-2999-4d6e-9077-d95338021e23",
   "metadata": {},
   "source": [
    "# Feature Engineering-6"
   ]
  },
  {
   "cell_type": "markdown",
   "id": "53eedd65-3c8d-4b8c-8bba-381bc5b348f5",
   "metadata": {},
   "source": [
    "### Q1. Pearson correlation coefficient is a measure of the linear relationship between two variables. Suppose you have collected data on the amount of time students spend studying for an exam and their final exam scores. Calculate the Pearson correlation coefficient between these two variables and interpret the result.\n",
    "\n",
    "To calculate the Pearson correlation coefficient between the amount of time students spend studying for an exam and their final exam scores, you first need to calculate the covariance between the two variables and the standard deviations of each variable. Then you can use the following formula:\n",
    "\n",
    "r = cov(X,Y) / (sX * sY)\n",
    "\n",
    "where r is the Pearson correlation coefficient, cov(X,Y) is the covariance between X and Y, and sX and sY are the standard deviations of X and Y, respectively.\n",
    "\n",
    "Interpreting the result: The Pearson correlation coefficient r ranges from -1 to 1. A value of -1 indicates a perfect negative correlation, 0 indicates no correlation, and 1 indicates a perfect positive correlation"
   ]
  },
  {
   "cell_type": "markdown",
   "id": "c59df61f-c65b-42aa-878f-8fbb7672742b",
   "metadata": {},
   "source": [
    "### Q2. Spearman's rank correlation is a measure of the monotonic relationship between two variables. Suppose you have collected data on the amount of sleep individuals get each night and their overall job satisfaction level on a scale of 1 to 10. Calculate the Spearman's rank correlation between these two variables and interpret the result.\n",
    "\n",
    "To calculate the Spearman's rank correlation between the amount of sleep individuals get each night and their overall job satisfaction level on a scale of 1 to 10, you first need to rank the observations for each variable. Then you can use the following formula:\n",
    "\n",
    "rs = 1 - (6 * sum(d^2)) / (n*(n^2 - 1))\n",
    "\n",
    "where rs is the Spearman's rank correlation coefficient, d is the difference between the ranks of each observation for the two variables, and n is the number of observations.\n",
    "\n",
    "Interpreting the result: The Spearman's rank correlation coefficient rs ranges from -1 to 1. A value of -1 indicates a perfect negative monotonic correlation, 0 indicates no monotonic correlation, and 1 indicates a perfect positive monotonic correlation. Unlike the Pearson correlation coefficient, the Spearman's rank correlation coefficient is not affected by outliers or non-linear relationships between the variables"
   ]
  },
  {
   "cell_type": "markdown",
   "id": "f8f06b66-d403-4287-8986-18a47771cab7",
   "metadata": {},
   "source": [
    "### Q3. Suppose you are conducting a study to examine the relationship between the number of hours of exercise per week and body mass index (BMI) in a sample of adults. You collected data on both variables for 50 participants. Calculate the Pearson correlation coefficient and the Spearman's rank correlation between these two variables and compare the results.\n",
    "\n",
    "To calculate the Pearson correlation coefficient and the Spearman's rank correlation between the number of hours of exercise per week and body mass index (BMI) in a sample of adults, you can follow the same procedures as in Q1 and Q2, respectively.\n",
    "\n",
    "Comparing the results: The Pearson correlation coefficient measures the strength and direction of the linear relationship between the two variables, while the Spearman's rank correlation measures the strength and direction of the monotonic relationship between the two variables"
   ]
  },
  {
   "cell_type": "markdown",
   "id": "2df4bb4f-c460-418c-bda5-c3b6fe2cafa2",
   "metadata": {},
   "source": [
    "### Q4. A researcher is interested in examining the relationship between the number of hours individuals spend watching television per day and their level of physical activity. The researcher collected data on both variables from a sample of 50 participants. Calculate the Pearson correlation coefficient between these two variables.\n",
    "\n",
    "To calculate the Pearson correlation coefficient between the number of hours individuals spend watching television per day and their level of physical activity, we need to follow these steps:\n",
    "\n",
    "1. Calculate the mean and standard deviation of each variable.\n",
    "2. Calculate the deviation scores for each variable by subtracting the mean from each individual score.\n",
    "3. Multiply the deviation scores for each variable together to obtain the product of deviations.\n",
    "4. Calculate the sum of the product of deviations.\n",
    "5. Divide the sum of the product of deviations by the product of the standard deviations of the two variables."
   ]
  },
  {
   "cell_type": "markdown",
   "id": "5c9ddf47-0ad5-483f-a9d5-dfd7f5aa185f",
   "metadata": {},
   "source": [
    "### Q5. A survey was conducted to examine the relationship between age and preference for a particular brand of soft drink. The survey results are shown below:\n",
    "\n",
    "### i do not understand the question please explain me this question data is given but i do not understand what i have to do. "
   ]
  },
  {
   "cell_type": "markdown",
   "id": "ad17cc81-10c4-43a4-b8d8-167cecd2b057",
   "metadata": {},
   "source": [
    "### Q6. A company is interested in examining the relationship between the number of sales calls made per day and the number of sales made per week. The company collected data on both variables from a sample of 30 sales representatives. Calculate the Pearson correlation coefficient between these two variables.\n",
    "\n",
    "To calculate the Pearson correlation coefficient between the number of sales calls made per day and the number of sales made per week, you need to follow these steps:\n",
    "\n",
    "1. Calculate the mean (average) of the number of sales calls per day and the number of sales made per week.\n",
    "2. Calculate the standard deviation of the number of sales calls per day and the number of sales made per week.\n",
    "3. For each sales representative, subtract their individual sales calls per day from the mean sales calls per day and divide by the standard deviation of sales calls per day. Then, do the same for the number of sales made per week.\n",
    "4. Multiply the standardized values for each sales representative for the two variables together.\n",
    "5. Sum up the products from step 4.\n",
    "6. Divide the sum from step 5 by the sample size minus 1 (n-1).\n",
    "7. Divide the result from step 6 by the product of the standard deviations of the two variables."
   ]
  },
  {
   "cell_type": "markdown",
   "id": "62461d54-4144-4f5b-9ca1-7ccd1dc82897",
   "metadata": {},
   "source": [
    "## if i solve any question in wrong way then please mention question number as well as my mistake thank  you."
   ]
  }
 ],
 "metadata": {
  "kernelspec": {
   "display_name": "Python 3 (ipykernel)",
   "language": "python",
   "name": "python3"
  },
  "language_info": {
   "codemirror_mode": {
    "name": "ipython",
    "version": 3
   },
   "file_extension": ".py",
   "mimetype": "text/x-python",
   "name": "python",
   "nbconvert_exporter": "python",
   "pygments_lexer": "ipython3",
   "version": "3.10.8"
  }
 },
 "nbformat": 4,
 "nbformat_minor": 5
}
