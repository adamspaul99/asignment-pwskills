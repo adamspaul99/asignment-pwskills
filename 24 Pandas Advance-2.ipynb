{
 "cells": [
  {
   "cell_type": "code",
   "execution_count": 1,
   "id": "84399bc3-359c-4c93-bdc3-8f5eac787835",
   "metadata": {},
   "outputs": [],
   "source": [
    "# Consider following code to answer further questions:\n",
    "\n",
    "import pandas as pd\n",
    "\n",
    "course_name = ['Data Science', 'Machine Learning', 'Big Data', 'Data Engineer']\n",
    "\n",
    "duration = [2,3,6,4]\n",
    "\n",
    "df = pd.DataFrame(data = {'course_name' : course_name, 'duration' : duration})"
   ]
  },
  {
   "cell_type": "markdown",
   "id": "63accbb5-c408-4baa-ac1c-937c15d4e711",
   "metadata": {},
   "source": [
    "## Q1. Write a code to print the data present in the second row of the dataframe, df."
   ]
  },
  {
   "cell_type": "code",
   "execution_count": 2,
   "id": "96a7a2ea-f1f9-4b3c-8752-c60c3bc0036e",
   "metadata": {},
   "outputs": [
    {
     "data": {
      "text/html": [
       "<div>\n",
       "<style scoped>\n",
       "    .dataframe tbody tr th:only-of-type {\n",
       "        vertical-align: middle;\n",
       "    }\n",
       "\n",
       "    .dataframe tbody tr th {\n",
       "        vertical-align: top;\n",
       "    }\n",
       "\n",
       "    .dataframe thead th {\n",
       "        text-align: right;\n",
       "    }\n",
       "</style>\n",
       "<table border=\"1\" class=\"dataframe\">\n",
       "  <thead>\n",
       "    <tr style=\"text-align: right;\">\n",
       "      <th></th>\n",
       "      <th>course_name</th>\n",
       "      <th>duration</th>\n",
       "    </tr>\n",
       "  </thead>\n",
       "  <tbody>\n",
       "    <tr>\n",
       "      <th>0</th>\n",
       "      <td>Data Science</td>\n",
       "      <td>2</td>\n",
       "    </tr>\n",
       "    <tr>\n",
       "      <th>1</th>\n",
       "      <td>Machine Learning</td>\n",
       "      <td>3</td>\n",
       "    </tr>\n",
       "    <tr>\n",
       "      <th>2</th>\n",
       "      <td>Big Data</td>\n",
       "      <td>6</td>\n",
       "    </tr>\n",
       "    <tr>\n",
       "      <th>3</th>\n",
       "      <td>Data Engineer</td>\n",
       "      <td>4</td>\n",
       "    </tr>\n",
       "  </tbody>\n",
       "</table>\n",
       "</div>"
      ],
      "text/plain": [
       "        course_name  duration\n",
       "0      Data Science         2\n",
       "1  Machine Learning         3\n",
       "2          Big Data         6\n",
       "3     Data Engineer         4"
      ]
     },
     "execution_count": 2,
     "metadata": {},
     "output_type": "execute_result"
    }
   ],
   "source": [
    "df"
   ]
  },
  {
   "cell_type": "code",
   "execution_count": 3,
   "id": "807fcdd4-4b02-4160-b74e-be6f683fad80",
   "metadata": {},
   "outputs": [
    {
     "data": {
      "text/html": [
       "<div>\n",
       "<style scoped>\n",
       "    .dataframe tbody tr th:only-of-type {\n",
       "        vertical-align: middle;\n",
       "    }\n",
       "\n",
       "    .dataframe tbody tr th {\n",
       "        vertical-align: top;\n",
       "    }\n",
       "\n",
       "    .dataframe thead th {\n",
       "        text-align: right;\n",
       "    }\n",
       "</style>\n",
       "<table border=\"1\" class=\"dataframe\">\n",
       "  <thead>\n",
       "    <tr style=\"text-align: right;\">\n",
       "      <th></th>\n",
       "      <th>course_name</th>\n",
       "      <th>duration</th>\n",
       "    </tr>\n",
       "  </thead>\n",
       "  <tbody>\n",
       "    <tr>\n",
       "      <th>1</th>\n",
       "      <td>Machine Learning</td>\n",
       "      <td>3</td>\n",
       "    </tr>\n",
       "  </tbody>\n",
       "</table>\n",
       "</div>"
      ],
      "text/plain": [
       "        course_name  duration\n",
       "1  Machine Learning         3"
      ]
     },
     "execution_count": 3,
     "metadata": {},
     "output_type": "execute_result"
    }
   ],
   "source": [
    "df[1:2]\n"
   ]
  },
  {
   "cell_type": "markdown",
   "id": "6e8272d5-4f7e-4fb5-9c17-55dbde9c9ccb",
   "metadata": {},
   "source": [
    "## Q2. What is the difference between the functions loc and iloc in pandas.DataFrame?"
   ]
  },
  {
   "cell_type": "markdown",
   "id": "66c3d2f5-9dbb-4c5d-ad60-e398e68731c2",
   "metadata": {},
   "source": [
    "The loc function is used to select data based on the labels of rows or columns, while iloc is used to select data based on the index of rows or columns. In other words, loc uses labels and iloc uses integers."
   ]
  },
  {
   "cell_type": "markdown",
   "id": "43f1d839-1a76-4bea-956a-2ee8a4c222ed",
   "metadata": {},
   "source": [
    "## Q3. Reindex the given dataframe using a variable, reindex = [3,0,1,2] and store it in the variable, new_df then find the output for both new_df.loc[2] and new_df.iloc[2].\n",
    "\n",
    "Did you observe any difference in both the outputs? If so then explain it."
   ]
  },
  {
   "cell_type": "code",
   "execution_count": 4,
   "id": "65527960-9115-4a96-959c-2f8888c9904f",
   "metadata": {},
   "outputs": [
    {
     "data": {
      "text/html": [
       "<div>\n",
       "<style scoped>\n",
       "    .dataframe tbody tr th:only-of-type {\n",
       "        vertical-align: middle;\n",
       "    }\n",
       "\n",
       "    .dataframe tbody tr th {\n",
       "        vertical-align: top;\n",
       "    }\n",
       "\n",
       "    .dataframe thead th {\n",
       "        text-align: right;\n",
       "    }\n",
       "</style>\n",
       "<table border=\"1\" class=\"dataframe\">\n",
       "  <thead>\n",
       "    <tr style=\"text-align: right;\">\n",
       "      <th></th>\n",
       "      <th>course_name</th>\n",
       "      <th>duration</th>\n",
       "    </tr>\n",
       "  </thead>\n",
       "  <tbody>\n",
       "    <tr>\n",
       "      <th>3</th>\n",
       "      <td>Data Engineer</td>\n",
       "      <td>4</td>\n",
       "    </tr>\n",
       "    <tr>\n",
       "      <th>0</th>\n",
       "      <td>Data Science</td>\n",
       "      <td>2</td>\n",
       "    </tr>\n",
       "    <tr>\n",
       "      <th>1</th>\n",
       "      <td>Machine Learning</td>\n",
       "      <td>3</td>\n",
       "    </tr>\n",
       "    <tr>\n",
       "      <th>2</th>\n",
       "      <td>Big Data</td>\n",
       "      <td>6</td>\n",
       "    </tr>\n",
       "  </tbody>\n",
       "</table>\n",
       "</div>"
      ],
      "text/plain": [
       "        course_name  duration\n",
       "3     Data Engineer         4\n",
       "0      Data Science         2\n",
       "1  Machine Learning         3\n",
       "2          Big Data         6"
      ]
     },
     "execution_count": 4,
     "metadata": {},
     "output_type": "execute_result"
    }
   ],
   "source": [
    "reindex = [3,0,1,2]\n",
    "new_df = df.reindex(reindex)\n",
    "new_df"
   ]
  },
  {
   "cell_type": "code",
   "execution_count": 5,
   "id": "51121ca7-565c-4343-b607-682993487a47",
   "metadata": {},
   "outputs": [
    {
     "data": {
      "text/plain": [
       "course_name    Big Data\n",
       "duration              6\n",
       "Name: 2, dtype: object"
      ]
     },
     "execution_count": 5,
     "metadata": {},
     "output_type": "execute_result"
    }
   ],
   "source": [
    "new_df.loc[2]\n"
   ]
  },
  {
   "cell_type": "code",
   "execution_count": 6,
   "id": "68ce4f8a-2a11-42a7-8792-0b6d73eec46e",
   "metadata": {},
   "outputs": [
    {
     "data": {
      "text/plain": [
       "course_name    Machine Learning\n",
       "duration                      3\n",
       "Name: 1, dtype: object"
      ]
     },
     "execution_count": 6,
     "metadata": {},
     "output_type": "execute_result"
    }
   ],
   "source": [
    "new_df.iloc[2]"
   ]
  },
  {
   "cell_type": "markdown",
   "id": "9a482772-09ef-4f95-898f-7ae174b75163",
   "metadata": {},
   "source": [
    "We can observe that the outputs for new_df.loc[2] and new_df.iloc[2] are different. This is because loc uses labels to identify rows, whereas iloc uses integer indices. In the reindexed dataframe new_df, the label 2 corresponds to the row with index 1, which has the data for the course name \"Data Engineer\" and duration 4."
   ]
  },
  {
   "cell_type": "code",
   "execution_count": 7,
   "id": "bd533a91-b463-4b7d-9927-1860f7774da1",
   "metadata": {},
   "outputs": [],
   "source": [
    "# Consider the below code to answer further questions:\n",
    "import pandas as pd\n",
    "import numpy as np\n",
    "columns = ['column_1', 'column_2', 'column_3', 'column_4', 'column_5', 'column_6']\n",
    "indices = [1,2,3,4,5,6]\n",
    "#Creating a dataframe:\n",
    "df1 = pd.DataFrame(np.random.rand(6,6), columns = columns, index = indices)"
   ]
  },
  {
   "cell_type": "markdown",
   "id": "ad321398-0f55-4221-a75b-fd92b0d4242c",
   "metadata": {},
   "source": [
    "## Q4. Write a code to find the following statistical measurements for the above dataframe df1:\n",
    "(i) mean of each and every column present in the dataframe.\n",
    "\n",
    "(ii) standard deviation of column, ‘column_2’"
   ]
  },
  {
   "cell_type": "code",
   "execution_count": 8,
   "id": "f78205c1-607b-493f-af7f-e49ffc1e9371",
   "metadata": {},
   "outputs": [
    {
     "data": {
      "text/html": [
       "<div>\n",
       "<style scoped>\n",
       "    .dataframe tbody tr th:only-of-type {\n",
       "        vertical-align: middle;\n",
       "    }\n",
       "\n",
       "    .dataframe tbody tr th {\n",
       "        vertical-align: top;\n",
       "    }\n",
       "\n",
       "    .dataframe thead th {\n",
       "        text-align: right;\n",
       "    }\n",
       "</style>\n",
       "<table border=\"1\" class=\"dataframe\">\n",
       "  <thead>\n",
       "    <tr style=\"text-align: right;\">\n",
       "      <th></th>\n",
       "      <th>column_1</th>\n",
       "      <th>column_2</th>\n",
       "      <th>column_3</th>\n",
       "      <th>column_4</th>\n",
       "      <th>column_5</th>\n",
       "      <th>column_6</th>\n",
       "    </tr>\n",
       "  </thead>\n",
       "  <tbody>\n",
       "    <tr>\n",
       "      <th>1</th>\n",
       "      <td>0.606612</td>\n",
       "      <td>0.172704</td>\n",
       "      <td>0.815502</td>\n",
       "      <td>0.770533</td>\n",
       "      <td>0.875953</td>\n",
       "      <td>0.543845</td>\n",
       "    </tr>\n",
       "    <tr>\n",
       "      <th>2</th>\n",
       "      <td>0.191945</td>\n",
       "      <td>0.874638</td>\n",
       "      <td>0.132972</td>\n",
       "      <td>0.268397</td>\n",
       "      <td>0.022177</td>\n",
       "      <td>0.965985</td>\n",
       "    </tr>\n",
       "    <tr>\n",
       "      <th>3</th>\n",
       "      <td>0.632172</td>\n",
       "      <td>0.721695</td>\n",
       "      <td>0.241103</td>\n",
       "      <td>0.332412</td>\n",
       "      <td>0.711815</td>\n",
       "      <td>0.972397</td>\n",
       "    </tr>\n",
       "    <tr>\n",
       "      <th>4</th>\n",
       "      <td>0.496425</td>\n",
       "      <td>0.624746</td>\n",
       "      <td>0.559619</td>\n",
       "      <td>0.832974</td>\n",
       "      <td>0.984755</td>\n",
       "      <td>0.531514</td>\n",
       "    </tr>\n",
       "    <tr>\n",
       "      <th>5</th>\n",
       "      <td>0.732209</td>\n",
       "      <td>0.450668</td>\n",
       "      <td>0.370304</td>\n",
       "      <td>0.749488</td>\n",
       "      <td>0.149902</td>\n",
       "      <td>0.468319</td>\n",
       "    </tr>\n",
       "    <tr>\n",
       "      <th>6</th>\n",
       "      <td>0.169788</td>\n",
       "      <td>0.439122</td>\n",
       "      <td>0.928512</td>\n",
       "      <td>0.676891</td>\n",
       "      <td>0.379765</td>\n",
       "      <td>0.063927</td>\n",
       "    </tr>\n",
       "  </tbody>\n",
       "</table>\n",
       "</div>"
      ],
      "text/plain": [
       "   column_1  column_2  column_3  column_4  column_5  column_6\n",
       "1  0.606612  0.172704  0.815502  0.770533  0.875953  0.543845\n",
       "2  0.191945  0.874638  0.132972  0.268397  0.022177  0.965985\n",
       "3  0.632172  0.721695  0.241103  0.332412  0.711815  0.972397\n",
       "4  0.496425  0.624746  0.559619  0.832974  0.984755  0.531514\n",
       "5  0.732209  0.450668  0.370304  0.749488  0.149902  0.468319\n",
       "6  0.169788  0.439122  0.928512  0.676891  0.379765  0.063927"
      ]
     },
     "execution_count": 8,
     "metadata": {},
     "output_type": "execute_result"
    }
   ],
   "source": [
    "df1"
   ]
  },
  {
   "cell_type": "code",
   "execution_count": 9,
   "id": "ad36ae3f-df99-4ae8-9e76-64a9ffc88e33",
   "metadata": {},
   "outputs": [
    {
     "data": {
      "text/html": [
       "<div>\n",
       "<style scoped>\n",
       "    .dataframe tbody tr th:only-of-type {\n",
       "        vertical-align: middle;\n",
       "    }\n",
       "\n",
       "    .dataframe tbody tr th {\n",
       "        vertical-align: top;\n",
       "    }\n",
       "\n",
       "    .dataframe thead th {\n",
       "        text-align: right;\n",
       "    }\n",
       "</style>\n",
       "<table border=\"1\" class=\"dataframe\">\n",
       "  <thead>\n",
       "    <tr style=\"text-align: right;\">\n",
       "      <th></th>\n",
       "      <th>column_1</th>\n",
       "      <th>column_2</th>\n",
       "      <th>column_3</th>\n",
       "      <th>column_4</th>\n",
       "      <th>column_5</th>\n",
       "      <th>column_6</th>\n",
       "    </tr>\n",
       "  </thead>\n",
       "  <tbody>\n",
       "    <tr>\n",
       "      <th>count</th>\n",
       "      <td>6.000000</td>\n",
       "      <td>6.000000</td>\n",
       "      <td>6.000000</td>\n",
       "      <td>6.000000</td>\n",
       "      <td>6.000000</td>\n",
       "      <td>6.000000</td>\n",
       "    </tr>\n",
       "    <tr>\n",
       "      <th>mean</th>\n",
       "      <td>0.471525</td>\n",
       "      <td>0.547262</td>\n",
       "      <td>0.508002</td>\n",
       "      <td>0.605116</td>\n",
       "      <td>0.520728</td>\n",
       "      <td>0.590998</td>\n",
       "    </tr>\n",
       "    <tr>\n",
       "      <th>std</th>\n",
       "      <td>0.237420</td>\n",
       "      <td>0.246951</td>\n",
       "      <td>0.317771</td>\n",
       "      <td>0.242084</td>\n",
       "      <td>0.395969</td>\n",
       "      <td>0.341964</td>\n",
       "    </tr>\n",
       "    <tr>\n",
       "      <th>min</th>\n",
       "      <td>0.169788</td>\n",
       "      <td>0.172704</td>\n",
       "      <td>0.132972</td>\n",
       "      <td>0.268397</td>\n",
       "      <td>0.022177</td>\n",
       "      <td>0.063927</td>\n",
       "    </tr>\n",
       "    <tr>\n",
       "      <th>25%</th>\n",
       "      <td>0.268065</td>\n",
       "      <td>0.442009</td>\n",
       "      <td>0.273403</td>\n",
       "      <td>0.418531</td>\n",
       "      <td>0.207368</td>\n",
       "      <td>0.484117</td>\n",
       "    </tr>\n",
       "    <tr>\n",
       "      <th>50%</th>\n",
       "      <td>0.551519</td>\n",
       "      <td>0.537707</td>\n",
       "      <td>0.464961</td>\n",
       "      <td>0.713189</td>\n",
       "      <td>0.545790</td>\n",
       "      <td>0.537680</td>\n",
       "    </tr>\n",
       "    <tr>\n",
       "      <th>75%</th>\n",
       "      <td>0.625782</td>\n",
       "      <td>0.697458</td>\n",
       "      <td>0.751531</td>\n",
       "      <td>0.765271</td>\n",
       "      <td>0.834919</td>\n",
       "      <td>0.860450</td>\n",
       "    </tr>\n",
       "    <tr>\n",
       "      <th>max</th>\n",
       "      <td>0.732209</td>\n",
       "      <td>0.874638</td>\n",
       "      <td>0.928512</td>\n",
       "      <td>0.832974</td>\n",
       "      <td>0.984755</td>\n",
       "      <td>0.972397</td>\n",
       "    </tr>\n",
       "  </tbody>\n",
       "</table>\n",
       "</div>"
      ],
      "text/plain": [
       "       column_1  column_2  column_3  column_4  column_5  column_6\n",
       "count  6.000000  6.000000  6.000000  6.000000  6.000000  6.000000\n",
       "mean   0.471525  0.547262  0.508002  0.605116  0.520728  0.590998\n",
       "std    0.237420  0.246951  0.317771  0.242084  0.395969  0.341964\n",
       "min    0.169788  0.172704  0.132972  0.268397  0.022177  0.063927\n",
       "25%    0.268065  0.442009  0.273403  0.418531  0.207368  0.484117\n",
       "50%    0.551519  0.537707  0.464961  0.713189  0.545790  0.537680\n",
       "75%    0.625782  0.697458  0.751531  0.765271  0.834919  0.860450\n",
       "max    0.732209  0.874638  0.928512  0.832974  0.984755  0.972397"
      ]
     },
     "execution_count": 9,
     "metadata": {},
     "output_type": "execute_result"
    }
   ],
   "source": [
    "df1.describe() # statistical measurements"
   ]
  },
  {
   "cell_type": "code",
   "execution_count": 10,
   "id": "367b7ec8-06b9-4463-86bc-5fd8ee9a2264",
   "metadata": {},
   "outputs": [
    {
     "data": {
      "text/plain": [
       "column_1    0.471525\n",
       "column_2    0.547262\n",
       "column_3    0.508002\n",
       "column_4    0.605116\n",
       "column_5    0.520728\n",
       "column_6    0.590998\n",
       "dtype: float64"
      ]
     },
     "execution_count": 10,
     "metadata": {},
     "output_type": "execute_result"
    }
   ],
   "source": [
    "df1.mean()"
   ]
  },
  {
   "cell_type": "code",
   "execution_count": 11,
   "id": "4ab80c79-630d-49b8-8f30-88b40a343557",
   "metadata": {},
   "outputs": [
    {
     "data": {
      "text/plain": [
       "0.24695086353401965"
      ]
     },
     "execution_count": 11,
     "metadata": {},
     "output_type": "execute_result"
    }
   ],
   "source": [
    "df1['column_2'].std()"
   ]
  },
  {
   "cell_type": "markdown",
   "id": "47086b55-0a73-48f2-9fb4-4210c9007923",
   "metadata": {},
   "source": [
    "## Q5. Replace the data present in the second row of column, ‘column_2’ by a string variable then find the mean of column, column_2. If you are getting errors in executing it then explain why.\n",
    "\n",
    "[Hint: To replace the data use df1.loc[] and equate this to string data of your choice.]"
   ]
  },
  {
   "cell_type": "code",
   "execution_count": 16,
   "id": "23e1c08c-c28a-4459-8bf0-e6623353a930",
   "metadata": {},
   "outputs": [],
   "source": [
    "df1.loc[2, 'column_2'] = 'sample'"
   ]
  },
  {
   "cell_type": "code",
   "execution_count": 17,
   "id": "3afecde8-bf78-4bb7-a0d1-60bbf6a2f7cd",
   "metadata": {},
   "outputs": [
    {
     "data": {
      "text/html": [
       "<div>\n",
       "<style scoped>\n",
       "    .dataframe tbody tr th:only-of-type {\n",
       "        vertical-align: middle;\n",
       "    }\n",
       "\n",
       "    .dataframe tbody tr th {\n",
       "        vertical-align: top;\n",
       "    }\n",
       "\n",
       "    .dataframe thead th {\n",
       "        text-align: right;\n",
       "    }\n",
       "</style>\n",
       "<table border=\"1\" class=\"dataframe\">\n",
       "  <thead>\n",
       "    <tr style=\"text-align: right;\">\n",
       "      <th></th>\n",
       "      <th>column_1</th>\n",
       "      <th>column_2</th>\n",
       "      <th>column_3</th>\n",
       "      <th>column_4</th>\n",
       "      <th>column_5</th>\n",
       "      <th>column_6</th>\n",
       "    </tr>\n",
       "  </thead>\n",
       "  <tbody>\n",
       "    <tr>\n",
       "      <th>1</th>\n",
       "      <td>0.606612</td>\n",
       "      <td>0.172704</td>\n",
       "      <td>0.815502</td>\n",
       "      <td>0.770533</td>\n",
       "      <td>0.875953</td>\n",
       "      <td>0.543845</td>\n",
       "    </tr>\n",
       "    <tr>\n",
       "      <th>2</th>\n",
       "      <td>0.191945</td>\n",
       "      <td>sample</td>\n",
       "      <td>0.132972</td>\n",
       "      <td>0.268397</td>\n",
       "      <td>0.022177</td>\n",
       "      <td>0.965985</td>\n",
       "    </tr>\n",
       "    <tr>\n",
       "      <th>3</th>\n",
       "      <td>0.632172</td>\n",
       "      <td>0.721695</td>\n",
       "      <td>0.241103</td>\n",
       "      <td>0.332412</td>\n",
       "      <td>0.711815</td>\n",
       "      <td>0.972397</td>\n",
       "    </tr>\n",
       "    <tr>\n",
       "      <th>4</th>\n",
       "      <td>0.496425</td>\n",
       "      <td>0.624746</td>\n",
       "      <td>0.559619</td>\n",
       "      <td>0.832974</td>\n",
       "      <td>0.984755</td>\n",
       "      <td>0.531514</td>\n",
       "    </tr>\n",
       "    <tr>\n",
       "      <th>5</th>\n",
       "      <td>0.732209</td>\n",
       "      <td>0.450668</td>\n",
       "      <td>0.370304</td>\n",
       "      <td>0.749488</td>\n",
       "      <td>0.149902</td>\n",
       "      <td>0.468319</td>\n",
       "    </tr>\n",
       "    <tr>\n",
       "      <th>6</th>\n",
       "      <td>0.169788</td>\n",
       "      <td>0.439122</td>\n",
       "      <td>0.928512</td>\n",
       "      <td>0.676891</td>\n",
       "      <td>0.379765</td>\n",
       "      <td>0.063927</td>\n",
       "    </tr>\n",
       "  </tbody>\n",
       "</table>\n",
       "</div>"
      ],
      "text/plain": [
       "   column_1  column_2  column_3  column_4  column_5  column_6\n",
       "1  0.606612  0.172704  0.815502  0.770533  0.875953  0.543845\n",
       "2  0.191945    sample  0.132972  0.268397  0.022177  0.965985\n",
       "3  0.632172  0.721695  0.241103  0.332412  0.711815  0.972397\n",
       "4  0.496425  0.624746  0.559619  0.832974  0.984755  0.531514\n",
       "5  0.732209  0.450668  0.370304  0.749488  0.149902  0.468319\n",
       "6  0.169788  0.439122  0.928512  0.676891  0.379765  0.063927"
      ]
     },
     "execution_count": 17,
     "metadata": {},
     "output_type": "execute_result"
    }
   ],
   "source": [
    "df1"
   ]
  },
  {
   "cell_type": "code",
   "execution_count": 19,
   "id": "0137113a-dfab-4486-b09c-77cbb6d47722",
   "metadata": {},
   "outputs": [],
   "source": [
    "# df1['column_2'].mean()"
   ]
  },
  {
   "cell_type": "markdown",
   "id": "08180069-6468-4df4-870b-1cb8c5f24475",
   "metadata": {},
   "source": [
    "it shows an error because we now have a string value in our column_2 and that's why we cant get mean() because of non numeric value"
   ]
  },
  {
   "cell_type": "markdown",
   "id": "dd12eb0d-7adb-450b-b928-e08dfb4ecb0f",
   "metadata": {},
   "source": [
    "## Q6. What do you understand about the windows function in pandas and list the types of windows functions?"
   ]
  },
  {
   "cell_type": "markdown",
   "id": "5ba680e5-e2ae-44a5-b2d6-4a29b54c9875",
   "metadata": {},
   "source": [
    "In Pandas, the window function is used for applying a sliding window function to a time-series or any other data set. It is an essential tool for time series analysis and signal processing.\n",
    "\n",
    "There are several types of window functions available in Pandas:\n",
    "\n",
    "1. Rolling Window: Computes the arithmetic mean of a rolling window of values over a specified window size.\n",
    "2. Expanding Window: Computes a cumulative sum, cumulative minimum, or cumulative maximum of the values of a window that grows with each new row.\n",
    "3. Exponentially Weighted Moving Window: Computes the moving average with an exponentially decreasing weight for older observations.\n",
    "4. Rolling Apply Window: Applies a user-defined function to the values of each rolling window.\n",
    "5. GroupBy Window: Computes a group-specific window function for each group in a DataFrame."
   ]
  },
  {
   "cell_type": "markdown",
   "id": "6cb49571-3f85-4f0c-a293-9f9f9339aa9f",
   "metadata": {},
   "source": [
    "## Q7. Write a code to print only the current month and year at the time of answering this question.\n",
    "[Hint: Use pandas.datetime function]"
   ]
  },
  {
   "cell_type": "code",
   "execution_count": 26,
   "id": "e30cb5d9-3798-467e-b3a5-fbdd59633d0a",
   "metadata": {},
   "outputs": [],
   "source": [
    "current_date = pd.Timestamp.now()\n",
    "\n",
    "\n",
    "current_month_and_year = current_date.strftime('%B %Y')"
   ]
  },
  {
   "cell_type": "code",
   "execution_count": 28,
   "id": "4490dc18-edc9-4492-be2e-5b2cb45dfe7d",
   "metadata": {},
   "outputs": [
    {
     "data": {
      "text/plain": [
       "'April 2023'"
      ]
     },
     "execution_count": 28,
     "metadata": {},
     "output_type": "execute_result"
    }
   ],
   "source": [
    "current_month_and_year"
   ]
  },
  {
   "cell_type": "markdown",
   "id": "617f9084-092b-4e5c-afbe-0d4cbe90d82c",
   "metadata": {},
   "source": [
    "## Q8. Write a Python program that takes in two dates as input (in the format YYYY-MM-DD) and calculates the difference between them in days, hours, and minutes using Pandas time delta. The program should prompt the user to enter the dates and display the result."
   ]
  },
  {
   "cell_type": "code",
   "execution_count": 30,
   "id": "26ba6661-a0ba-4314-98b3-df79852bad26",
   "metadata": {},
   "outputs": [
    {
     "name": "stdin",
     "output_type": "stream",
     "text": [
      "Enter the first date (YYYY-MM-DD):  2020-12-22\n",
      "Enter the second date (YYYY-MM-DD):  2009-9-9\n"
     ]
    }
   ],
   "source": [
    "date1_str = input(\"Enter the first date (YYYY-MM-DD): \")\n",
    "date2_str = input(\"Enter the second date (YYYY-MM-DD): \")"
   ]
  },
  {
   "cell_type": "code",
   "execution_count": 31,
   "id": "db2af45c-2ec5-4f3d-97b2-f526bd269fa2",
   "metadata": {},
   "outputs": [],
   "source": [
    "date1 = pd.to_datetime(date1_str)\n",
    "date2 = pd.to_datetime(date2_str)"
   ]
  },
  {
   "cell_type": "code",
   "execution_count": 32,
   "id": "e14d85d5-5704-4cba-99f8-8b6d4538edd3",
   "metadata": {},
   "outputs": [
    {
     "name": "stdout",
     "output_type": "stream",
     "text": [
      "The difference between 2020-12-22 and 2009-9-9 is:\n",
      "-4122 days\n",
      "-98928.0 hours\n",
      "-5935680.0 minutes\n"
     ]
    }
   ],
   "source": [
    "delta = date2 - date1\n",
    "\n",
    "\n",
    "print(\"The difference between\", date1_str, \"and\", date2_str, \"is:\")\n",
    "print(delta.days, \"days\")\n",
    "print(delta.total_seconds() // 3600, \"hours\")\n",
    "print(delta.total_seconds() // 60, \"minutes\")"
   ]
  },
  {
   "cell_type": "markdown",
   "id": "228d48b3-7551-4790-972d-540d3bcef2b0",
   "metadata": {},
   "source": [
    "## Q9. Write a Python program that reads a CSV file containing categorical data and converts a specified column to a categorical data type. The program should prompt the user to enter the file path, column name, and category order, and then display the sorted data."
   ]
  },
  {
   "cell_type": "code",
   "execution_count": 42,
   "id": "74960fec-1d34-485c-9e31-00a3c041b0b6",
   "metadata": {},
   "outputs": [],
   "source": [
    "df = pd.DataFrame({'id':[1,2,3,4], 'category':['medium','medium','low','high'], 'value':[2,4,5,7]}, index=None)\n",
    "               "
   ]
  },
  {
   "cell_type": "code",
   "execution_count": 43,
   "id": "cc7832ae-5854-4ba3-9a09-bc79cfe32b36",
   "metadata": {},
   "outputs": [
    {
     "data": {
      "text/html": [
       "<div>\n",
       "<style scoped>\n",
       "    .dataframe tbody tr th:only-of-type {\n",
       "        vertical-align: middle;\n",
       "    }\n",
       "\n",
       "    .dataframe tbody tr th {\n",
       "        vertical-align: top;\n",
       "    }\n",
       "\n",
       "    .dataframe thead th {\n",
       "        text-align: right;\n",
       "    }\n",
       "</style>\n",
       "<table border=\"1\" class=\"dataframe\">\n",
       "  <thead>\n",
       "    <tr style=\"text-align: right;\">\n",
       "      <th></th>\n",
       "      <th>id</th>\n",
       "      <th>category</th>\n",
       "      <th>value</th>\n",
       "    </tr>\n",
       "  </thead>\n",
       "  <tbody>\n",
       "    <tr>\n",
       "      <th>0</th>\n",
       "      <td>1</td>\n",
       "      <td>medium</td>\n",
       "      <td>2</td>\n",
       "    </tr>\n",
       "    <tr>\n",
       "      <th>1</th>\n",
       "      <td>2</td>\n",
       "      <td>medium</td>\n",
       "      <td>4</td>\n",
       "    </tr>\n",
       "    <tr>\n",
       "      <th>2</th>\n",
       "      <td>3</td>\n",
       "      <td>low</td>\n",
       "      <td>5</td>\n",
       "    </tr>\n",
       "    <tr>\n",
       "      <th>3</th>\n",
       "      <td>4</td>\n",
       "      <td>high</td>\n",
       "      <td>7</td>\n",
       "    </tr>\n",
       "  </tbody>\n",
       "</table>\n",
       "</div>"
      ],
      "text/plain": [
       "   id category  value\n",
       "0   1   medium      2\n",
       "1   2   medium      4\n",
       "2   3      low      5\n",
       "3   4     high      7"
      ]
     },
     "execution_count": 43,
     "metadata": {},
     "output_type": "execute_result"
    }
   ],
   "source": [
    "df"
   ]
  },
  {
   "cell_type": "code",
   "execution_count": 44,
   "id": "486259e4-e29f-43f7-a50b-842cf01c9e40",
   "metadata": {},
   "outputs": [],
   "source": [
    "df.to_csv('data.csv')"
   ]
  },
  {
   "cell_type": "code",
   "execution_count": 45,
   "id": "2eee0024-9168-45d9-888f-9e41c7cc0e22",
   "metadata": {},
   "outputs": [
    {
     "name": "stdin",
     "output_type": "stream",
     "text": [
      "Enter file path:  data.csv\n",
      "Enter column name:  category\n",
      "Enter category order (comma-separated):  medium,low,high\n"
     ]
    },
    {
     "name": "stdout",
     "output_type": "stream",
     "text": [
      "   Unnamed: 0  id category  value\n",
      "0           0   1   medium      2\n",
      "1           1   2   medium      4\n",
      "2           2   3      low      5\n",
      "3           3   4     high      7\n"
     ]
    }
   ],
   "source": [
    "import pandas as pd\n",
    "\n",
    "# prompt user to enter file path\n",
    "file_path = input(\"Enter file path: \")\n",
    "\n",
    "# read csv file\n",
    "df = pd.read_csv(file_path)\n",
    "\n",
    "# prompt user to enter column name\n",
    "column_name = input(\"Enter column name: \")\n",
    "\n",
    "# prompt user to enter category order\n",
    "category_order = input(\"Enter category order (comma-separated): \").split(\",\")\n",
    "\n",
    "# convert column to categorical data type\n",
    "df[column_name] = pd.Categorical(df[column_name], categories=category_order, ordered=True)\n",
    "\n",
    "# display sorted data\n",
    "print(df.sort_values(by=[column_name]))\n"
   ]
  },
  {
   "cell_type": "markdown",
   "id": "e888d6d4-d39c-4c36-ae94-e6862e6a9cd6",
   "metadata": {},
   "source": [
    "## Q10. Write a Python program that reads a CSV file containing sales data for different products and visualizes the data using a stacked bar chart to show the sales of each product category over time. The program should prompt the user to enter the file path and display the chart."
   ]
  },
  {
   "cell_type": "code",
   "execution_count": 46,
   "id": "1b773813-9284-417b-a337-20688ff7bcd0",
   "metadata": {},
   "outputs": [
    {
     "data": {
      "text/plain": [
       "'\\n\\nimport pandas as pd\\n\\n# Prompt the user to enter the file path\\nfile_path = input(\"Enter the file path: \")\\n\\n# Read the CSV file into a pandas DataFrame\\ndf = pd.read_csv(file_path)\\n\\n# Convert the date column to a datetime data type\\ndf[\\'Date\\'] = pd.to_datetime(df[\\'Date\\'])\\n\\n# Set the date column as the index of the DataFrame\\ndf.set_index(\\'Date\\', inplace=True)\\n\\n# Resample the DataFrame by month and calculate the sum of the sales for each product category\\ndf_monthly = df.resample(\\'M\\').sum()\\n\\n# Create a stacked bar chart to show the sales of each product category over time\\nax = df_monthly.plot(kind=\\'bar\\', stacked=True)\\n\\n# Set the title and axis labels\\nax.set_title(\\'Sales by Product Category\\')\\nax.set_xlabel(\\'Date\\')\\nax.set_ylabel(\\'Sales\\')\\n\\n# Show the chart\\nplt.show()\\n\\n'"
      ]
     },
     "execution_count": 46,
     "metadata": {},
     "output_type": "execute_result"
    }
   ],
   "source": [
    "'''\n",
    "\n",
    "import pandas as pd\n",
    "\n",
    "# Prompt the user to enter the file path\n",
    "file_path = input(\"Enter the file path: \")\n",
    "\n",
    "# Read the CSV file into a pandas DataFrame\n",
    "df = pd.read_csv(file_path)\n",
    "\n",
    "# Convert the date column to a datetime data type\n",
    "df['Date'] = pd.to_datetime(df['Date'])\n",
    "\n",
    "# Set the date column as the index of the DataFrame\n",
    "df.set_index('Date', inplace=True)\n",
    "\n",
    "# Resample the DataFrame by month and calculate the sum of the sales for each product category\n",
    "df_monthly = df.resample('M').sum()\n",
    "\n",
    "# Create a stacked bar chart to show the sales of each product category over time\n",
    "ax = df_monthly.plot(kind='bar', stacked=True)\n",
    "\n",
    "# Set the title and axis labels\n",
    "ax.set_title('Sales by Product Category')\n",
    "ax.set_xlabel('Date')\n",
    "ax.set_ylabel('Sales')\n",
    "\n",
    "# Show the chart\n",
    "plt.show()\n",
    "\n",
    "'''\n",
    "# I am trying to explain each line of code if i am not able to explain then please give me feedback so that i can do best."
   ]
  },
  {
   "cell_type": "code",
   "execution_count": 52,
   "id": "cdbb740e-b251-44e8-aaee-84cfddef727d",
   "metadata": {},
   "outputs": [],
   "source": [
    "df = pd.DataFrame({'Student ID':[1,2,3,4,5,6,7,8,9,10],\n",
    "                   'Test Score':[85,90,80,75,85,82,78,85,90,85]\n",
    "    })"
   ]
  },
  {
   "cell_type": "code",
   "execution_count": 54,
   "id": "62a3095c-4d99-4ab3-aa34-8a6279d5c94a",
   "metadata": {},
   "outputs": [],
   "source": [
    "df.to_csv('student ID.csv')"
   ]
  },
  {
   "cell_type": "code",
   "execution_count": 58,
   "id": "afe51ddb-a5f1-4e8d-b4d3-5f955edae747",
   "metadata": {},
   "outputs": [
    {
     "data": {
      "text/html": [
       "<div>\n",
       "<style scoped>\n",
       "    .dataframe tbody tr th:only-of-type {\n",
       "        vertical-align: middle;\n",
       "    }\n",
       "\n",
       "    .dataframe tbody tr th {\n",
       "        vertical-align: top;\n",
       "    }\n",
       "\n",
       "    .dataframe thead th {\n",
       "        text-align: right;\n",
       "    }\n",
       "</style>\n",
       "<table border=\"1\" class=\"dataframe\">\n",
       "  <thead>\n",
       "    <tr style=\"text-align: right;\">\n",
       "      <th></th>\n",
       "      <th>Unnamed: 0</th>\n",
       "      <th>Student ID</th>\n",
       "      <th>Test Score</th>\n",
       "    </tr>\n",
       "  </thead>\n",
       "  <tbody>\n",
       "    <tr>\n",
       "      <th>0</th>\n",
       "      <td>0</td>\n",
       "      <td>1</td>\n",
       "      <td>85</td>\n",
       "    </tr>\n",
       "    <tr>\n",
       "      <th>1</th>\n",
       "      <td>1</td>\n",
       "      <td>2</td>\n",
       "      <td>90</td>\n",
       "    </tr>\n",
       "    <tr>\n",
       "      <th>2</th>\n",
       "      <td>2</td>\n",
       "      <td>3</td>\n",
       "      <td>80</td>\n",
       "    </tr>\n",
       "    <tr>\n",
       "      <th>3</th>\n",
       "      <td>3</td>\n",
       "      <td>4</td>\n",
       "      <td>75</td>\n",
       "    </tr>\n",
       "    <tr>\n",
       "      <th>4</th>\n",
       "      <td>4</td>\n",
       "      <td>5</td>\n",
       "      <td>85</td>\n",
       "    </tr>\n",
       "    <tr>\n",
       "      <th>5</th>\n",
       "      <td>5</td>\n",
       "      <td>6</td>\n",
       "      <td>82</td>\n",
       "    </tr>\n",
       "    <tr>\n",
       "      <th>6</th>\n",
       "      <td>6</td>\n",
       "      <td>7</td>\n",
       "      <td>78</td>\n",
       "    </tr>\n",
       "    <tr>\n",
       "      <th>7</th>\n",
       "      <td>7</td>\n",
       "      <td>8</td>\n",
       "      <td>85</td>\n",
       "    </tr>\n",
       "    <tr>\n",
       "      <th>8</th>\n",
       "      <td>8</td>\n",
       "      <td>9</td>\n",
       "      <td>90</td>\n",
       "    </tr>\n",
       "    <tr>\n",
       "      <th>9</th>\n",
       "      <td>9</td>\n",
       "      <td>10</td>\n",
       "      <td>85</td>\n",
       "    </tr>\n",
       "  </tbody>\n",
       "</table>\n",
       "</div>"
      ],
      "text/plain": [
       "   Unnamed: 0  Student ID  Test Score\n",
       "0           0           1          85\n",
       "1           1           2          90\n",
       "2           2           3          80\n",
       "3           3           4          75\n",
       "4           4           5          85\n",
       "5           5           6          82\n",
       "6           6           7          78\n",
       "7           7           8          85\n",
       "8           8           9          90\n",
       "9           9          10          85"
      ]
     },
     "execution_count": 58,
     "metadata": {},
     "output_type": "execute_result"
    }
   ],
   "source": [
    "df"
   ]
  },
  {
   "cell_type": "code",
   "execution_count": 71,
   "id": "7afb35e8-6eb7-4c55-9491-446b00316851",
   "metadata": {},
   "outputs": [
    {
     "name": "stdout",
     "output_type": "stream",
     "text": [
      "+-----------+--------+\n",
      "| Statistic | Value  |\n",
      "+-----------+--------+\n",
      "| Mean      | 83.5 |\n",
      "| Median    | 85.0 |\n",
      "| Mode      | 0    85\n",
      "Name: Test Score, dtype: int64 |\n",
      "+-----------+--------+\n"
     ]
    }
   ],
   "source": [
    "import pandas as pd\n",
    "\n",
    "# Prompt the user to enter the file path of the CSV file\n",
    "file_path = input(\"Enter the file path of the CSV file containing the student data: \")\n",
    "df = pd.read_csv(file_path)\n",
    "\n",
    "# Calculate the mean, median, and mode of the test scores using Pandas tools\n",
    "mean_score = df[\"Test Score\"].mean()\n",
    "median_score = df[\"Test Score\"].median()\n",
    "mode_score = df[\"Test Score\"].mode()\n",
    "\n",
    "# Display the mean, median, and mode in a table\n",
    "print(\"+-----------+--------+\")\n",
    "print(\"| Statistic | Value  |\")\n",
    "print(\"+-----------+--------+\")\n",
    "print(f\"| Mean      | {mean_score} |\")\n",
    "print(f\"| Median    | {median_score} |\")\n",
    "print(f\"| Mode      | {mode_score} |\")\n",
    "print(\"+-----------+--------+\")"
   ]
  },
  {
   "cell_type": "markdown",
   "id": "2486d0f2-6360-41ee-a166-0e6b1d4e93ec",
   "metadata": {},
   "source": [
    "#### if i do any mistake please mention question number as well because it is very difficult to identify the mistake so, kindly mention question number as well"
   ]
  },
  {
   "cell_type": "code",
   "execution_count": null,
   "id": "626ee3af-65b8-4c44-be24-9e66736e583f",
   "metadata": {},
   "outputs": [],
   "source": []
  }
 ],
 "metadata": {
  "kernelspec": {
   "display_name": "Python 3 (ipykernel)",
   "language": "python",
   "name": "python3"
  },
  "language_info": {
   "codemirror_mode": {
    "name": "ipython",
    "version": 3
   },
   "file_extension": ".py",
   "mimetype": "text/x-python",
   "name": "python",
   "nbconvert_exporter": "python",
   "pygments_lexer": "ipython3",
   "version": "3.10.8"
  }
 },
 "nbformat": 4,
 "nbformat_minor": 5
}
