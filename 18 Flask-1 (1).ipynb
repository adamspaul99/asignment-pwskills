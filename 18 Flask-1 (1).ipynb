{
 "cells": [
  {
   "cell_type": "markdown",
   "id": "c96a7755-fbc2-4d60-962a-484e52572439",
   "metadata": {},
   "source": [
    "## Q1. What is Flask Framework? What are the advantages of Flask Framework?"
   ]
  },
  {
   "cell_type": "markdown",
   "id": "47c91a5e-f564-48dd-82b3-cd10cfe4ce9d",
   "metadata": {},
   "source": [
    "**Flask** is a popular Python web framework that allows developers to build web applications quickly and easily. It is a lightweight framework that is easy to learn and use, making it a great choice for both small and large-scale web applications.\n",
    "\n",
    "Some of the key advantages of Flask framework include:\n",
    "\n",
    "1. Lightweight and flexible: Flask is a micro-framework, which means it has a small core and is highly modular, allowing developers to add only the features they need. This makes it easy to customize and scale as needed.\n",
    "\n",
    "2. Easy to learn: Flask has a simple and intuitive API that is easy to learn, making it a popular choice for beginners and experienced developers alike.\n",
    "\n",
    "3. Extensive documentation: Flask has excellent documentation, including detailed guides and examples, making it easy to get started and find solutions to common problems.\n",
    "\n",
    "4. Built-in development server: Flask comes with a built-in development server that allows developers to test their applications quickly and easily."
   ]
  },
  {
   "cell_type": "markdown",
   "id": "2fc25c63-acf8-4bbd-8438-db60ab8f5e1d",
   "metadata": {},
   "source": [
    "## Q2. Create a simple Flask application to display ‘Hello World!!’. Attach the screenshot of the output in Jupyter Notebook."
   ]
  },
  {
   "cell_type": "markdown",
   "id": "c6bcbcc0-0043-4a6c-8600-cfbd8ec80e3f",
   "metadata": {},
   "source": [
    "output = https://brown-psychiatrist-iuglj.pwskills.app/lab/tree/work/flask%201.png"
   ]
  },
  {
   "cell_type": "markdown",
   "id": "618963d1-e478-4382-a4d9-78c3f450cf6e",
   "metadata": {},
   "source": [
    "## Q3. What is App routing in Flask? Why do we use app routes?"
   ]
  },
  {
   "cell_type": "markdown",
   "id": "b03e53b5-23d3-460a-a8e0-039031f14222",
   "metadata": {},
   "source": [
    "App routing is the mechanism that maps incoming requests to specific functions that handle those requests. These functions are called view functions and they are responsible for generating a response that will be sent back to the client.\n",
    "\n",
    "We use app routes in Flask to provide a structured way of handling different requests from clients. By defining routes, we can ensure that each request is handled by a specific view function. This makes it easier to organize our code and to add new features to our application."
   ]
  },
  {
   "cell_type": "markdown",
   "id": "ce2ba39a-bcbb-4c49-8c84-e2e9b78aa0d4",
   "metadata": {},
   "source": [
    "## Q4. Create a “/welcome” route to display the welcome message “Welcome to ABC Corporation” and a “/” route to show the following details:\n",
    "Company Name: ABC Corporation\n",
    "\n",
    "Location: India\n",
    "\n",
    "Contact Detail: 999-999-9999"
   ]
  },
  {
   "cell_type": "code",
   "execution_count": null,
   "id": "1738beb6-2564-46ad-937b-a398d6e63c51",
   "metadata": {},
   "outputs": [],
   "source": [
    "from flask import Flask\n",
    "\n",
    "app = Flask(__name__)\n",
    "\n",
    "@app.route(\"/welcome\")\n",
    "def welcome():\n",
    "    return \"<h1>Welcome to ABC Corporation</h1>\"\n",
    "\n",
    "@app.route(\"/\")\n",
    "def details():\n",
    "    return '''Company Name: ABC Corporation\n",
    "\n",
    "        Location: India\n",
    "\n",
    "        Contact Detail: 999-999-999'''\n",
    "\n",
    "if __name__==\"__main__\":\n",
    "    app.run(host=\"0.0.0.0\")"
   ]
  },
  {
   "cell_type": "markdown",
   "id": "c5d4370f-c5a4-4533-a81b-905420986634",
   "metadata": {},
   "source": [
    "welcomepage output = https://brown-psychiatrist-iuglj.pwskills.app/lab/tree/work/Flask%203.png\n",
    "\n",
    "detail page output = https://brown-psychiatrist-iuglj.pwskills.app/lab/tree/work/flask%204.png"
   ]
  },
  {
   "cell_type": "markdown",
   "id": "75e36e3d-87d0-4038-9230-c8b8346bf9bb",
   "metadata": {},
   "source": [
    "## Q5. What function is used in Flask for URL Building? Write a Python code to demonstrate the working of the url_for() function."
   ]
  },
  {
   "cell_type": "markdown",
   "id": "0176b1a3-2591-49ab-81d8-c98fd848be89",
   "metadata": {},
   "source": [
    "In Flask, the url_for() function is used for URL building. This function generates a URL to the specified endpoint."
   ]
  },
  {
   "cell_type": "code",
   "execution_count": null,
   "id": "f9e9b89b-8232-4bc6-bb80-d9ae521b7061",
   "metadata": {},
   "outputs": [],
   "source": [
    "from flask import Flask, url_for\n",
    "\n",
    "app = Flask(__name__)\n",
    "\n",
    "@app.route('/')\n",
    "def index():\n",
    "    return 'Hello, World!'\n",
    "\n",
    "@app.route('/user/<username>')\n",
    "def profile(username):\n",
    "    return f'Hello, {username}!'\n",
    "\n",
    "if __name__ == '__main__':\n",
    "    with app.test_request_context():\n",
    "        print(url_for('index'))  # Output: \"/\"\n",
    "        print(url_for('profile', username='John'))  # Output: \"/user/John\"\n"
   ]
  },
  {
   "cell_type": "markdown",
   "id": "b4681e07-92b5-457e-b984-37683f8b8078",
   "metadata": {},
   "source": [
    "#### If there is any need of correction in any question then please mention question number in feedback thank you!"
   ]
  }
 ],
 "metadata": {
  "kernelspec": {
   "display_name": "Python 3 (ipykernel)",
   "language": "python",
   "name": "python3"
  },
  "language_info": {
   "codemirror_mode": {
    "name": "ipython",
    "version": 3
   },
   "file_extension": ".py",
   "mimetype": "text/x-python",
   "name": "python",
   "nbconvert_exporter": "python",
   "pygments_lexer": "ipython3",
   "version": "3.10.8"
  }
 },
 "nbformat": 4,
 "nbformat_minor": 5
}
