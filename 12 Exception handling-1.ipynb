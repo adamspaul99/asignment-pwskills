{
 "cells": [
  {
   "cell_type": "markdown",
   "id": "3a820b18-4805-4d42-8137-e38f6c64e4ba",
   "metadata": {},
   "source": [
    "## Q1. What is an Exception in python? Write the difference between Exceptions and Syntax errors."
   ]
  },
  {
   "cell_type": "markdown",
   "id": "5382d460-f0f2-41d1-b5e3-0ebec336ad8d",
   "metadata": {},
   "source": [
    "In Python, an exception is an event that occurs during the execution of a program that interrupts the normal flow of the program's instructions. When an exceptional condition occurs, an exception is raised, which can be handled by the program."
   ]
  },
  {
   "cell_type": "markdown",
   "id": "e2b2a0f5-d7d0-423a-84e5-6e05d79e5097",
   "metadata": {},
   "source": [
    "The main difference between exceptions and syntax errors is that syntax errors are detected during the compilation of the program, while exceptions occur during the execution of the program."
   ]
  },
  {
   "cell_type": "markdown",
   "id": "6ecb7a3b-9229-4476-91e3-aa56ab1bab4b",
   "metadata": {},
   "source": [
    "## Q2. What happens when an exception is not handled? Explain with an example."
   ]
  },
  {
   "cell_type": "markdown",
   "id": "83b8b05f-8ced-43f6-b8b4-2f8132948052",
   "metadata": {},
   "source": [
    "When an exception is not handled, it leads to a runtime error, and the program terminates abruptly"
   ]
  },
  {
   "cell_type": "code",
   "execution_count": 1,
   "id": "8d963025-2014-4a70-b633-b176f16f1b97",
   "metadata": {},
   "outputs": [
    {
     "ename": "FileNotFoundError",
     "evalue": "[Errno 2] No such file or directory: 'test5.txt'",
     "output_type": "error",
     "traceback": [
      "\u001b[0;31m---------------------------------------------------------------------------\u001b[0m",
      "\u001b[0;31mFileNotFoundError\u001b[0m                         Traceback (most recent call last)",
      "Cell \u001b[0;32mIn[1], line 1\u001b[0m\n\u001b[0;32m----> 1\u001b[0m \u001b[38;5;28;01mwith\u001b[39;00m \u001b[38;5;28;43mopen\u001b[39;49m\u001b[43m(\u001b[49m\u001b[38;5;124;43m'\u001b[39;49m\u001b[38;5;124;43mtest5.txt\u001b[39;49m\u001b[38;5;124;43m'\u001b[39;49m\u001b[43m,\u001b[49m\u001b[43m \u001b[49m\u001b[38;5;124;43m'\u001b[39;49m\u001b[38;5;124;43mr\u001b[39;49m\u001b[38;5;124;43m'\u001b[39;49m\u001b[43m)\u001b[49m \u001b[38;5;28;01mas\u001b[39;00m f:\n\u001b[1;32m      2\u001b[0m     \u001b[38;5;28mprint\u001b[39m(f\u001b[38;5;241m.\u001b[39mread())\n\u001b[1;32m      3\u001b[0m \u001b[38;5;28mprint\u001b[39m(\u001b[38;5;124m'\u001b[39m\u001b[38;5;124mDone\u001b[39m\u001b[38;5;124m'\u001b[39m)\n",
      "File \u001b[0;32m/opt/conda/lib/python3.10/site-packages/IPython/core/interactiveshell.py:282\u001b[0m, in \u001b[0;36m_modified_open\u001b[0;34m(file, *args, **kwargs)\u001b[0m\n\u001b[1;32m    275\u001b[0m \u001b[38;5;28;01mif\u001b[39;00m file \u001b[38;5;129;01min\u001b[39;00m {\u001b[38;5;241m0\u001b[39m, \u001b[38;5;241m1\u001b[39m, \u001b[38;5;241m2\u001b[39m}:\n\u001b[1;32m    276\u001b[0m     \u001b[38;5;28;01mraise\u001b[39;00m \u001b[38;5;167;01mValueError\u001b[39;00m(\n\u001b[1;32m    277\u001b[0m         \u001b[38;5;124mf\u001b[39m\u001b[38;5;124m\"\u001b[39m\u001b[38;5;124mIPython won\u001b[39m\u001b[38;5;124m'\u001b[39m\u001b[38;5;124mt let you open fd=\u001b[39m\u001b[38;5;132;01m{\u001b[39;00mfile\u001b[38;5;132;01m}\u001b[39;00m\u001b[38;5;124m by default \u001b[39m\u001b[38;5;124m\"\u001b[39m\n\u001b[1;32m    278\u001b[0m         \u001b[38;5;124m\"\u001b[39m\u001b[38;5;124mas it is likely to crash IPython. If you know what you are doing, \u001b[39m\u001b[38;5;124m\"\u001b[39m\n\u001b[1;32m    279\u001b[0m         \u001b[38;5;124m\"\u001b[39m\u001b[38;5;124myou can use builtins\u001b[39m\u001b[38;5;124m'\u001b[39m\u001b[38;5;124m open.\u001b[39m\u001b[38;5;124m\"\u001b[39m\n\u001b[1;32m    280\u001b[0m     )\n\u001b[0;32m--> 282\u001b[0m \u001b[38;5;28;01mreturn\u001b[39;00m \u001b[43mio_open\u001b[49m\u001b[43m(\u001b[49m\u001b[43mfile\u001b[49m\u001b[43m,\u001b[49m\u001b[43m \u001b[49m\u001b[38;5;241;43m*\u001b[39;49m\u001b[43margs\u001b[49m\u001b[43m,\u001b[49m\u001b[43m \u001b[49m\u001b[38;5;241;43m*\u001b[39;49m\u001b[38;5;241;43m*\u001b[39;49m\u001b[43mkwargs\u001b[49m\u001b[43m)\u001b[49m\n",
      "\u001b[0;31mFileNotFoundError\u001b[0m: [Errno 2] No such file or directory: 'test5.txt'"
     ]
    }
   ],
   "source": [
    "with open('test5.txt', 'r') as f:\n",
    "    print(f.read())\n",
    "print('Done')"
   ]
  },
  {
   "cell_type": "markdown",
   "id": "182fafa8-a5e5-411f-8f7b-8407fe21cf08",
   "metadata": {},
   "source": [
    "it gives an error and our program terminates abruptly"
   ]
  },
  {
   "cell_type": "code",
   "execution_count": 2,
   "id": "cca4819b-c47f-4af9-978b-5c811772405c",
   "metadata": {},
   "outputs": [
    {
     "name": "stdout",
     "output_type": "stream",
     "text": [
      "[Errno 2] No such file or directory: 'test5.txt'\n",
      "Done\n"
     ]
    }
   ],
   "source": [
    "try:\n",
    "    with open('test5.txt', 'r') as f:\n",
    "        print(f.read())\n",
    "except Exception as e :\n",
    "    print(e)\n",
    "print('Done')\n"
   ]
  },
  {
   "cell_type": "markdown",
   "id": "5c4b7c24-ceba-4ece-8170-49ee4d372417",
   "metadata": {},
   "source": [
    "## Q3. Which Python statements are used to catch and handle exceptions? Explain with an example."
   ]
  },
  {
   "cell_type": "markdown",
   "id": "4586232a-a9de-40f1-9bcf-5600b5eebeca",
   "metadata": {},
   "source": [
    "In Python, you can catch and handle exceptions using the try and except statements. "
   ]
  },
  {
   "cell_type": "code",
   "execution_count": 3,
   "id": "99a5f37e-8eaa-4347-ad6c-732cf645c0cf",
   "metadata": {},
   "outputs": [
    {
     "name": "stdout",
     "output_type": "stream",
     "text": [
      "[Errno 2] No such file or directory: 'test5.txt'\n",
      "Done\n"
     ]
    }
   ],
   "source": [
    "try:\n",
    "    with open('test5.txt', 'r') as f:\n",
    "        print(f.read())\n",
    "except Exception as e :\n",
    "    print(e)\n",
    "print('Done')"
   ]
  },
  {
   "cell_type": "markdown",
   "id": "f889b8d2-f994-4e6d-9850-eee678c16b98",
   "metadata": {},
   "source": [
    "## Q4. Explain with an example:\n",
    "\n",
    "a. try and else - if programm runs smoothly then only else block is going to run"
   ]
  },
  {
   "cell_type": "code",
   "execution_count": 4,
   "id": "970924f3-3a08-4e0e-8ad3-237ceeee08cb",
   "metadata": {},
   "outputs": [
    {
     "name": "stdout",
     "output_type": "stream",
     "text": [
      "this is my except block [Errno 2] No such file or directory: 'test6.txt'\n"
     ]
    }
   ],
   "source": [
    "try:\n",
    "    f = open('test6.txt', 'r')\n",
    "    f.write('write into my file')\n",
    "    \n",
    "except Exception as e :\n",
    "    print('this is my except block', e)\n",
    "    \n",
    "else :\n",
    "    f.close()\n",
    "    print('this will be executed once your try will execute without error')"
   ]
  },
  {
   "cell_type": "markdown",
   "id": "c4a93124-ff10-4063-9e58-f07ed964a780",
   "metadata": {},
   "source": [
    "b. finally -- finally block will runs in any condition wether the prpgram runs smoothly or not."
   ]
  },
  {
   "cell_type": "code",
   "execution_count": 5,
   "id": "b4982cb2-3df5-4b3c-8995-590eefec4f76",
   "metadata": {},
   "outputs": [
    {
     "name": "stdout",
     "output_type": "stream",
     "text": [
      "this is my except block not writable\n",
      "this will run in any condition\n"
     ]
    }
   ],
   "source": [
    "try:\n",
    "    f = open('test1.txt', 'r')\n",
    "    f.write('write into my file')\n",
    "    \n",
    "except Exception as e :\n",
    "    print('this is my except block', e)\n",
    "    \n",
    "else :\n",
    "    f.close()\n",
    "    print('this will be executed once your try will execute without error')\n",
    "finally:\n",
    "    print('this will run in any condition')"
   ]
  },
  {
   "cell_type": "markdown",
   "id": "7f80575f-3c59-4b3c-99a4-95561a1cb9d8",
   "metadata": {},
   "source": [
    "c. raise -- this can be used to indicate that an error has occurred and to provide information about the error to the user."
   ]
  },
  {
   "cell_type": "code",
   "execution_count": 6,
   "id": "9c0b303f-27b7-45f4-a835-e410476d3680",
   "metadata": {},
   "outputs": [],
   "source": [
    "def square_root(x):\n",
    "    if x < 0:\n",
    "        raise ValueError(\"Cannot compute square root of negative number\")\n",
    "    else:\n",
    "        return math.sqrt(x)"
   ]
  },
  {
   "cell_type": "markdown",
   "id": "b3dfbb43-3e00-4716-a50c-19b20cb226b3",
   "metadata": {},
   "source": [
    "## Q5. What are Custom Exceptions in python? Why do we need Custom Exceptions? Explain with an example."
   ]
  },
  {
   "cell_type": "markdown",
   "id": "853fe1c0-80a6-4f7a-b563-f48fa5b8a1e5",
   "metadata": {},
   "source": [
    "## Q6. Create a custom exception class. Use this class to handle an exception."
   ]
  },
  {
   "cell_type": "markdown",
   "id": "28ee7f72-a9a5-4441-9478-3cf8f452cffa",
   "metadata": {},
   "source": [
    "Custom Exceptions in Python are user-defined exceptions that allow you to create your own exception classes with specific error messages and properties. They are useful when you need to raise exceptions that are specific to your application or domain, and they allow you to provide more meaningful and informative error messages to the user."
   ]
  },
  {
   "cell_type": "markdown",
   "id": "73215045-589c-40c3-93f6-39194d15f50c",
   "metadata": {},
   "source": [
    "## **This example is for both question 5 and 6**"
   ]
  },
  {
   "cell_type": "code",
   "execution_count": 7,
   "id": "096ae031-4457-4a38-ae79-c294e72d7af7",
   "metadata": {},
   "outputs": [],
   "source": [
    "class validateage(Exception):\n",
    "    \n",
    "    def __init__(self , msg) : \n",
    "        self.msg = msg"
   ]
  },
  {
   "cell_type": "code",
   "execution_count": 8,
   "id": "65640e7b-d300-49c6-854d-61fc5c230f9e",
   "metadata": {},
   "outputs": [],
   "source": [
    "def validateage1(age) : \n",
    "    if age < 0 :\n",
    "        raise validateage(\"entered age is negative \" )\n",
    "    elif age > 200 : \n",
    "        raise validateage(\"enterd age is very very high \" )\n",
    "    else :\n",
    "        print(\"age is valid\" )"
   ]
  },
  {
   "cell_type": "code",
   "execution_count": 9,
   "id": "67953f06-dfef-4de4-ab1c-1d3b235de826",
   "metadata": {},
   "outputs": [
    {
     "name": "stdin",
     "output_type": "stream",
     "text": [
      "enter your age -33\n"
     ]
    },
    {
     "name": "stdout",
     "output_type": "stream",
     "text": [
      "entered age is negative \n"
     ]
    }
   ],
   "source": [
    "try :\n",
    "    age = int(input(\"enter your age\" ))\n",
    "    validateage1(age)\n",
    "except validateage as e :\n",
    "    print(e)"
   ]
  },
  {
   "cell_type": "code",
   "execution_count": null,
   "id": "285fb470-5bae-45fe-9a9f-298db27d5413",
   "metadata": {},
   "outputs": [],
   "source": []
  }
 ],
 "metadata": {
  "kernelspec": {
   "display_name": "Python 3 (ipykernel)",
   "language": "python",
   "name": "python3"
  },
  "language_info": {
   "codemirror_mode": {
    "name": "ipython",
    "version": 3
   },
   "file_extension": ".py",
   "mimetype": "text/x-python",
   "name": "python",
   "nbconvert_exporter": "python",
   "pygments_lexer": "ipython3",
   "version": "3.10.8"
  }
 },
 "nbformat": 4,
 "nbformat_minor": 5
}
