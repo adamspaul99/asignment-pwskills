{
 "cells": [
  {
   "cell_type": "markdown",
   "id": "8b04b6cf-7509-4186-8e7f-2109df6c6a4d",
   "metadata": {},
   "source": [
    "### Q1. What are the three measures of central tendency? \n",
    "\n",
    "The three measures of central tendency are mean, median, and mode."
   ]
  },
  {
   "cell_type": "markdown",
   "id": "16ace47e-3a87-4afd-b695-c7200b411176",
   "metadata": {},
   "source": [
    "### Q2. What is the difference between the mean, median, and mode? How are they used to measure the  central tendency of a dataset? \n",
    "\n",
    "Mean is the average value of a dataset, calculated by summing all the values and dividing by the number of values. Median is the middle value in a dataset when it is arranged in ascending or descending order. Mode is the value that appears most frequently in a dataset. These measures are used to describe the center of a dataset and provide a single value that summarizes the data."
   ]
  },
  {
   "cell_type": "markdown",
   "id": "d7629606-eccf-4999-b1ee-a423dd6d6e29",
   "metadata": {},
   "source": [
    "### Q3. Measure the three measures of central tendency for the given height data:\n",
    "\n",
    "[178,177,176,177,178.2,178,175,179,180,175,178.9,176.2,177,172.5,178,176.5] \n"
   ]
  },
  {
   "cell_type": "code",
   "execution_count": 5,
   "id": "9e68253c-50cb-47e3-841a-206bb5d26f28",
   "metadata": {},
   "outputs": [
    {
     "name": "stdout",
     "output_type": "stream",
     "text": [
      "Mean -->  177.01875\n",
      "Median -->  177.0\n",
      "Mode -->  ModeResult(mode=array([177.]), count=array([3]))\n"
     ]
    },
    {
     "name": "stderr",
     "output_type": "stream",
     "text": [
      "/tmp/ipykernel_196/1933352775.py:7: FutureWarning: Unlike other reduction functions (e.g. `skew`, `kurtosis`), the default behavior of `mode` typically preserves the axis it acts along. In SciPy 1.11.0, this behavior will change: the default value of `keepdims` will become False, the `axis` over which the statistic is taken will be eliminated, and the value None will no longer be accepted. Set `keepdims` to True or False to avoid this warning.\n",
      "  print('Mode --> ', stats.mode(l))\n"
     ]
    }
   ],
   "source": [
    "import numpy as np\n",
    "from scipy import stats\n",
    "l = [178,177,176,177,178.2,178,175,179,180,175,178.9,176.2,177,172.5,178,176.5]\n",
    "\n",
    "print('Mean --> ', np.mean(l))\n",
    "print('Median --> ', np.median(l))\n",
    "print('Mode --> ', stats.mode(l))"
   ]
  },
  {
   "cell_type": "markdown",
   "id": "87774c47-4dc8-4c48-968f-52c0f9d4304d",
   "metadata": {},
   "source": [
    "### Q4. Find the standard deviation for the given data: \n",
    "[178,177,176,177,178.2,178,175,179,180,175,178.9,176.2,177,172.5,178,176.5] \n"
   ]
  },
  {
   "cell_type": "code",
   "execution_count": 6,
   "id": "cde9bfe8-cbd6-473a-9b51-b659b0db7856",
   "metadata": {},
   "outputs": [
    {
     "data": {
      "text/plain": [
       "1.7885814036548633"
      ]
     },
     "execution_count": 6,
     "metadata": {},
     "output_type": "execute_result"
    }
   ],
   "source": [
    "l = [178,177,176,177,178.2,178,175,179,180,175,178.9,176.2,177,172.5,178,176.5]\n",
    "np.std(l)"
   ]
  },
  {
   "cell_type": "markdown",
   "id": "17d79ca3-071a-4bcf-8036-a8469dbb29f3",
   "metadata": {},
   "source": [
    "### Q5. How are measures of dispersion such as range, variance, and standard deviation used to describe  the spread of a dataset? Provide an example. \n",
    "\n",
    "Measures of dispersion describe how spread out the values in a dataset are. Range is the difference between the maximum and minimum values in a dataset. Variance is a measure of how far each value is from the mean, calculated by summing the squared differences between each value and the mean and dividing by the number of values. Standard deviation is the square root of the variance. These measures provide a numerical summary of how much the values in a dataset vary from each other.\n",
    "\n",
    "For example, if we have two datasets with the same mean but different standard deviations, we can see that one dataset has more variation than the other."
   ]
  },
  {
   "cell_type": "markdown",
   "id": "e60d25a2-35a7-4b4f-a347-ed58bb06b122",
   "metadata": {},
   "source": [
    "### Q6. What is a Venn diagram? \n",
    "\n",
    "A Venn diagram is a graphical representation of the relationships between sets. It consists of overlapping circles or other shapes that represent the sets, and the overlap represents the elements that are in common between the sets."
   ]
  },
  {
   "cell_type": "markdown",
   "id": "a22aa9c1-ad5e-4920-8787-c12d3d8bc5b4",
   "metadata": {},
   "source": [
    "### Q7. For the two given sets A = (2,3,4,5,6,7) & B = (0,2,6,8,10). Find: \n",
    "\n",
    "1. A B \n",
    "2. A ⋃ B \n",
    "\n",
    "1. A B = {2, 6}\n",
    "2. A ⋃ B = {0, 2, 3, 4, 5, 6, 7, 8, 10}"
   ]
  },
  {
   "cell_type": "markdown",
   "id": "e43294f6-742a-47a0-a133-5737d0a3f63e",
   "metadata": {},
   "source": [
    "### Q8. What do you understand about skewness in data? \n",
    "Skewness in data refers to the degree of asymmetry in the distribution of the data. A distribution is said to be skewed if it is not symmetric around its mean. Skewness can be positive, negative, or zero. A positive skewness indicates that the tail of the distribution is longer on the positive side, while a negative skewness indicates that the tail of the distribution is longer on the negative side.\n"
   ]
  },
  {
   "cell_type": "markdown",
   "id": "61483a61-820a-4f2d-921e-ae8b39f47b63",
   "metadata": {},
   "source": [
    "### Q9. If a data is right skewed then what will be the position of median with respect to mean? \n",
    "\n",
    "If a data is right skewed, then the position of the median will be less than the position of the mean. This is because the mean is pulled towards the longer tail of the distribution, which is on the right side."
   ]
  },
  {
   "cell_type": "markdown",
   "id": "6bc19141-0d1d-4184-8772-d32608f565e2",
   "metadata": {},
   "source": [
    "### Q10. Explain the difference between covariance and correlation. How are these measures used in  statistical analysis? \n",
    "\n",
    "**Covariance** and **Correlation** are measures of the relationship between two variables. Covariance measures how much two variables vary together, while correlation measures the strength and direction of the relationship between two variables. Covariance can be positive or negative, while correlation ranges between -1 and 1. In statistical analysis, these measures are used to identify the strength of the relationship between two variables and to make predictions about one variable based on the other."
   ]
  },
  {
   "cell_type": "markdown",
   "id": "7ecb9e66-a8b0-4dff-8896-0151ed3a82b2",
   "metadata": {},
   "source": [
    "### Q11. What is the formula for calculating the sample mean? Provide an example calculation for a  dataset. \n",
    "\n",
    "The formula for calculating the sample mean is:\n",
    "\n",
    "mean = (sum of all values) / (number of values)\n",
    "\n",
    "For example, if we have a dataset with the values {2, 4, 6, 8}, the sample mean would be:\n",
    "\n",
    "mean = (2 + 4 + 6 + 8) / 4 = 5"
   ]
  },
  {
   "cell_type": "markdown",
   "id": "898ab9c2-3d65-479b-aec4-7dd23f426d33",
   "metadata": {},
   "source": [
    "### Q12. For a normal distribution data what is the relationship between its measure of central tendency? Q13. How is covariance different from correlation? \n",
    "\n",
    "For a normal distribution, the mean, median, and mode are all equal."
   ]
  },
  {
   "cell_type": "markdown",
   "id": "9a250858-7a11-4739-8b10-c0816698b7f4",
   "metadata": {},
   "source": [
    "### Q14. How do outliers affect measures of central tendency and dispersion? Provide an example. \n",
    "\n",
    "Covariance measures how much two variables vary together, while correlation measures the strength and direction of the relationship between two variables. Covariance can be positive or negative, while correlation ranges between -1 and 1. Correlation takes into account the"
   ]
  }
 ],
 "metadata": {
  "kernelspec": {
   "display_name": "Python 3 (ipykernel)",
   "language": "python",
   "name": "python3"
  },
  "language_info": {
   "codemirror_mode": {
    "name": "ipython",
    "version": 3
   },
   "file_extension": ".py",
   "mimetype": "text/x-python",
   "name": "python",
   "nbconvert_exporter": "python",
   "pygments_lexer": "ipython3",
   "version": "3.10.8"
  }
 },
 "nbformat": 4,
 "nbformat_minor": 5
}
