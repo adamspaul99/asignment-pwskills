{
 "cells": [
  {
   "cell_type": "markdown",
   "id": "7a10f343-01db-49d7-b106-fb1de6e06d29",
   "metadata": {},
   "source": [
    "## Q1. Calculate the 95% confidence interval for a sample of data with a mean of 50 and a standard deviation of 5 using Python. Interpret the results.\n"
   ]
  },
  {
   "cell_type": "code",
   "execution_count": 7,
   "id": "e0d63d3f-1a95-42fb-9eed-923821ee3db0",
   "metadata": {},
   "outputs": [],
   "source": [
    "import scipy.stats as stats\n",
    "\n",
    "data_mean = 50\n",
    "data_std = 5\n",
    "n = 100 # sample size\n",
    "alpha = 0.05 # significance level\n",
    "\n"
   ]
  },
  {
   "cell_type": "code",
   "execution_count": 8,
   "id": "a85b6345-5828-4238-b587-3db0df656631",
   "metadata": {},
   "outputs": [],
   "source": [
    "# calculate the standard error of the mean\n",
    "standard_error_mean = data_std / (n**0.5)\n",
    "\n"
   ]
  },
  {
   "cell_type": "code",
   "execution_count": 9,
   "id": "e4a86023-3c28-46d3-8443-bf1c87d9a93e",
   "metadata": {},
   "outputs": [],
   "source": [
    "# calculate the margin of error\n",
    "margin_of_error = stats.t.ppf(1 - alpha/2, n-1) * standard_error_mean\n",
    "\n"
   ]
  },
  {
   "cell_type": "code",
   "execution_count": 10,
   "id": "87350b4b-e35b-4b3c-b38e-174e6fdacdf9",
   "metadata": {},
   "outputs": [
    {
     "name": "stdout",
     "output_type": "stream",
     "text": [
      "The 95% confidence interval is (49.00789152424566, 50.99210847575434)\n"
     ]
    }
   ],
   "source": [
    "# calculate the confidence interval\n",
    "ci = (data_mean - margin_of_error, data_mean + margin_of_error)\n",
    "\n",
    "print(f\"The 95% confidence interval is {ci}\")\n"
   ]
  },
  {
   "cell_type": "markdown",
   "id": "ee968c25-b61d-4bfd-bb06-9ae8bb35763d",
   "metadata": {},
   "source": [
    "## Q2. Conduct a chi-square goodness of fit test to determine if the distribution of colors of M&Ms in a bag matches the expected distribution of 20% blue, 20% orange, 20% green, 10% yellow, 10% red, and 20% brown. Use Python to perform the test with a significance level of 0.05."
   ]
  },
  {
   "cell_type": "markdown",
   "id": "9ef34b31-3c53-4995-8dc8-136c1427923d",
   "metadata": {},
   "source": [
    "Suppose we randomly select a sample of 100 M&Ms from a bag and record the following observed frequencies:\n",
    "\n",
    "Blue: 18\n",
    "Orange: 23\n",
    "Green: 20\n",
    "Yellow: 10\n",
    "Red: 12\n",
    "Brown: 17"
   ]
  },
  {
   "cell_type": "code",
   "execution_count": 14,
   "id": "432b5ce0-eeb1-47ac-b12a-dcbff3e6c0f3",
   "metadata": {},
   "outputs": [],
   "source": [
    "import scipy.stats as stats\n",
    "\n",
    "# Observed frequencies of colors in the bag\n",
    "observed_data = [18, 23, 20, 10, 12, 17]\n",
    "expected = [0.2, 0.2, 0.2, 0.1, 0.1, 0.2]  # expected proportions"
   ]
  },
  {
   "cell_type": "code",
   "execution_count": 15,
   "id": "0bcd5d6e-6c35-416d-ac16-9af826a0024d",
   "metadata": {},
   "outputs": [
    {
     "data": {
      "text/plain": [
       "[20.0, 20.0, 20.0, 10.0, 10.0, 20.0]"
      ]
     },
     "execution_count": 15,
     "metadata": {},
     "output_type": "execute_result"
    }
   ],
   "source": [
    "# Expected frequencies of colors in the bag\n",
    "n = sum(observed_data)\n",
    "expected_data = [i*n for i in expected]\n",
    "expected_data"
   ]
  },
  {
   "cell_type": "code",
   "execution_count": 16,
   "id": "8eaaa8fd-6ab9-43e3-ab94-15216aaab5e0",
   "metadata": {},
   "outputs": [],
   "source": [
    "chisquare_test_statistics, p_value =  stats.chisquare(observed_data, expected_data)"
   ]
  },
  {
   "cell_type": "code",
   "execution_count": 22,
   "id": "db804dee-d9aa-4616-85f5-5ca3b534c672",
   "metadata": {},
   "outputs": [
    {
     "data": {
      "text/plain": [
       "(1.5, 0.9130698145443954)"
      ]
     },
     "execution_count": 22,
     "metadata": {},
     "output_type": "execute_result"
    }
   ],
   "source": [
    "chisquare_test_statistics, p_value"
   ]
  },
  {
   "cell_type": "code",
   "execution_count": 18,
   "id": "3ce54d6b-eeab-4410-8ce4-123f36620763",
   "metadata": {},
   "outputs": [],
   "source": [
    "significance_value = 0.05\n",
    "dof = len(expected_data) - 1\n",
    "critical_value = stats.chi2.ppf(1-significance_value, dof)"
   ]
  },
  {
   "cell_type": "code",
   "execution_count": 20,
   "id": "6c177704-7ebd-4a0a-8122-a37b4a90fd0b",
   "metadata": {},
   "outputs": [
    {
     "name": "stdout",
     "output_type": "stream",
     "text": [
      "We fail to reject the null hypothesis\n",
      "The distribution of colors of M&Ms in a bag matches the expected distribution\n"
     ]
    }
   ],
   "source": [
    "if chisquare_test_statistics > critical_value:\n",
    "    print('We reject the null hypothesis\\nThe distribution of colors of M&Ms in a bag does not matches the expected distribution')\n",
    "else:\n",
    "    print('We fail to reject the null hypothesis\\nThe distribution of colors of M&Ms in a bag matches the expected distribution')\n",
    "    "
   ]
  },
  {
   "cell_type": "markdown",
   "id": "db5e863f-91b1-4b9a-b344-6695e081e762",
   "metadata": {},
   "source": [
    "## Q3. Use Python to calculate the chi-square statistic and p-value for a contingency table with the following data:\n",
    "1. group_a = [20,10,15]\n",
    "2. group_b = [15,25,20]\n",
    "\n",
    "in total there are 3 outcomes."
   ]
  },
  {
   "cell_type": "code",
   "execution_count": 31,
   "id": "1e7bf7b0-cd4e-4557-b897-3932d8a33aac",
   "metadata": {},
   "outputs": [],
   "source": [
    "import scipy.stats as stats\n",
    "\n",
    "observed = [[20,15],\n",
    "            [10,25],\n",
    "            [15,20]]"
   ]
  },
  {
   "cell_type": "code",
   "execution_count": 32,
   "id": "364d704b-074d-4a50-a40d-6abaebe322ce",
   "metadata": {},
   "outputs": [],
   "source": [
    "chisquare_test_statistics, p_value, dof, expected = stats.chi2_contingency(observed)"
   ]
  },
  {
   "cell_type": "code",
   "execution_count": 33,
   "id": "c6d2edc2-3b05-4a40-b979-21b7fba3d30d",
   "metadata": {},
   "outputs": [
    {
     "data": {
      "text/plain": [
       "(5.833333333333334,\n",
       " 0.05411376622282158,\n",
       " 2,\n",
       " array([[15., 20.],\n",
       "        [15., 20.],\n",
       "        [15., 20.]]))"
      ]
     },
     "execution_count": 33,
     "metadata": {},
     "output_type": "execute_result"
    }
   ],
   "source": [
    "chisquare_test_statistics, p_value, dof, expected"
   ]
  },
  {
   "cell_type": "markdown",
   "id": "ea3a47d9-0c08-4013-9ea2-154d8834b28b",
   "metadata": {},
   "source": [
    "## Q4. A study of the prevalence of smoking in a population of 500 individuals found that 60 individuals smoked. Use Python to calculate the 95% confidence interval for the true proportion of individuals in the population who smoke."
   ]
  },
  {
   "cell_type": "code",
   "execution_count": 34,
   "id": "002cef60-fa3c-46c4-a215-7ede5e09b101",
   "metadata": {},
   "outputs": [
    {
     "name": "stdout",
     "output_type": "stream",
     "text": [
      "95% Confidence interval for the true proportion of smokers: (0.09151638887130707, 0.1484836111286929)\n"
     ]
    }
   ],
   "source": [
    "import scipy.stats as stats\n",
    "\n",
    "n = 500\n",
    "p = 60/n\n",
    "confidence_level = 0.95\n",
    "z = stats.norm.ppf((1 + confidence_level) / 2) # two-tailed\n",
    "\n",
    "lower_bound = p - z * (p*(1-p)/n)**0.5\n",
    "upper_bound = p + z * (p*(1-p)/n)**0.5\n",
    "\n",
    "print(\"95% Confidence interval for the true proportion of smokers:\", (lower_bound, upper_bound))\n"
   ]
  },
  {
   "cell_type": "markdown",
   "id": "e76b7d97-1356-4cea-967e-a72acc82f738",
   "metadata": {},
   "source": [
    "## Q5. Calculate the 90% confidence interval for a sample of data with a mean of 75 and a standard deviation of 12 using Python. Interpret the results."
   ]
  },
  {
   "cell_type": "code",
   "execution_count": 35,
   "id": "f4cce033-1928-4d92-8abe-f2d7720a3dbf",
   "metadata": {},
   "outputs": [
    {
     "name": "stdout",
     "output_type": "stream",
     "text": [
      "90% Confidence interval for the population mean: (73.02617564765823, 76.97382435234177)\n"
     ]
    }
   ],
   "source": [
    "import scipy.stats as stats\n",
    "\n",
    "n = 100 # sample size\n",
    "x_bar = 75 # sample mean\n",
    "s = 12 # sample standard deviation\n",
    "confidence_level = 0.90\n",
    "z = stats.norm.ppf((1 + confidence_level) / 2) # two-tailed\n",
    "\n",
    "lower_bound = x_bar - z * s / (n**0.5)\n",
    "upper_bound = x_bar + z * s / (n**0.5)\n",
    "\n",
    "print(\"90% Confidence interval for the population mean:\", (lower_bound, upper_bound))\n"
   ]
  },
  {
   "cell_type": "markdown",
   "id": "df6e2b4b-5551-4aef-bae6-44cd5134161e",
   "metadata": {},
   "source": [
    "## Q6. Use Python to plot the chi-square distribution with 10 degrees of freedom. Label the axes and shade the area corresponding to a chi-square statistic of 15."
   ]
  },
  {
   "cell_type": "code",
   "execution_count": 37,
   "id": "9756dec9-ed0b-4fb9-804b-96937a0cfbfb",
   "metadata": {},
   "outputs": [
    {
     "data": {
      "image/png": "[encoded data removed]",
      "text/plain": [
       "<Figure size 640x480 with 1 Axes>"
      ]
     },
     "metadata": {},
     "output_type": "display_data"
    }
   ],
   "source": [
    "import scipy.stats as stats\n",
    "import matplotlib.pyplot as plt\n",
    "import numpy as np\n",
    "\n",
    "dof = 10 # degrees of freedom\n",
    "x = np.linspace(stats.chi2.ppf(0.01, dof), stats.chi2.ppf(0.99, dof), 100) # range of values for the x-axis\n",
    "y = stats.chi2.pdf(x, dof) # corresponding values for the probability density function\n",
    "\n",
    "plt.plot(x, y)\n",
    "plt.xlabel('X')\n",
    "plt.ylabel('Density')\n",
    "plt.title('Chi-Square Distribution with 10 Degrees of Freedom')\n",
    "\n",
    "plt.fill_between(x[x>=15], 0, y[x>=15], alpha=0.5) # shade the area corresponding to a chi-square statistic of 15\n",
    "\n",
    "plt.show()\n"
   ]
  },
  {
   "cell_type": "markdown",
   "id": "cda72661-2a1f-4818-afa6-23d77c970328",
   "metadata": {},
   "source": [
    "## Q7. A random sample of 1000 people was asked if they preferred Coke or Pepsi. Of the sample, 520 preferred Coke. Calculate a 99% confidence interval for the true proportion of people in the population who prefer Coke."
   ]
  },
  {
   "cell_type": "code",
   "execution_count": 38,
   "id": "387cdee4-58cd-4987-b8f3-750070f8e5f9",
   "metadata": {},
   "outputs": [
    {
     "name": "stdout",
     "output_type": "stream",
     "text": [
      "99% Confidence interval for the true proportion of people who prefer Coke: (0.4793051576779699, 0.5606948423220302)\n"
     ]
    }
   ],
   "source": [
    "import scipy.stats as stats\n",
    "\n",
    "n = 1000 # sample size\n",
    "x = 520 # number of people who prefer Coke\n",
    "p_hat = x / n # sample proportion\n",
    "confidence_level = 0.99\n",
    "z = stats.norm.ppf((1 + confidence_level) / 2) # two-tailed\n",
    "\n",
    "lower_bound = p_hat - z * ((p_hat*(1-p_hat))/n)**0.5\n",
    "upper_bound = p_hat + z * ((p_hat*(1-p_hat))/n)**0.5\n",
    "\n",
    "print(\"99% Confidence interval for the true proportion of people who prefer Coke:\", (lower_bound, upper_bound))\n"
   ]
  },
  {
   "cell_type": "markdown",
   "id": "84ff4577-8558-4f00-b7bf-1d503f1af9bd",
   "metadata": {},
   "source": [
    "## Q8. A researcher hypothesizes that a coin is biased towards tails. They flip the coin 100 times and observe 45 tails. Conduct a chi-square goodness of fit test to determine if the observed frequencies match the expected frequencies of a fair coin. Use a significance level of 0.05."
   ]
  },
  {
   "cell_type": "code",
   "execution_count": 39,
   "id": "205a84cd-b85f-48f8-a964-ddc8c9a35ae2",
   "metadata": {},
   "outputs": [],
   "source": [
    "import scipy.stats as stats\n",
    "\n",
    "# Step 1: state the null and alternative hypotheses\n",
    "# Null hypothesis: The observed frequencies match the expected frequencies of a fair coin.\n",
    "# Alternative hypothesis: The observed frequencies do not match the expected frequencies of a fair coin."
   ]
  },
  {
   "cell_type": "code",
   "execution_count": 40,
   "id": "3b9e78c5-217a-4686-9ec5-f1529cdef2e1",
   "metadata": {},
   "outputs": [],
   "source": [
    "# Step 2: determine the expected frequencies under the null hypothesis\n",
    "n = 100 # sample size\n",
    "p = 0.5 # expected probability of tails for a fair coin\n",
    "expected_tails = n * p\n",
    "expected_heads = n * (1 - p)"
   ]
  },
  {
   "cell_type": "code",
   "execution_count": 41,
   "id": "4ee01ca9-547a-46b9-ae44-e7efbcc1205f",
   "metadata": {},
   "outputs": [],
   "source": [
    "# Step 3: calculate the chi-square test statistic\n",
    "observed_tails = 45\n",
    "observed_heads = n - observed_tails\n",
    "chi2 = ((observed_tails - expected_tails)**2 / expected_tails) + ((observed_heads - expected_heads)**2 / expected_heads)"
   ]
  },
  {
   "cell_type": "code",
   "execution_count": 42,
   "id": "a407172a-638a-4d22-bfa5-2c5d349f0f7b",
   "metadata": {},
   "outputs": [],
   "source": [
    "# Step 4: determine the degrees of freedom\n",
    "df = 1"
   ]
  },
  {
   "cell_type": "code",
   "execution_count": 43,
   "id": "514ee327-8f8e-4358-9267-1cbd5f4387ee",
   "metadata": {},
   "outputs": [],
   "source": [
    "# Step 5: determine the p-value using the chi-square distribution\n",
    "p_value = 1 - stats.chi2.cdf(chi2, df)"
   ]
  },
  {
   "cell_type": "code",
   "execution_count": 44,
   "id": "84ddeccd-0a41-4143-84c3-24f01c927372",
   "metadata": {},
   "outputs": [
    {
     "name": "stdout",
     "output_type": "stream",
     "text": [
      "Fail to reject the null hypothesis.\n",
      "The chi-square test statistic is: 1.0\n",
      "The p-value is: 0.31731050786291415\n"
     ]
    }
   ],
   "source": [
    "# Step 6: make a decision and interpret the results\n",
    "alpha = 0.05\n",
    "if p_value < alpha:\n",
    "    print(\"Reject the null hypothesis.\")\n",
    "else:\n",
    "    print(\"Fail to reject the null hypothesis.\")\n",
    "print(\"The chi-square test statistic is:\", chi2)\n",
    "print(\"The p-value is:\", p_value)"
   ]
  },
  {
   "cell_type": "markdown",
   "id": "fc7b62a4-f29f-4b85-8873-49c0b556a8ee",
   "metadata": {},
   "source": [
    "## Q9. A study was conducted to determine if there is an association between smoking status (smoker or non-smoker) and lung cancer diagnosis (yes or no). The results are shown in the contingency table below. Conduct a chi-square test for independence to determine if there is a significant association between smoking status and lung cancer diagnosis. Use a significance level of 0.05."
   ]
  },
  {
   "cell_type": "markdown",
   "id": "59eb8004-b93f-4ad8-a059-949c6733525e",
   "metadata": {},
   "source": [
    "1. Lung Cancer: Yes = [60,30]\n",
    "2. Lung Cancer: No = [140, 170]"
   ]
  },
  {
   "cell_type": "code",
   "execution_count": 48,
   "id": "d2802c8c-0dac-47c8-ba52-3b8f63fed454",
   "metadata": {},
   "outputs": [],
   "source": [
    "observed = [[60,30],\n",
    "            [140,170]]\n",
    "\n",
    "alpha = 0.05"
   ]
  },
  {
   "cell_type": "code",
   "execution_count": 49,
   "id": "83365188-b49b-4895-800a-608a3dbfee1c",
   "metadata": {},
   "outputs": [],
   "source": [
    "chisquare_test_statistics, p_value, dof, expected = stats.chi2_contingency(observed)"
   ]
  },
  {
   "cell_type": "code",
   "execution_count": 51,
   "id": "759cfb42-61db-4263-a920-b48fc323dc87",
   "metadata": {},
   "outputs": [
    {
     "name": "stdout",
     "output_type": "stream",
     "text": [
      "There is significant evidence of an association between smoking status and lung cancer diagnosis.\n",
      "Chi-square statistic: 12.057347670250895\n",
      "p-value: 0.0005158863863703744\n"
     ]
    }
   ],
   "source": [
    "if p_value < alpha:\n",
    "    print(\"There is significant evidence of an association between smoking status and lung cancer diagnosis.\")\n",
    "else:\n",
    "    print(\"There is no significant evidence of an association between smoking status and lung cancer diagnosis.\")\n",
    "\n",
    "print(\"Chi-square statistic:\", chisquare_test_statistics)\n",
    "print(\"p-value:\", p_value)"
   ]
  },
  {
   "cell_type": "markdown",
   "id": "e88f5592-d4c7-4d0f-b194-ab67f9222a86",
   "metadata": {},
   "source": [
    "## Q10. A study was conducted to determine if the proportion of people who prefer milk chocolate, dark chocolate, or white chocolate is different in the U.S. versus the U.K. A random sample of 500 people from the U.S. and a random sample of 500 people from the U.K. were surveyed. The results are shown in the contingency table below. Conduct a chi-square test for independence to determine if there is a significant association between chocolate preference and country of origin. Use a significance level of 0.01.\n",
    "\n",
    "\n",
    "\n",
    "U.S. (n=500) = 200 150 150\n",
    "U.K. (n=500) = 225 175 100\n"
   ]
  },
  {
   "cell_type": "code",
   "execution_count": 55,
   "id": "a115c5d0-acf0-45c5-9ac9-7031ccc1e451",
   "metadata": {},
   "outputs": [],
   "source": [
    "observed = [[200,225],\n",
    "            [150,175],\n",
    "            [150,100]]\n",
    "\n",
    "alpha = 0.01"
   ]
  },
  {
   "cell_type": "code",
   "execution_count": 56,
   "id": "dff298b4-8647-46e3-98fa-0010a46fec3c",
   "metadata": {},
   "outputs": [],
   "source": [
    "chisquare_test_statistics, p_value, dof, expected = stats.chi2_contingency(observed)"
   ]
  },
  {
   "cell_type": "code",
   "execution_count": 57,
   "id": "db333b5a-50b2-4748-837c-9e47abcc161a",
   "metadata": {},
   "outputs": [
    {
     "name": "stdout",
     "output_type": "stream",
     "text": [
      "There is significant evidence of an association between chocolate preference and country of origin.\n",
      "Chi-square statistic: 13.393665158371041\n",
      "p-value: 0.0012348168997745918\n"
     ]
    }
   ],
   "source": [
    "if p_value < alpha:\n",
    "    print(\"There is significant evidence of an association between chocolate preference and country of origin.\")\n",
    "else:\n",
    "    print(\"There is no significant evidence of an association between chocolate preference and country of origin.\")\n",
    "\n",
    "print(\"Chi-square statistic:\", chisquare_test_statistics)\n",
    "print(\"p-value:\", p_value)"
   ]
  },
  {
   "cell_type": "markdown",
   "id": "091fee26-54dc-49a4-ad2a-47dd8df9592e",
   "metadata": {},
   "source": [
    "## Q11. A random sample of 30 people was selected from a population with an unknown mean and standard deviation. The sample mean was found to be 72 and the sample standard deviation was found to be 10. Conduct a hypothesis test to determine if the population mean is significantly different from 70. Use a significance level of 0.05."
   ]
  },
  {
   "cell_type": "code",
   "execution_count": 63,
   "id": "11483740-ce39-4ad5-8fb4-aef15ecaf9d9",
   "metadata": {},
   "outputs": [],
   "source": [
    "from scipy.stats import t\n",
    "\n",
    "# Step 1: State the null and alternative hypotheses\n",
    "# H0: population mean = 70\n",
    "# Ha: population mean != 70"
   ]
  },
  {
   "cell_type": "code",
   "execution_count": 64,
   "id": "f4800137-d2db-4b80-9dcc-39f4e6a8863c",
   "metadata": {},
   "outputs": [],
   "source": [
    "# Step 2: Set the significance level (alpha) to 0.05\n",
    "alpha = 0.05"
   ]
  },
  {
   "cell_type": "code",
   "execution_count": 65,
   "id": "9f9d72bb-ce5f-4268-aa41-e7cdac7a4fbe",
   "metadata": {},
   "outputs": [
    {
     "name": "stdout",
     "output_type": "stream",
     "text": [
      "t-value: 1.0954451150103321\n"
     ]
    }
   ],
   "source": [
    "# Step 3: Calculate the test statistic\n",
    "sample_mean = 72\n",
    "sample_standard_deviation = 10\n",
    "sample_size = 30\n",
    "population_mean = 70\n",
    "t_value = (sample_mean - population_mean) / (sample_standard_deviation / (sample_size ** 0.5))\n",
    "print(\"t-value:\", t_value)"
   ]
  },
  {
   "cell_type": "code",
   "execution_count": 66,
   "id": "be45e14a-afbd-4c1f-8204-bb56b96d5aee",
   "metadata": {},
   "outputs": [
    {
     "name": "stdout",
     "output_type": "stream",
     "text": [
      "p-value: 0.2823362372860698\n"
     ]
    }
   ],
   "source": [
    "# Step 4: Calculate the p-value\n",
    "degrees_of_freedom = sample_size - 1\n",
    "p_value = 2 * (1 - t.cdf(abs(t_value), degrees_of_freedom))\n",
    "print(\"p-value:\", p_value)"
   ]
  },
  {
   "cell_type": "code",
   "execution_count": 67,
   "id": "3f646080-d421-4f2f-bc97-9548f7950b84",
   "metadata": {},
   "outputs": [
    {
     "name": "stdout",
     "output_type": "stream",
     "text": [
      "We fail to reject the null hypothesis.\n"
     ]
    }
   ],
   "source": [
    "# Step 5: Make a decision and interpret the results\n",
    "if p_value < alpha:\n",
    "    print(\"We reject the null hypothesis.\")\n",
    "else:\n",
    "    print(\"We fail to reject the null hypothesis.\")"
   ]
  }
 ],
 "metadata": {
  "kernelspec": {
   "display_name": "Python 3 (ipykernel)",
   "language": "python",
   "name": "python3"
  },
  "language_info": {
   "codemirror_mode": {
    "name": "ipython",
    "version": 3
   },
   "file_extension": ".py",
   "mimetype": "text/x-python",
   "name": "python",
   "nbconvert_exporter": "python",
   "pygments_lexer": "ipython3",
   "version": "3.10.8"
  }
 },
 "nbformat": 4,
 "nbformat_minor": 5
}
