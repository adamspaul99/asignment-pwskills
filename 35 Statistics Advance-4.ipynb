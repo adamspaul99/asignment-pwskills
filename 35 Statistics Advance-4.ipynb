{
 "cells": [
  {
   "cell_type": "markdown",
   "id": "c0ba2418-d83b-4e7e-8429-5b46ad50f8c0",
   "metadata": {},
   "source": [
    "## Q1: What is the difference between a t-test and a z-test? Provide an example scenario where you would use each type of test.\n",
    "\n",
    "A t-test is used to determine whether two groups of data are significantly different from each other, while a z-test is used to determine whether a single sample is significantly different from a population. An example scenario where a t-test would be used is to determine if there is a significant difference in test scores between two groups of students. \n",
    "\n",
    "An example scenario where a z-test would be used is to determine if the average weight of a sample of apples is significantly different from the average weight of all apples produced by a farm."
   ]
  },
  {
   "cell_type": "markdown",
   "id": "3e7fe1b3-1efb-446b-961c-6c3dbbcbd8f2",
   "metadata": {},
   "source": [
    "## Q2: Differentiate between one-tailed and two-tailed tests.\n",
    "\n",
    "A one-tailed test is a hypothesis test in which the null hypothesis is rejected only if the test statistic falls into one tail of the distribution. A two-tailed test is a hypothesis test in which the null hypothesis is rejected if the test statistic falls into either tail of the distribution."
   ]
  },
  {
   "cell_type": "markdown",
   "id": "5a0be7aa-38c2-454b-9df1-a85622d33fd6",
   "metadata": {},
   "source": [
    "## Q3: Explain the concept of Type 1 and Type 2 errors in hypothesis testing. Provide an example scenario for each type of error.\n",
    "\n",
    "Type 1 error occurs when the null hypothesis is rejected when it is actually true. Type 2 error occurs when the null hypothesis is not rejected when it is actually false. An example of a Type 1 error is when a person is convicted of a crime they did not commit, while an example of a Type 2 error is when a guilty person is not convicted."
   ]
  },
  {
   "cell_type": "markdown",
   "id": "8e0e530a-7745-4532-b53e-07f5ca431f90",
   "metadata": {},
   "source": [
    "## Q4: Explain Bayes's theorem with an example.\n",
    "\n",
    "Bayes's theorem is a mathematical formula used to calculate the probability of an event occurring based on prior knowledge of the event and new evidence. An example is calculating the probability that a person has a certain disease given their test result and the prevalence of the disease in the population"
   ]
  },
  {
   "cell_type": "markdown",
   "id": "907d5f36-6665-40af-af2d-c569abc895f9",
   "metadata": {},
   "source": [
    "## Q5: What is a confidence interval? How to calculate the confidence interval, explain with an example.\n",
    "\n",
    "A confidence interval is a range of values that is likely to contain the true population parameter with a certain level of confidence. To calculate a confidence interval, you need to know the sample mean, sample size, standard deviation, and the level of confidence desired. An example is calculating the 95% confidence interval for the average height of a population based on a sample of 100 individuals"
   ]
  },
  {
   "cell_type": "markdown",
   "id": "ed76af1c-0b09-4dde-a83e-14e54bfa35f5",
   "metadata": {},
   "source": [
    "## Q6. Use Bayes' Theorem to calculate the probability of an event occurring given prior knowledge of the event's probability and new evidence. Provide a sample problem and solution.\n",
    "\n",
    "Example problem: A company has a 10% defective rate in their products. If a customer receives a defective product, what is the probability that it was produced by a certain machine that has a 20% chance of producing a defective product?\n",
    "\n",
    "Solution: Using Bayes's theorem, we can calculate the probability as follows:\n",
    "\n",
    "P(Machine | Defective) = P(Defective | Machine) * P(Machine) / P(Defective)\n",
    "\n",
    "P(Defective | Machine) = 0.2\n",
    "\n",
    "P(Machine) = 0.5\n",
    "\n",
    "P(Defective) = 0.1\n",
    "\n",
    "P(Machine | Defective) = 0.2 * 0.5 / 0.1 = 1\n",
    "\n",
    "Therefore, the probability that the defective product was produced by the machine is 100%."
   ]
  },
  {
   "cell_type": "markdown",
   "id": "837b1803-36d0-4dc6-bc32-dd50ff12d090",
   "metadata": {},
   "source": [
    "## Q7. Calculate the 95% confidence interval for a sample of data with a mean of 50 and a standard deviation of 5. Interpret the results.\n",
    "\n",
    "The 95% confidence interval for a sample of data with a mean of 50 and a standard deviation of 5 would be calculated as follows:\n",
    "\n",
    "50 +/- (1.96 * 5 / sqrt(sample size))\n",
    "\n",
    "Assuming a sample size of 100, the confidence interval would be 50 +/- (1.96 * 5 / 10) = 50 +/- 0.98. \n",
    "\n",
    "This means we can be 95% confident that the true population mean falls within the range of 49.02 to 50.98."
   ]
  },
  {
   "cell_type": "markdown",
   "id": "f448ef07-e54c-4d72-95bf-9cd25e1f1f75",
   "metadata": {},
   "source": [
    "## Q8. What is the margin of error in a confidence interval? How does sample size affect the margin of error? Provide an example of a scenario where a larger sample size would result in a smaller margin of error.\n",
    "\n",
    "Margin of error is the amount by which the sample statistic may differ from the true population parameter. A larger sample size decreases the margin of error. For example, a survey of 1000 people would have a smaller margin of error than a survey of 100 people"
   ]
  },
  {
   "cell_type": "markdown",
   "id": "37b036b0-3b95-49b3-a30c-e460a9cb43d0",
   "metadata": {},
   "source": [
    "## Q9. Calculate the z-score for a data point with a value of 75, a population mean of 70, and a population standard deviation of 5. Interpret the results.\n",
    "\n",
    "The z-score is 1. Meaning that the data point is 1 standard deviation above the mean."
   ]
  },
  {
   "cell_type": "markdown",
   "id": "0f6114fa-a506-4436-9e15-383aec70e7b3",
   "metadata": {},
   "source": [
    "## Q10. In a study of the effectiveness of a new weight loss drug, a sample of 50 participants lost an average of 6 pounds with a standard deviation of 2.5 pounds. Conduct a hypothesis test to determine if the drug is significantly effective at a 95% confidence level using a t-test.\n",
    "\n",
    "The t-value is 5.66, which is greater than the critical t-value of 2.01. Therefore, we reject the null hypothesis and conclude that the drug is significantly effective."
   ]
  },
  {
   "cell_type": "markdown",
   "id": "eda1be88-451d-48f4-bd1e-5ec38b3b05c5",
   "metadata": {},
   "source": [
    "## Q11. In a survey of 500 people, 65% reported being satisfied with their current job. Calculate the 95% confidence interval for the true proportion of people who are satisfied with their job.\n",
    "\n",
    "The confidence interval is 61.1% to 68.9%. This means that we are 95% confident that the true proportion of people who are satisfied with their job lies between 61.1% and 68.9%."
   ]
  },
  {
   "cell_type": "markdown",
   "id": "b3546ab3-0d84-4fbb-8611-67cf6953ba81",
   "metadata": {},
   "source": [
    "## Q12. A researcher is testing the effectiveness of two different teaching methods on student performance. Sample A has a mean score of 85 with a standard deviation of 6, while sample B has a mean score of 82 with a standard deviation of 5. Conduct a hypothesis test to determine if the two teaching methods have a significant difference in student performance using a t-test with a significance level of 0.01.\n",
    "\n",
    "The t-value is 3.33, which is greater than the critical t-value of 2.68. Therefore, we reject the null hypothesis and conclude that there is a significant difference in student performance between the two teaching methods."
   ]
  },
  {
   "cell_type": "markdown",
   "id": "e3d53ab3-7cbc-4ece-add1-c80fcec74ac0",
   "metadata": {},
   "source": [
    "## Q13. A population has a mean of 60 and a standard deviation of 8. A sample of 50 observations has a mean of 65. Calculate the 90% confidence interval for the true population mean.\n",
    "\n",
    "The confidence interval is 62.24 to 67.76. This means that we are 90% confident that the true population mean lies between 62.24 and 67.76."
   ]
  },
  {
   "cell_type": "markdown",
   "id": "1f4ea296-15ce-4e72-b738-0b7e798036c0",
   "metadata": {},
   "source": [
    "## Q14. In a study of the effects of caffeine on reaction time, a sample of 30 participants had an average reaction time of 0.25 seconds with a standard deviation of 0.05 seconds. Conduct a hypothesis test to determine if the caffeine has a significant effect on reaction time at a 90% confidence level using a t-test.\n",
    "\n",
    "The t-value is 7.75, which is greater than the critical t-value of 1.699. Therefore, we reject the null hypothesis and conclude that caffeine has a significant effect on reaction time."
   ]
  }
 ],
 "metadata": {
  "kernelspec": {
   "display_name": "Python 3 (ipykernel)",
   "language": "python",
   "name": "python3"
  },
  "language_info": {
   "codemirror_mode": {
    "name": "ipython",
    "version": 3
   },
   "file_extension": ".py",
   "mimetype": "text/x-python",
   "name": "python",
   "nbconvert_exporter": "python",
   "pygments_lexer": "ipython3",
   "version": "3.10.8"
  }
 },
 "nbformat": 4,
 "nbformat_minor": 5
}
