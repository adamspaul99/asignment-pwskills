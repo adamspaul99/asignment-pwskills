{
 "cells": [
  {
   "cell_type": "markdown",
   "id": "77abd08c-f3f5-4dd6-8499-c8607456d7ab",
   "metadata": {},
   "source": [
    "## 1. Who developed Python Programming Language?\n",
    "\n",
    "**ANS -** Guido van Rossum\n"
   ]
  },
  {
   "cell_type": "markdown",
   "id": "3bef0909-a908-4324-b636-9d02e91ba5cc",
   "metadata": {},
   "source": [
    "## 2. Which type of Programming does Python support?\n",
    "\n",
    "**ANS -** Python is an interpreted programming language, supporting object-oriented, structured, and functional programming."
   ]
  },
  {
   "cell_type": "markdown",
   "id": "79c57eab-e3b2-4a43-bb0c-ea0cd35728b4",
   "metadata": {},
   "source": [
    "## 3. Is Python case sensitive when dealing with identifiers?\n",
    "\n",
    "**ANS -** Yes, Python is a case−sensitive programming language. This means that it considers uppercase and lowercase letters differently.\n",
    "\n"
   ]
  },
  {
   "cell_type": "markdown",
   "id": "76140d4f-e308-4ca5-bf29-fc19c440f64e",
   "metadata": {},
   "source": [
    "## 4. What is the correct extension of the Python file?\n",
    "\n",
    "**ANS -** .py This is the file extension for Python code files."
   ]
  },
  {
   "cell_type": "markdown",
   "id": "f4988f67-eac5-4068-8ee2-80bac9a18c06",
   "metadata": {},
   "source": [
    "## 5. Is Python code compiled or interpreted?\n",
    "\n",
    "**ANS -** Python is an interpreted language."
   ]
  },
  {
   "cell_type": "markdown",
   "id": "15281518-e5cd-43a6-b0e2-7dc6730c499b",
   "metadata": {},
   "source": [
    "## 6. Name a few blocks of code used to define in Python language?\n",
    "\n",
    "**ANS -** a module, a function body, and a class definition"
   ]
  },
  {
   "cell_type": "markdown",
   "id": "ee9befa7-a093-422e-840e-10854cf5805c",
   "metadata": {},
   "source": [
    "## 7. State a character used to give single-line comments in Python? \n",
    "\n",
    "**ANS -** ' # ' is used for single line comment."
   ]
  },
  {
   "cell_type": "markdown",
   "id": "0dd2851e-6926-4aed-baa6-c777fdb65b50",
   "metadata": {},
   "source": [
    "## 8. Mention functions which can help us to find the version of python that we are currently working on?\n",
    "\n",
    "**ANS -** In Windows operating systems, we can use the command python --version to check the python version."
   ]
  },
  {
   "cell_type": "markdown",
   "id": "0b224a12-4e64-4b74-9172-cdab0c71c7d8",
   "metadata": {},
   "source": [
    "## 9. Python supports the creation of anonymous functions at runtime, using a construct called\n",
    "\n",
    "**ANS -** Python supports the creation of anonymous functions at runtime, using a construct called lambda."
   ]
  },
  {
   "cell_type": "markdown",
   "id": "3841ed6d-afa6-46b4-82a6-ca6e0450de0b",
   "metadata": {},
   "source": [
    "## 10. What does pip stand for python?\n",
    "\n",
    "**ANS -** pip is stands for package manager in the python. its handles the installation and uninstallation of libraries in python."
   ]
  },
  {
   "cell_type": "markdown",
   "id": "659842c4-9cce-478d-8cbe-74a3fb06fa54",
   "metadata": {},
   "source": [
    "## 11. Mention a few built-in functions in python?\n",
    "\n",
    "**ANS -** filter(), float(), format(), str(), int()"
   ]
  },
  {
   "cell_type": "markdown",
   "id": "dcfe506a-6771-4cc1-b639-35c1abe0becd",
   "metadata": {},
   "source": [
    "## 12. What is the maximum possible length of an identifier in Python?\n",
    "\n",
    "**ANS -** An identifier can have a maximum length of 79 characters in Python."
   ]
  },
  {
   "cell_type": "markdown",
   "id": "5fdcac3a-4c46-410d-85dc-ab37e447df70",
   "metadata": {},
   "source": [
    "## 13. What are the benefits of using Python?\n",
    "\n",
    "**ANS -** \n",
    "1. Simple to Use and Understand. For newcomers, Python is simple to understand and use.\n",
    "2. Free and Open-Source. Video Player is loading.\n",
    "3. Productivity has Increased.\n",
    "4. Interpreted Language.\n",
    "5. Extensive library.\n",
    "6. Dynamically Typed.\n",
    "7. Portability.\n",
    "8. Supportive community."
   ]
  },
  {
   "cell_type": "markdown",
   "id": "8e6ce1c5-7761-41e1-8602-0dce24a06e1f",
   "metadata": {},
   "source": [
    "## 14. How is memory managed in Python?\n",
    "\n",
    "**ANS -** Memory management in Python involves a private heap containing all Python objects and data structures. The management of this private heap is ensured internally by the Python memory manager.\n",
    "\n",
    "Source : python documentation."
   ]
  },
  {
   "cell_type": "markdown",
   "id": "f58e23b0-0cf0-4261-9974-4a63a303379c",
   "metadata": {},
   "source": [
    "## 15. How to install Python on Windows and set path variables\n",
    "\n",
    "**ANS -** \n",
    "1. Right-clicking This PC and going to Properties.\n",
    "\n",
    "2. Clicking on the Advanced system settings in the menu on the left.\n",
    "\n",
    "3. Clicking on the Environment Variables button o​n the bottom right.\n",
    "\n",
    "4. In the System variables section, selecting the Path variable and clicking on Edit. The next screen will show all the directories that are currently a part of the PATH variable.\n",
    "\n",
    "5. Clicking on New and entering Python’s install directory."
   ]
  },
  {
   "cell_type": "markdown",
   "id": "de2243b3-a21a-4c72-910d-a41a0e940130",
   "metadata": {},
   "source": [
    "## 16. is indentation required in python?\n",
    "\n",
    "**ANS -** yes, indentation is required"
   ]
  },
  {
   "cell_type": "code",
   "execution_count": null,
   "id": "693c0259-5513-40a3-81e7-1b0cd1ae0104",
   "metadata": {},
   "outputs": [],
   "source": []
  },
  {
   "cell_type": "code",
   "execution_count": null,
   "id": "8c878d01-68ef-42d1-9a92-409fd56e593c",
   "metadata": {},
   "outputs": [],
   "source": []
  },
  {
   "cell_type": "code",
   "execution_count": null,
   "id": "674204c6-25b5-4a92-a00a-cc91f04626fe",
   "metadata": {},
   "outputs": [],
   "source": []
  },
  {
   "cell_type": "code",
   "execution_count": null,
   "id": "0340cac8-69aa-4af4-ab49-d1d68b8b9062",
   "metadata": {},
   "outputs": [],
   "source": []
  },
  {
   "cell_type": "code",
   "execution_count": null,
   "id": "974776e8-2900-4e89-8245-ab1a68197b65",
   "metadata": {},
   "outputs": [],
   "source": []
  },
  {
   "cell_type": "code",
   "execution_count": null,
   "id": "b7c7cbff-2ad1-4305-9e04-81a072b1440f",
   "metadata": {},
   "outputs": [],
   "source": []
  }
 ],
 "metadata": {
  "kernelspec": {
   "display_name": "Python 3 (ipykernel)",
   "language": "python",
   "name": "python3"
  },
  "language_info": {
   "codemirror_mode": {
    "name": "ipython",
    "version": 3
   },
   "file_extension": ".py",
   "mimetype": "text/x-python",
   "name": "python",
   "nbconvert_exporter": "python",
   "pygments_lexer": "ipython3",
   "version": "3.10.8"
  }
 },
 "nbformat": 4,
 "nbformat_minor": 5
}
