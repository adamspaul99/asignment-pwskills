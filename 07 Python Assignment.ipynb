{
 "cells": [
  {
   "cell_type": "markdown",
   "id": "0c4c0816-77dd-45c8-82ad-4ac338f6c8b0",
   "metadata": {},
   "source": [
    "# Q1. Create a function which will take a list as an argument and return the product of all the numbers after creating a flat list.\n",
    "\n",
    "Use the below-given list as an argument for your function.\n",
    "\n",
    "list1 = [1,2,3,4, [44,55,66, True], False, (34,56,78,89,34), {1,2,3,3,2,1}, {1:34, \"key2\": [55, 67, 78, 89], 4: (45,\n",
    "22, 61, 34)}, [56, 'data science'], 'Machine Learning']\n",
    "\n",
    "Note: you must extract numeric keys and values of the dictionary also."
   ]
  },
  {
   "cell_type": "code",
   "execution_count": 1,
   "id": "b8c6c3b2-704d-4c23-bae5-f2f8a0126fde",
   "metadata": {},
   "outputs": [],
   "source": [
    "list1 = [1,2,3,4, [44,55,66, True], False, (34,56,78,89,34), {1,2,3,3,2,1}, {1:34, \"key2\": [55, 67, 78, 89], 4: (45, 22, 61, 34)}, [56, 'data science'], 'Machine Learning']"
   ]
  },
  {
   "cell_type": "code",
   "execution_count": 2,
   "id": "264c4c73-034f-4864-ace6-35a43d5ffcfb",
   "metadata": {},
   "outputs": [],
   "source": [
    "flat_list = []\n",
    "a = []\n",
    "b = []\n",
    "c = []\n",
    "def product1(lst):\n",
    "    \n",
    "    for item in lst:\n",
    "        if type(item) is list or type(item) is tuple or type(item) is set:\n",
    "            flat_list.extend(item)\n",
    "        elif type(item) is dict:\n",
    "            flat_list.extend(item.values())\n",
    "        else:\n",
    "            flat_list.append(item)\n",
    "    \n",
    "    for i in flat_list:\n",
    "        if type(i) is tuple or type(i) is list:\n",
    "            for j in i:\n",
    "                b.append(j)\n",
    "    \n",
    "    c = flat_list + b\n",
    "    product = 1\n",
    "    for num in c:\n",
    "        if type(num) is int or type(num) is float:\n",
    "            a.append(num)\n",
    "            product *= num\n",
    "    \n",
    "    return product"
   ]
  },
  {
   "cell_type": "code",
   "execution_count": 3,
   "id": "9b3ba26c-86ff-4ace-8652-bd0785c7a587",
   "metadata": {},
   "outputs": [
    {
     "data": {
      "text/plain": [
       "1033677959746771369708460310528000"
      ]
     },
     "execution_count": 3,
     "metadata": {},
     "output_type": "execute_result"
    }
   ],
   "source": [
    "product1(list1)"
   ]
  },
  {
   "cell_type": "code",
   "execution_count": 4,
   "id": "1fef8e23-f4d0-4960-83d3-47c57158c16e",
   "metadata": {},
   "outputs": [
    {
     "data": {
      "text/plain": [
       "[1,\n",
       " 2,\n",
       " 3,\n",
       " 4,\n",
       " 44,\n",
       " 55,\n",
       " 66,\n",
       " True,\n",
       " False,\n",
       " 34,\n",
       " 56,\n",
       " 78,\n",
       " 89,\n",
       " 34,\n",
       " 1,\n",
       " 2,\n",
       " 3,\n",
       " 34,\n",
       " [55, 67, 78, 89],\n",
       " (45, 22, 61, 34),\n",
       " 56,\n",
       " 'data science',\n",
       " 'Machine Learning']"
      ]
     },
     "execution_count": 4,
     "metadata": {},
     "output_type": "execute_result"
    }
   ],
   "source": [
    "flat_list"
   ]
  },
  {
   "cell_type": "code",
   "execution_count": 5,
   "id": "6d24f1a7-8c4d-49b6-ab6d-c4c0c7c75761",
   "metadata": {},
   "outputs": [
    {
     "data": {
      "text/plain": [
       "[1,\n",
       " 2,\n",
       " 3,\n",
       " 4,\n",
       " 44,\n",
       " 55,\n",
       " 66,\n",
       " 34,\n",
       " 56,\n",
       " 78,\n",
       " 89,\n",
       " 34,\n",
       " 1,\n",
       " 2,\n",
       " 3,\n",
       " 34,\n",
       " 56,\n",
       " 55,\n",
       " 67,\n",
       " 78,\n",
       " 89,\n",
       " 45,\n",
       " 22,\n",
       " 61,\n",
       " 34]"
      ]
     },
     "execution_count": 5,
     "metadata": {},
     "output_type": "execute_result"
    }
   ],
   "source": [
    "a # final list with only numerical values"
   ]
  },
  {
   "cell_type": "markdown",
   "id": "e6efcdac-c528-421d-9cca-380424d8170d",
   "metadata": {},
   "source": [
    "# Q2. Write a python program for encrypting a message sent to you by your friend. The logic of encryption should be such that, for a the output should be z. For b, the output should be y. For c, the output should be x respectively. Also, the whitespace should be replaced with a dollar sign. Keep the punctuation marks unchanged.\n",
    "\n",
    "Input Sentence: I want to become a Data Scientist.\n",
    "\n",
    "Encrypt the above input sentence using the program you just created.\n",
    "\n",
    "Note: Convert the given input sentence into lowercase before encrypting. The final output should be\n",
    "lowercase."
   ]
  },
  {
   "cell_type": "code",
   "execution_count": 6,
   "id": "35558f9f-a0a6-48b1-9f95-5ccfaf74d821",
   "metadata": {},
   "outputs": [],
   "source": [
    "def encrypt(message):\n",
    "    encrypted_message = \"\"\n",
    "    for char in message:\n",
    "        for letter in char:\n",
    "            if letter == 'a':\n",
    "                encrypted_message += 'z'\n",
    "            elif letter == 'b':\n",
    "                encrypted_message += 'y'\n",
    "            elif letter == 'c':\n",
    "                encrypted_message += 'x'\n",
    "            elif letter == ' ':\n",
    "                encrypted_message += '$'\n",
    "            else:\n",
    "                encrypted_message += letter\n",
    "    return encrypted_message\n"
   ]
  },
  {
   "cell_type": "code",
   "execution_count": 7,
   "id": "da9242aa-516f-43b2-88da-6b0fce887951",
   "metadata": {},
   "outputs": [
    {
     "name": "stdout",
     "output_type": "stream",
     "text": [
      "I$wznt$to$yexome$z$Dztz$Sxientist.\n"
     ]
    }
   ],
   "source": [
    "input_sentence = \"I want to become a Data Scientist.\"\n",
    "encrypted_sentence = encrypt(input_sentence)\n",
    "print(encrypted_sentence)\n"
   ]
  },
  {
   "cell_type": "code",
   "execution_count": null,
   "id": "8e43b901-fc47-4bb6-a361-5dfbaa35685d",
   "metadata": {},
   "outputs": [],
   "source": []
  }
 ],
 "metadata": {
  "kernelspec": {
   "display_name": "Python 3 (ipykernel)",
   "language": "python",
   "name": "python3"
  },
  "language_info": {
   "codemirror_mode": {
    "name": "ipython",
    "version": 3
   },
   "file_extension": ".py",
   "mimetype": "text/x-python",
   "name": "python",
   "nbconvert_exporter": "python",
   "pygments_lexer": "ipython3",
   "version": "3.10.8"
  }
 },
 "nbformat": 4,
 "nbformat_minor": 5
}
