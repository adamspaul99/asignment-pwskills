{
 "cells": [
  {
   "cell_type": "markdown",
   "id": "81d63c98-b4f3-4f65-8496-631eedd9041e",
   "metadata": {},
   "source": [
    "## Q1. Write a Python function that takes in two arrays of data and calculates the F-value for a variance ratio test. The function should return the F-value and the corresponding p-value for the test.\n"
   ]
  },
  {
   "cell_type": "code",
   "execution_count": 6,
   "id": "dbed2c46-0e22-4a34-bb3e-798049b356d5",
   "metadata": {},
   "outputs": [],
   "source": [
    "import numpy as np\n",
    "from scipy.stats import f\n",
    "\n",
    "def variance_ratio_test(x, y):\n",
    "    n_x = len(x)\n",
    "    n_y = len(y)\n",
    "    var_x = np.var(x, ddof=1)\n",
    "    var_y = np.var(y, ddof=1)\n",
    "    f_value = var_x / var_y\n",
    "    p_value = f.cdf(f_value, n_x-1, n_y-1)\n",
    "    return f_value, p_value\n"
   ]
  },
  {
   "cell_type": "markdown",
   "id": "6e1ffbb4-ef9c-4b57-84d9-e477ab99a321",
   "metadata": {},
   "source": [
    "## Q2. Given a significance level of 0.05 and the degrees of freedom for the numerator and denominator of an F-distribution, write a Python function that returns the critical F-value for a two-tailed test."
   ]
  },
  {
   "cell_type": "code",
   "execution_count": 7,
   "id": "8696265e-953c-4b2d-9a1f-866671d1344e",
   "metadata": {},
   "outputs": [],
   "source": [
    "from scipy.stats import f\n",
    "\n",
    "def critical_f_value(alpha, dfn, dfd):\n",
    "    return f.ppf(1-alpha/2, dfn, dfd)\n"
   ]
  },
  {
   "cell_type": "markdown",
   "id": "1719a2b0-2ba5-41e8-9530-507d27ed57c5",
   "metadata": {},
   "source": [
    "## Q3. Write a Python program that generates random samples from two normal distributions with known variances and uses an F-test to determine if the variances are equal. The program should output the F- value, degrees of freedom, and p-value for the test."
   ]
  },
  {
   "cell_type": "code",
   "execution_count": 8,
   "id": "391377b2-b5e1-41e2-85e4-6703c0a4a61b",
   "metadata": {},
   "outputs": [
    {
     "name": "stdout",
     "output_type": "stream",
     "text": [
      "Sample sizes: n_x = 20, n_y = 30\n",
      "Variances: var_x = 4, var_y = 9\n",
      "F-value = 0.33, dfn = 19, dfd = 29, p-value = 0.0077\n"
     ]
    }
   ],
   "source": [
    "import numpy as np\n",
    "from scipy.stats import f\n",
    "\n",
    "np.random.seed(12345)\n",
    "\n",
    "# Generate random samples from two normal distributions\n",
    "n_x = 20\n",
    "n_y = 30\n",
    "mean_x = 0\n",
    "mean_y = 0\n",
    "var_x = 4\n",
    "var_y = 9\n",
    "x = np.random.normal(mean_x, np.sqrt(var_x), n_x)\n",
    "y = np.random.normal(mean_y, np.sqrt(var_y), n_y)\n",
    "\n",
    "# Compute F-value and p-value for variance ratio test\n",
    "f_value, p_value = variance_ratio_test(x, y)\n",
    "dfn = len(x) - 1\n",
    "dfd = len(y) - 1\n",
    "\n",
    "# Print results\n",
    "print(\"Sample sizes: n_x = {}, n_y = {}\".format(n_x, n_y))\n",
    "print(\"Variances: var_x = {}, var_y = {}\".format(var_x, var_y))\n",
    "print(\"F-value = {:.2f}, dfn = {}, dfd = {}, p-value = {:.4f}\".format(f_value, dfn, dfd, p_value))\n"
   ]
  },
  {
   "cell_type": "markdown",
   "id": "3b0b086a-e699-43d2-87cc-282f84e62878",
   "metadata": {},
   "source": [
    "## Q4.The variances of two populations are known to be 10 and 15. A sample of 12 observations is taken from each population. Conduct an F-test at the 5% significance level to determine if the variances are significantly different.\n",
    "\n",
    "\n",
    "F = s1^2 / s2^2\n",
    "\n",
    "where s1^2 is the sample variance of the first population, and s2^2 is the sample variance of the second population.\n",
    "\n",
    "Under the null hypothesis, the F-statistic follows an F-distribution with degrees of freedom (df1 = n1 - 1) and (df2 = n2 - 1), where n1 and n2 are the sample sizes of the two populations.\n",
    "\n",
    "At a 5% significance level, the critical value for the F-distribution with df1 = 11 and df2 = 11 is 3.11 (using a two-tailed test).\n",
    "\n",
    "Calculating the F-statistic for the given data, we have:\n",
    "\n",
    "F = 10 / 15 = 0.67\n",
    "\n",
    "Since the calculated F-statistic (0.67) is less than the critical value (3.11), we fail to reject the null hypothesis. "
   ]
  },
  {
   "cell_type": "markdown",
   "id": "a314cf0c-23ca-41a7-bc94-2fe038705268",
   "metadata": {},
   "source": [
    "## Q5. A manufacturer claims that the variance of the diameter of a certain product is 0.005. A sample of 25products is taken, and the sample variance is found to be 0.006. Conduct an F-test at the 1% significance level to determine if the claim is justified.\n",
    "\n",
    "\n",
    "F = s^2 / σ^2\n",
    "\n",
    "where s^2 is the sample variance, and σ^2 is the population variance.\n",
    "\n",
    "Under the null hypothesis, the F-statistic follows an F-distribution with degrees of freedom (df1 = n - 1) and (df2 = infinity), where n is the sample size.\n",
    "\n",
    "At a 1% significance level, the critical value for the F-distribution with df1 = 24 and df2 = infinity is 5.32 (using a one-tailed test).\n",
    "\n",
    "Calculating the F-statistic for the given data, we have:\n",
    "\n",
    "F = 0.006 / 0.005 = 1.2\n",
    "\n",
    "Since the calculated F-statistic (1.2) is less than the critical value (5.32), we fail to reject the null hypothesis. Therefore, we can conclude that there is not enough evidence to suggest that the population variance is significantly different from 0.005 at the 1% significance level. "
   ]
  },
  {
   "cell_type": "markdown",
   "id": "7463f9f8-fe13-4873-918d-4e6814988f07",
   "metadata": {},
   "source": [
    "## Q6. Write a Python function that takes in the degrees of freedom for the numerator and denominator of an\n",
    "F-distribution and calculates the mean and variance of the distribution. The function should return the\n",
    "mean and variance as a tuple.\n"
   ]
  },
  {
   "cell_type": "code",
   "execution_count": 9,
   "id": "3972bf85-aaeb-445c-bc2a-a649f964d379",
   "metadata": {},
   "outputs": [],
   "source": [
    "import math\n",
    "\n",
    "def calculate_F_distribution(dfn,dfd):\n",
    "    mean = dfd / (dfd - 2)\n",
    "    variance = (2*(dfn + dfd - 2)*dfd*dfd*(dfn + dfd - 2 - dfn))/((dfn - 2)*(dfn - 2)*(dfn - 4))\n",
    "    return (mean, variance)\n"
   ]
  },
  {
   "cell_type": "markdown",
   "id": "e9a4f654-0f52-4ada-9c36-61fa572e0035",
   "metadata": {},
   "source": [
    "## Q7. A random sample of 10 measurements is taken from a normal population with unknown variance. The sample variance is found to be 25. Another random sample of 15 measurements is taken from another normal population with unknown variance, and the sample variance is found to be 20. Conduct an F-test at the 10% significance level to determine if the variances are significantly different.\n"
   ]
  },
  {
   "cell_type": "code",
   "execution_count": 10,
   "id": "613e03f6-adf8-48ab-b2a1-409bbf625560",
   "metadata": {},
   "outputs": [],
   "source": [
    "F_statistic = 25 / 20\n",
    "from scipy.stats import f\n",
    "\n",
    "p_value = 1 - f.cdf(F_statistic, 9, 14)\n"
   ]
  },
  {
   "cell_type": "markdown",
   "id": "c31b0d61-9ea3-4297-b9a9-676dc9c636dc",
   "metadata": {},
   "source": [
    "## Q8. The following data represent the waiting times in minutes at two different restaurants on a Saturday night: Restaurant A: 24, 25, 28, 23, 22, 20, 27; Restaurant B: 31, 33, 35, 30, 32, 36. Conduct an F-test at the 5% significance level to determine if the variances are significantly different.\n",
    "\n",
    "we follow these steps:\n",
    "\n",
    "Step 1: State the null and alternative hypotheses:\n",
    "\n",
    "H0: σA2 = σB2 (the variances of the waiting times at restaurant A and B are equal)\n",
    "Ha: σA2 ≠ σB2 (the variances of the waiting times at restaurant A and B are not equal)\n",
    "\n",
    "Step 2: Calculate the ratio of the sample variances:\n",
    "\n",
    "F = sA2 / sB2\n",
    "\n",
    "where sA2 is the sample variance of waiting times at restaurant A and sB2 is the sample variance of waiting times at restaurant B.\n",
    "\n",
    "Using the given data, we have:\n",
    "\n",
    "sA2 = 8.57 and sB2 = 6.80\n",
    "\n",
    "So, F = 8.57 / 6.80 = 1.26\n",
    "\n",
    "Step 3: Determine the degrees of freedom:\n",
    "\n",
    "df1 = nA - 1 = 7 - 1 = 6\n",
    "df2 = nB - 1 = 6 - 1 = 5\n",
    "\n",
    "Step 4: Find the critical value of F:\n",
    "\n",
    "Using a 5% significance level and the degrees of freedom from Step 3, we find the critical value of F to be 4.03 (using a table or a calculator).\n",
    "\n",
    "Step 5: Compare the calculated value of F to the critical value of F:\n",
    "\n",
    "Since the calculated value of F (1.26) is less than the critical value of F (4.03), we fail to reject the null hypothesis. Therefore, we can conclude that there is not enough evidence to suggest that the variances of waiting times at restaurant A and B are significantly different at the 5% significance level."
   ]
  },
  {
   "cell_type": "markdown",
   "id": "83eb1003-90cb-49fa-8d4a-7f3dfc490b1e",
   "metadata": {},
   "source": [
    "## Q9. The following data represent the test scores of two groups of students: Group A: 80, 85, 90, 92, 87, 83;\n",
    "Group B: 75, 78, 82, 79, 81, 84. Conduct an F-test at the 1% significance level to determine if the variances\n",
    "are significantly different.\n",
    "\n",
    "we follow these steps:\n",
    "\n",
    "Step 1: State the null and alternative hypotheses:\n",
    "\n",
    "H0: σA2 = σB2 (the variances of the test scores of group A and B are equal)\n",
    "Ha: σA2 ≠ σB2 (the variances of the test scores of group A and B are not equal)\n",
    "\n",
    "Step 2: Calculate the ratio of the sample variances:\n",
    "\n",
    "F = sA2 / sB2\n",
    "\n",
    "where sA2 is the sample variance of test scores of group A and sB2 is the sample variance of test scores of group B.\n",
    "\n",
    "Using the given data, we have:\n",
    "\n",
    "sA2 = 22.92 and sB2 = 6.80\n",
    "\n",
    "So, F = 22.92 / 6.80 = 3.37\n",
    "\n",
    "Step 3: Determine the degrees of freedom:\n",
    "\n",
    "df1 = nA - 1 = 6 - 1 = 5\n",
    "df2 = nB - 1 = 6 - 1 = 5\n",
    "\n",
    "Step 4: Find the critical value of F:\n",
    "\n",
    "Using a 1% significance level and the degrees of freedom from Step 3, we find the critical value of F to be 10.13 (using a table or a calculator).\n",
    "\n",
    "Step 5: Compare the calculated value of F to the critical value of F:\n",
    "\n",
    "Since the calculated value of F (3.37) is less than the critical value of F (10.13), we fail to reject the null hypothesis."
   ]
  }
 ],
 "metadata": {
  "kernelspec": {
   "display_name": "Python 3 (ipykernel)",
   "language": "python",
   "name": "python3"
  },
  "language_info": {
   "codemirror_mode": {
    "name": "ipython",
    "version": 3
   },
   "file_extension": ".py",
   "mimetype": "text/x-python",
   "name": "python",
   "nbconvert_exporter": "python",
   "pygments_lexer": "ipython3",
   "version": "3.10.8"
  }
 },
 "nbformat": 4,
 "nbformat_minor": 5
}
