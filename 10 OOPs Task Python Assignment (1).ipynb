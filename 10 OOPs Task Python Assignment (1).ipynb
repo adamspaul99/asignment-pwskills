{
 "cells": [
  {
   "cell_type": "markdown",
   "id": "8ef75fa2-f79d-47da-8218-312de21c11b7",
   "metadata": {},
   "source": [
    "## Q1, Create a vehicle class with an init method having instance variables as name_of_vehicle, max_speed and average_of_vehicle."
   ]
  },
  {
   "cell_type": "code",
   "execution_count": 1,
   "id": "d29ce41e-0aa8-4e82-969c-197fdc707493",
   "metadata": {},
   "outputs": [],
   "source": [
    "class vehicle :\n",
    "    def __init__(self, name_of_vehicle, max_speed, average_of_vehicle):\n",
    "        self.name_of_vehicle = name_of_vehicle\n",
    "        self.average_of_vehicle = average_of_vehicle\n",
    "        self.max_speed = max_speed\n",
    "        "
   ]
  },
  {
   "cell_type": "code",
   "execution_count": 2,
   "id": "16542d54-f7a0-4371-a428-953c78550891",
   "metadata": {},
   "outputs": [],
   "source": [
    "car1 = vehicle(\"Toyota\", 200, 30)"
   ]
  },
  {
   "cell_type": "code",
   "execution_count": 3,
   "id": "71174f68-7e30-410c-8cd4-6caa38fe2f59",
   "metadata": {},
   "outputs": [
    {
     "data": {
      "text/plain": [
       "30"
      ]
     },
     "execution_count": 3,
     "metadata": {},
     "output_type": "execute_result"
    }
   ],
   "source": [
    "car1.average_of_vehicle"
   ]
  },
  {
   "cell_type": "code",
   "execution_count": 4,
   "id": "5ae6cc23-a0c9-462f-95ec-eb2bf8704349",
   "metadata": {},
   "outputs": [
    {
     "data": {
      "text/plain": [
       "200"
      ]
     },
     "execution_count": 4,
     "metadata": {},
     "output_type": "execute_result"
    }
   ],
   "source": [
    "car1.max_speed"
   ]
  },
  {
   "cell_type": "code",
   "execution_count": 5,
   "id": "9e63e000-3031-4926-9f4c-e81f4a09a3dc",
   "metadata": {},
   "outputs": [
    {
     "data": {
      "text/plain": [
       "'Toyota'"
      ]
     },
     "execution_count": 5,
     "metadata": {},
     "output_type": "execute_result"
    }
   ],
   "source": [
    "car1.name_of_vehicle"
   ]
  },
  {
   "cell_type": "markdown",
   "id": "f656c3bf-98c1-4d69-97c7-a42e1192d874",
   "metadata": {},
   "source": [
    "## Q2. Create a child class car from the vehicle class created in Que 1, which will inherit the vehicle class. Create a method named seating_capacity which takes capacity as an argument and returns the name of the vehicle and its seating capacity."
   ]
  },
  {
   "cell_type": "code",
   "execution_count": 6,
   "id": "de9551b7-7629-4d72-a543-bc434c5ee3a1",
   "metadata": {},
   "outputs": [],
   "source": [
    "class car(vehicle) :\n",
    "    def seating_capacity(self, seating_capacity):\n",
    "        return f\"Name of the Vehicle is {self.name_of_vehicle} and the Seating capacity of the vehicle is {seating_capacity} passengers\" \n",
    "        "
   ]
  },
  {
   "cell_type": "code",
   "execution_count": 7,
   "id": "857a6825-bb33-4488-8377-f25ee2341ee8",
   "metadata": {},
   "outputs": [],
   "source": [
    "car2 = car(\"Toyota\", 200, 30)"
   ]
  },
  {
   "cell_type": "code",
   "execution_count": 8,
   "id": "ec8b4126-a898-45ba-b88e-03593ec91593",
   "metadata": {},
   "outputs": [
    {
     "data": {
      "text/plain": [
       "'Name of the Vehicle is Toyota and the Seating capacity of the vehicle is 5 passengers'"
      ]
     },
     "execution_count": 8,
     "metadata": {},
     "output_type": "execute_result"
    }
   ],
   "source": [
    "car2.seating_capacity(5)"
   ]
  },
  {
   "cell_type": "markdown",
   "id": "0ee858a0-c9d8-4c9f-aa0a-541b02595d24",
   "metadata": {},
   "source": [
    "## Q3. What is multiple inheritance? Write a python code to demonstrate multiple inheritance."
   ]
  },
  {
   "cell_type": "code",
   "execution_count": 9,
   "id": "eab4d8be-1b9e-4b63-8fb5-5aafefe8f3cc",
   "metadata": {},
   "outputs": [],
   "source": [
    "class vehicle :\n",
    "    def __init__(self, name_of_vehicle, max_speed, average_of_vehicle):\n",
    "        self.name_of_vehicle = name_of_vehicle\n",
    "        self.average_of_vehicle = average_of_vehicle\n",
    "        self.max_speed = max_speed\n",
    "        "
   ]
  },
  {
   "cell_type": "code",
   "execution_count": 10,
   "id": "5c630d09-fb58-4992-9e4e-cd44928957a4",
   "metadata": {},
   "outputs": [],
   "source": [
    "class car :\n",
    "    def seating_capacity(self, seating_capacity):\n",
    "        self.seating_capacity = seating_capacity\n",
    "        "
   ]
  },
  {
   "cell_type": "code",
   "execution_count": 11,
   "id": "46e16926-7418-4995-b549-d7bb097aed32",
   "metadata": {},
   "outputs": [],
   "source": [
    "class vehicle_info(vehicle, car) :\n",
    "    \n",
    "    def number_of_airbags(self, number_of_airbags):\n",
    "        return f\"Name of the Vehicle is {self.name_of_vehicle}, the Seating capacity of the vehicle is {self.seating_capacity} passengers and total number of airbags are {number_of_airbags}\" "
   ]
  },
  {
   "cell_type": "code",
   "execution_count": 12,
   "id": "298651ee-1d75-4dd5-994b-00f57d2aafe6",
   "metadata": {},
   "outputs": [],
   "source": [
    "car3 = vehicle_info(\"Toyota\", 200, 30)"
   ]
  },
  {
   "cell_type": "code",
   "execution_count": 13,
   "id": "b188f8f5-99a1-44ed-bbf2-18342db3145f",
   "metadata": {},
   "outputs": [],
   "source": [
    "car3.seating_capacity(5)"
   ]
  },
  {
   "cell_type": "code",
   "execution_count": 14,
   "id": "01a1da4f-d83c-41de-ba02-6daa4954ec3e",
   "metadata": {},
   "outputs": [
    {
     "data": {
      "text/plain": [
       "'Name of the Vehicle is Toyota, the Seating capacity of the vehicle is 5 passengers and total number of airbags are 6'"
      ]
     },
     "execution_count": 14,
     "metadata": {},
     "output_type": "execute_result"
    }
   ],
   "source": [
    "car3.number_of_airbags(6)"
   ]
  },
  {
   "cell_type": "markdown",
   "id": "dafa59b6-3655-412d-8a8b-a92637dede6d",
   "metadata": {},
   "source": [
    "## Q4. What are getter and setter in python? Create a class and create a getter and a setter method in this class."
   ]
  },
  {
   "cell_type": "markdown",
   "id": "d32b5ce3-1558-4fcd-8f0e-29bf681f5d62",
   "metadata": {},
   "source": [
    "**ANS -** In Python, getters and setters are methods used to retrieve and modify the value of private class attributes. These methods help to control the access to the attribute and ensure that it is accessed and modified in a controlled manner"
   ]
  },
  {
   "cell_type": "code",
   "execution_count": 15,
   "id": "06db3a8d-7e54-495f-a17a-8d82aff552ae",
   "metadata": {},
   "outputs": [],
   "source": [
    "class vehicle1 :\n",
    "    def __init__(self, name_of_vehicle, max_speed, average_of_vehicle):\n",
    "        self.name_of_vehicle = name_of_vehicle\n",
    "        self.average_of_vehicle = average_of_vehicle\n",
    "        self.__max_speed = 10 # Private atribute\n",
    "        \n",
    "    def set_max_speed(self, max_speed):\n",
    "        self.__max_speed = 10 if max_speed < 10 else max_speed\n",
    "        \n",
    "    def get_max_speed(self):\n",
    "        return self.__max_speed"
   ]
  },
  {
   "cell_type": "code",
   "execution_count": 16,
   "id": "473411eb-70cb-45e9-8ce2-c9e547bc3337",
   "metadata": {},
   "outputs": [],
   "source": [
    "car1 = vehicle1(\"Toyota\", 200, 30)"
   ]
  },
  {
   "cell_type": "code",
   "execution_count": 17,
   "id": "fa25cc94-60ab-4c13-995f-949f5f23afdc",
   "metadata": {},
   "outputs": [],
   "source": [
    "car1.set_max_speed(250)"
   ]
  },
  {
   "cell_type": "code",
   "execution_count": 18,
   "id": "e913c71f-94aa-4038-9021-8da64b874833",
   "metadata": {},
   "outputs": [
    {
     "data": {
      "text/plain": [
       "250"
      ]
     },
     "execution_count": 18,
     "metadata": {},
     "output_type": "execute_result"
    }
   ],
   "source": [
    "car1.get_max_speed()"
   ]
  },
  {
   "cell_type": "markdown",
   "id": "0830b4a0-61b8-4197-81b8-e432a3e8fc21",
   "metadata": {},
   "source": [
    "## Q5.What is method overriding in python? Write a python code to demonstrate method overriding."
   ]
  },
  {
   "cell_type": "markdown",
   "id": "7446c3d7-336f-48ef-bca8-f8834153a8cf",
   "metadata": {},
   "source": [
    "**ANS -** Method overriding is a feature of object-oriented programming that allows a subclass to provide a different implementation of a method that is already defined in its parent class."
   ]
  },
  {
   "cell_type": "code",
   "execution_count": 19,
   "id": "db15ba2a-9cb4-4f0c-9f6d-2c1e4b846310",
   "metadata": {},
   "outputs": [],
   "source": [
    "class Animal:\n",
    "    def make_sound(self):\n",
    "        print(\"The animal makes a sound\")\n",
    "\n",
    "class Cat(Animal):\n",
    "    def make_sound(self):\n",
    "        print(\"Meow\")\n",
    "\n",
    "class Dog(Animal):\n",
    "    def make_sound(self):\n",
    "        print(\"Woof\")\n",
    "\n",
    "\n"
   ]
  },
  {
   "cell_type": "code",
   "execution_count": 20,
   "id": "0b4f96a4-14e7-4bad-936b-dfb521d658a0",
   "metadata": {},
   "outputs": [],
   "source": [
    "a = Animal()\n",
    "c = Cat()\n",
    "d = Dog()\n",
    "\n"
   ]
  },
  {
   "cell_type": "code",
   "execution_count": 21,
   "id": "0967bc3c-46aa-47f3-ab95-80b280ec6bdc",
   "metadata": {},
   "outputs": [
    {
     "name": "stdout",
     "output_type": "stream",
     "text": [
      "The animal makes a sound\n"
     ]
    }
   ],
   "source": [
    "a.make_sound()\n"
   ]
  },
  {
   "cell_type": "code",
   "execution_count": 22,
   "id": "24ff8169-e4e8-4587-802f-880828ef2a7d",
   "metadata": {},
   "outputs": [
    {
     "name": "stdout",
     "output_type": "stream",
     "text": [
      "Meow\n"
     ]
    }
   ],
   "source": [
    "c.make_sound()\n"
   ]
  },
  {
   "cell_type": "code",
   "execution_count": 23,
   "id": "eedcff91-1fe9-4302-9398-0faaf5e5ee4d",
   "metadata": {},
   "outputs": [
    {
     "name": "stdout",
     "output_type": "stream",
     "text": [
      "Woof\n"
     ]
    }
   ],
   "source": [
    "d.make_sound()"
   ]
  }
 ],
 "metadata": {
  "kernelspec": {
   "display_name": "Python 3 (ipykernel)",
   "language": "python",
   "name": "python3"
  },
  "language_info": {
   "codemirror_mode": {
    "name": "ipython",
    "version": 3
   },
   "file_extension": ".py",
   "mimetype": "text/x-python",
   "name": "python",
   "nbconvert_exporter": "python",
   "pygments_lexer": "ipython3",
   "version": "3.10.8"
  }
 },
 "nbformat": 4,
 "nbformat_minor": 5
}
