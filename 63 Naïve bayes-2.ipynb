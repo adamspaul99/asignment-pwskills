{
 "cells": [
  {
   "cell_type": "markdown",
   "id": "8df87f09-7163-4a01-bec8-d83475b76576",
   "metadata": {},
   "source": [
    "# Naïve bayes-2"
   ]
  },
  {
   "cell_type": "markdown",
   "id": "d1e5e417-1ccf-4739-bdb5-717200499eb1",
   "metadata": {},
   "source": [
    "### Q1. A company conducted a survey of its employees and found that 70% of the employees use the company's health insurance plan, while 40% of the employees who use the plan are smokers. What is the probability that an employee is a smoker given that he/she uses the health insurance plan?\n",
    "The probability that an employee is a smoker given that he/she uses the health insurance plan is 40%/70% = 4/7 or approximately 0.57."
   ]
  },
  {
   "cell_type": "markdown",
   "id": "d649a955-d0fe-4edd-a4c3-7289e443b980",
   "metadata": {},
   "source": [
    "### Q2. What is the difference between Bernoulli Naive Bayes and Multinomial Naive Bayes?\n",
    "Bernoulli Naive Bayes is suitable for binary classification problems where the features are binary (either 0 or 1). Multinomial Naive Bayes is suitable for multi-class classification problems where the features are discrete (e.g., counts)."
   ]
  },
  {
   "cell_type": "markdown",
   "id": "65b5fe1a-1f19-4e36-bd6c-7d83de1ada79",
   "metadata": {},
   "source": [
    "### Q3. How does Bernoulli Naive Bayes handle missing values?\n",
    "Bernoulli Naive Bayes can handle missing values by ignoring them during the training phase and assigning a default value during the testing phase."
   ]
  },
  {
   "cell_type": "markdown",
   "id": "a8a2ba50-aa05-48be-9f55-63e524cfc689",
   "metadata": {},
   "source": [
    "### Q4. Can Gaussian Naive Bayes be used for multi-class classification?\n",
    "Yes, Gaussian Naive Bayes can be used for multi-class classification by applying the algorithm to each class separately and choosing the class with the highest posterior probability as the predicted class"
   ]
  },
  {
   "cell_type": "code",
   "execution_count": null,
   "id": "421380a1-ac23-482c-88ca-750164eb0bb8",
   "metadata": {},
   "outputs": [],
   "source": []
  }
 ],
 "metadata": {
  "kernelspec": {
   "display_name": "Python 3 (ipykernel)",
   "language": "python",
   "name": "python3"
  },
  "language_info": {
   "codemirror_mode": {
    "name": "ipython",
    "version": 3
   },
   "file_extension": ".py",
   "mimetype": "text/x-python",
   "name": "python",
   "nbconvert_exporter": "python",
   "pygments_lexer": "ipython3",
   "version": "3.10.8"
  }
 },
 "nbformat": 4,
 "nbformat_minor": 5
}
