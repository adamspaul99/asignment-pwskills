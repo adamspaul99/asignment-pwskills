{
 "cells": [
  {
   "cell_type": "markdown",
   "id": "6aee8b33-8bb1-4eea-b2c2-f0dfbcb0c522",
   "metadata": {},
   "source": [
    "## Q1. You are writing code for a company.\n",
    "The requirement of the company is that you create a python\n",
    "function that will check whether the password entered by the user is correct or not. The function should\n",
    "take the password as input and return the string “Valid Password” if the entered password follows the\n",
    "below-given password guidelines else it should return “Invalid Password”.\n",
    "Note: \n",
    "1. The Password should contain at least two uppercase letters and at least two lowercase letters.\n",
    "2. The Password should contain at least a number and three special characters.\n",
    "3. The length of the password should be 10 characters long."
   ]
  },
  {
   "cell_type": "code",
   "execution_count": 1,
   "id": "d1e4ffa7-a1ba-4e3e-9d3a-2d3c7cbbd46c",
   "metadata": {},
   "outputs": [],
   "source": [
    "import re\n",
    "\n",
    "def check_password(password):\n",
    "    # check length of password\n",
    "    if len(password) != 10:\n",
    "        return \"Invalid Password length\"\n",
    "    \n",
    "    # check for at least two uppercase letters and two lowercase letters\n",
    "    if not re.search(r'[A-Z].*[A-Z]', password) or not re.search(r'[a-z].*[a-z]', password):\n",
    "        return \"Invalid Password upper or lower\"\n",
    "    \n",
    "    # check for at least a number and three special characters\n",
    "    if not re.search(r'\\d', password) or not re.search(r'[!@#$%^&*()_+{}|:;<>,.?/~`].*[!@#$%^&*()_+{}|:;<>,.?/~`].*[!@#$%^&*()_+{}|:;<>,.?/~`]', password):\n",
    "        return \"Invalid Password number or special\"\n",
    "    \n",
    "    # if all criteria are met, return \"Valid Password\"\n",
    "    return \"Valid Password\"\n"
   ]
  },
  {
   "cell_type": "code",
   "execution_count": 2,
   "id": "e010d6c5-19ef-42dd-ae80-f2068420e19b",
   "metadata": {},
   "outputs": [
    {
     "name": "stdout",
     "output_type": "stream",
     "text": [
      "Valid Password\n"
     ]
    }
   ],
   "source": [
    "a = 'AAaa149@%#'\n",
    "check_password1 = check_password(a)\n",
    "print(check_password1)"
   ]
  },
  {
   "cell_type": "markdown",
   "id": "f5ade4f6-9a49-49b7-b3a6-cd6b930940d1",
   "metadata": {},
   "source": [
    "## Q2. Solve the below-given questions using at least one of the following:\n",
    "\n",
    "1. Lambda function\n",
    "2. Filter function\n",
    "3. map function\n",
    "4. List Comprehension\n",
    "\n"
   ]
  },
  {
   "cell_type": "markdown",
   "id": "02548f6c-3283-40c2-9dfb-b0449cd46192",
   "metadata": {},
   "source": [
    "Check if the string starts with a particular letter Y\n",
    "\n"
   ]
  },
  {
   "cell_type": "code",
   "execution_count": 3,
   "id": "e899f777-0db8-45fa-9e2c-5a79e630d274",
   "metadata": {},
   "outputs": [
    {
     "name": "stdout",
     "output_type": "stream",
     "text": [
      "['Yes', 'Yellow']\n"
     ]
    }
   ],
   "source": [
    "my_strings = ['Yes', 'Yellow', 'No', 'Maybe']\n",
    "starts_with_y = [s for s in my_strings if s.startswith('Y')]\n",
    "print(starts_with_y)"
   ]
  },
  {
   "cell_type": "markdown",
   "id": "d31f1a35-755c-42f8-ae79-55198cfb162b",
   "metadata": {},
   "source": [
    "Check if the string is numeric"
   ]
  },
  {
   "cell_type": "code",
   "execution_count": 4,
   "id": "da5211ea-112c-4ac8-bf8a-b0103c996e67",
   "metadata": {},
   "outputs": [],
   "source": [
    "a = lambda x : str(x).isnumeric()"
   ]
  },
  {
   "cell_type": "code",
   "execution_count": 5,
   "id": "ecdcfa59-e7ad-4c79-8202-703a7b58ea4f",
   "metadata": {},
   "outputs": [
    {
     "data": {
      "text/plain": [
       "True"
      ]
     },
     "execution_count": 5,
     "metadata": {},
     "output_type": "execute_result"
    }
   ],
   "source": [
    "a(33)"
   ]
  },
  {
   "cell_type": "markdown",
   "id": "c8127e60-e54d-4d82-a79f-6579a85c5fef",
   "metadata": {},
   "source": [
    "Sort a list of tuples having fruit names and their quantity. [(\"mango\",99),(\"orange\",80), (\"grapes\", 1000)]\n",
    "\n"
   ]
  },
  {
   "cell_type": "code",
   "execution_count": 6,
   "id": "75a05ad8-0687-4e1d-a58a-b6919783c32c",
   "metadata": {},
   "outputs": [
    {
     "name": "stdout",
     "output_type": "stream",
     "text": [
      "[('orange', 80), ('mango', 99), ('grapes', 1000)]\n"
     ]
    }
   ],
   "source": [
    "list1 = [(\"mango\",99),(\"orange\",80), (\"grapes\", 1000)]\n",
    "list1.sort(key = lambda x: x[1])\n",
    "print(list1)"
   ]
  },
  {
   "cell_type": "markdown",
   "id": "409c2dd5-d6d3-453e-b55b-f54ed93addbb",
   "metadata": {},
   "source": [
    "Find the squares of numbers from 1 to 10"
   ]
  },
  {
   "cell_type": "code",
   "execution_count": 7,
   "id": "1a674924-bec8-4be8-8074-97264cb3cf7a",
   "metadata": {},
   "outputs": [
    {
     "data": {
      "text/plain": [
       "[1, 4, 9, 16, 25, 36, 49, 64, 81, 100]"
      ]
     },
     "execution_count": 7,
     "metadata": {},
     "output_type": "execute_result"
    }
   ],
   "source": [
    "[i * i for i in range(1, 11)] "
   ]
  },
  {
   "cell_type": "markdown",
   "id": "113e2d01-092c-46c0-a3fa-75f90607664c",
   "metadata": {},
   "source": [
    "Find the cube root of numbers from 1 to 10"
   ]
  },
  {
   "cell_type": "code",
   "execution_count": 8,
   "id": "6ba14ed3-777d-44cc-9f21-65a70d2a71e2",
   "metadata": {},
   "outputs": [
    {
     "data": {
      "text/plain": [
       "[1, 8, 27, 64, 125, 216, 343, 512, 729, 1000]"
      ]
     },
     "execution_count": 8,
     "metadata": {},
     "output_type": "execute_result"
    }
   ],
   "source": [
    "[i ** 3 for i in range(1, 11)] "
   ]
  },
  {
   "cell_type": "markdown",
   "id": "c3eb66ff-5e31-4404-8221-844d234433ec",
   "metadata": {},
   "source": [
    "Check if a given number is even"
   ]
  },
  {
   "cell_type": "code",
   "execution_count": 9,
   "id": "c3d602fd-7b99-4d90-a28a-25fd57985948",
   "metadata": {},
   "outputs": [
    {
     "data": {
      "text/plain": [
       "[2, 4, 6, 8, 10]"
      ]
     },
     "execution_count": 9,
     "metadata": {},
     "output_type": "execute_result"
    }
   ],
   "source": [
    "list1 = [1,2,3,4,5,6,7,8,9,10]\n",
    "[i for i in list1 if i % 2 == 0 ]"
   ]
  },
  {
   "cell_type": "markdown",
   "id": "3354ca39-6768-4b94-bc38-b7c96a21a8a0",
   "metadata": {},
   "source": [
    "Filter odd numbers from the given list. [1,2,3,4,5,6,7,8,9,10]"
   ]
  },
  {
   "cell_type": "code",
   "execution_count": 10,
   "id": "1f322676-2015-410f-b672-02731a9bf072",
   "metadata": {},
   "outputs": [
    {
     "data": {
      "text/plain": [
       "[1, 3, 5, 7, 9]"
      ]
     },
     "execution_count": 10,
     "metadata": {},
     "output_type": "execute_result"
    }
   ],
   "source": [
    "list1 = [1,2,3,4,5,6,7,8,9,10]\n",
    "[i for i in list1 if i % 2 != 0 ]"
   ]
  },
  {
   "cell_type": "markdown",
   "id": "9fe61260-009c-4f92-a13c-194ef4db51e4",
   "metadata": {},
   "source": [
    "Sort a list of integers into positive and negative integers lists. [1,2,3,4,5,6,-1,-2,-3,-4,-5,0]"
   ]
  },
  {
   "cell_type": "code",
   "execution_count": 11,
   "id": "470ecccc-5ac4-4d5d-ab38-57e29aef0329",
   "metadata": {},
   "outputs": [],
   "source": [
    "numbers = [1, 2, 3, 4, 5, 6, -1, -2, -3, -4, -5, 0]\n",
    "\n",
    "positive_lst = list(filter(lambda x: x > 0, numbers))\n",
    "negative_lst = list(filter(lambda x: x < 0, numbers))"
   ]
  },
  {
   "cell_type": "code",
   "execution_count": 12,
   "id": "5e0397e7-00e4-4187-b179-ab6fb8045bf6",
   "metadata": {},
   "outputs": [
    {
     "data": {
      "text/plain": [
       "([1, 2, 3, 4, 5, 6], [-1, -2, -3, -4, -5])"
      ]
     },
     "execution_count": 12,
     "metadata": {},
     "output_type": "execute_result"
    }
   ],
   "source": [
    "positive_lst, negative_lst"
   ]
  }
 ],
 "metadata": {
  "kernelspec": {
   "display_name": "Python 3 (ipykernel)",
   "language": "python",
   "name": "python3"
  },
  "language_info": {
   "codemirror_mode": {
    "name": "ipython",
    "version": 3
   },
   "file_extension": ".py",
   "mimetype": "text/x-python",
   "name": "python",
   "nbconvert_exporter": "python",
   "pygments_lexer": "ipython3",
   "version": "3.10.8"
  }
 },
 "nbformat": 4,
 "nbformat_minor": 5
}
