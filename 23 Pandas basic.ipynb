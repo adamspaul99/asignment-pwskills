{
 "cells": [
  {
   "cell_type": "markdown",
   "id": "d6512944-84b0-4a46-adc0-e687a93f3a2f",
   "metadata": {},
   "source": [
    "## Q1. Create a Pandas Series that contains the following data: 4, 8, 15, 16, 23, and 42. Then, print the series.\n"
   ]
  },
  {
   "cell_type": "code",
   "execution_count": 1,
   "id": "f8472ffc-1c2a-48c7-af00-0914afbca258",
   "metadata": {},
   "outputs": [],
   "source": [
    "import pandas as pd"
   ]
  },
  {
   "cell_type": "code",
   "execution_count": 2,
   "id": "67589c81-e1d0-4f9d-9ecf-839fa498eb27",
   "metadata": {},
   "outputs": [],
   "source": [
    "df = pd.Series([4,8,15,16,23,42])"
   ]
  },
  {
   "cell_type": "code",
   "execution_count": 3,
   "id": "d8d76578-c864-4bd1-b817-0a60046970fa",
   "metadata": {},
   "outputs": [
    {
     "data": {
      "text/plain": [
       "0     4\n",
       "1     8\n",
       "2    15\n",
       "3    16\n",
       "4    23\n",
       "5    42\n",
       "dtype: int64"
      ]
     },
     "execution_count": 3,
     "metadata": {},
     "output_type": "execute_result"
    }
   ],
   "source": [
    "df"
   ]
  },
  {
   "cell_type": "code",
   "execution_count": 4,
   "id": "6cb8e66d-48ab-4280-96aa-0636798ebc88",
   "metadata": {},
   "outputs": [
    {
     "data": {
      "text/plain": [
       "pandas.core.series.Series"
      ]
     },
     "execution_count": 4,
     "metadata": {},
     "output_type": "execute_result"
    }
   ],
   "source": [
    "type(df)"
   ]
  },
  {
   "cell_type": "markdown",
   "id": "8c18bceb-dd4a-4283-bb01-4164390356d0",
   "metadata": {},
   "source": [
    "## Q2. Create a variable of list type containing 10 elements in it, and apply pandas.Series function on the variable print it.\n"
   ]
  },
  {
   "cell_type": "code",
   "execution_count": 5,
   "id": "a8fe62f8-b8ae-43d8-82cf-ccdbab8625a7",
   "metadata": {},
   "outputs": [],
   "source": [
    "list1 = [4,8,15,16,23,42,'sudh','anurag','shivam','yashee']"
   ]
  },
  {
   "cell_type": "code",
   "execution_count": 6,
   "id": "cb4f5e65-ab90-4993-8c82-b3906ed8b9f5",
   "metadata": {},
   "outputs": [],
   "source": [
    "df = pd.Series(list1)"
   ]
  },
  {
   "cell_type": "code",
   "execution_count": 7,
   "id": "b5d5431f-bf40-4794-8ce1-6301252fe2db",
   "metadata": {},
   "outputs": [
    {
     "name": "stdout",
     "output_type": "stream",
     "text": [
      "0         4\n",
      "1         8\n",
      "2        15\n",
      "3        16\n",
      "4        23\n",
      "5        42\n",
      "6      sudh\n",
      "7    anurag\n",
      "8    shivam\n",
      "9    yashee\n",
      "dtype: object\n"
     ]
    }
   ],
   "source": [
    "print(df)"
   ]
  },
  {
   "cell_type": "markdown",
   "id": "69f1a060-4bda-4350-ae65-1dbd4a1c4b2b",
   "metadata": {},
   "source": [
    "## Q3. Create a Pandas DataFrame that contains the following data:\n",
    "\n",
    "Name - Alice, Bob, Claire\n",
    "\n",
    "Age 25, 30, 27\n",
    "\n",
    "Gender Female, Male, Female\n",
    "\n",
    "Then, print the DataFrame.\n"
   ]
  },
  {
   "cell_type": "code",
   "execution_count": 8,
   "id": "6d45f8fa-c673-4b1e-be73-59d8301c4750",
   "metadata": {},
   "outputs": [],
   "source": [
    "df = pd.DataFrame({'Name':['Alice', 'Bob', 'Claire'],\n",
    "                   'Age':[25, 30, 27],\n",
    "                   'Gender':['Female', 'Male', 'Female']\n",
    "})"
   ]
  },
  {
   "cell_type": "code",
   "execution_count": 9,
   "id": "83f8337c-72da-4ded-8a15-0ae6c7cea226",
   "metadata": {},
   "outputs": [
    {
     "data": {
      "text/html": [
       "<div>\n",
       "<style scoped>\n",
       "    .dataframe tbody tr th:only-of-type {\n",
       "        vertical-align: middle;\n",
       "    }\n",
       "\n",
       "    .dataframe tbody tr th {\n",
       "        vertical-align: top;\n",
       "    }\n",
       "\n",
       "    .dataframe thead th {\n",
       "        text-align: right;\n",
       "    }\n",
       "</style>\n",
       "<table border=\"1\" class=\"dataframe\">\n",
       "  <thead>\n",
       "    <tr style=\"text-align: right;\">\n",
       "      <th></th>\n",
       "      <th>Name</th>\n",
       "      <th>Age</th>\n",
       "      <th>Gender</th>\n",
       "    </tr>\n",
       "  </thead>\n",
       "  <tbody>\n",
       "    <tr>\n",
       "      <th>0</th>\n",
       "      <td>Alice</td>\n",
       "      <td>25</td>\n",
       "      <td>Female</td>\n",
       "    </tr>\n",
       "    <tr>\n",
       "      <th>1</th>\n",
       "      <td>Bob</td>\n",
       "      <td>30</td>\n",
       "      <td>Male</td>\n",
       "    </tr>\n",
       "    <tr>\n",
       "      <th>2</th>\n",
       "      <td>Claire</td>\n",
       "      <td>27</td>\n",
       "      <td>Female</td>\n",
       "    </tr>\n",
       "  </tbody>\n",
       "</table>\n",
       "</div>"
      ],
      "text/plain": [
       "     Name  Age  Gender\n",
       "0   Alice   25  Female\n",
       "1     Bob   30    Male\n",
       "2  Claire   27  Female"
      ]
     },
     "execution_count": 9,
     "metadata": {},
     "output_type": "execute_result"
    }
   ],
   "source": [
    "df.head()"
   ]
  },
  {
   "cell_type": "markdown",
   "id": "2d000cb3-d1ef-4e03-8a74-69ac472771a2",
   "metadata": {},
   "source": [
    "## Q4. What is ‘DataFrame’ in pandas and how is it different from pandas.series? Explain with an example.\n"
   ]
  },
  {
   "cell_type": "markdown",
   "id": "a3e15ded-7ce3-4d55-bc74-bb2cbb2bbd59",
   "metadata": {},
   "source": [
    "**Pandas Series**, is a one-dimensional labeled array capable of holding data of any type. A Series is a single column of a DataFrame and can be thought of as a basic building block of a DataFrame."
   ]
  },
  {
   "cell_type": "code",
   "execution_count": 10,
   "id": "e0f9d0d9-c5ff-4f47-8203-1103d39539ed",
   "metadata": {},
   "outputs": [
    {
     "name": "stdout",
     "output_type": "stream",
     "text": [
      "0         4\n",
      "1         8\n",
      "2        15\n",
      "3        16\n",
      "4        23\n",
      "5        42\n",
      "6      sudh\n",
      "7    anurag\n",
      "8    shivam\n",
      "9    yashee\n",
      "dtype: object\n"
     ]
    }
   ],
   "source": [
    "list1 = [4,8,15,16,23,42,'sudh','anurag','shivam','yashee']\n",
    "df = pd.Series(list1)\n",
    "print(df)"
   ]
  },
  {
   "cell_type": "markdown",
   "id": "6924de25-5f3e-4283-ab1b-4a3b04b6fc74",
   "metadata": {},
   "source": [
    "**DataFrame** is a two-dimensional labeled data structure with columns of potentially different types. It is a primary Pandas object that represents a table of data, similar to a spreadsheet or SQL table"
   ]
  },
  {
   "cell_type": "code",
   "execution_count": 11,
   "id": "3d1cd657-71c8-4aea-a181-aff471cdd189",
   "metadata": {},
   "outputs": [
    {
     "data": {
      "text/html": [
       "<div>\n",
       "<style scoped>\n",
       "    .dataframe tbody tr th:only-of-type {\n",
       "        vertical-align: middle;\n",
       "    }\n",
       "\n",
       "    .dataframe tbody tr th {\n",
       "        vertical-align: top;\n",
       "    }\n",
       "\n",
       "    .dataframe thead th {\n",
       "        text-align: right;\n",
       "    }\n",
       "</style>\n",
       "<table border=\"1\" class=\"dataframe\">\n",
       "  <thead>\n",
       "    <tr style=\"text-align: right;\">\n",
       "      <th></th>\n",
       "      <th>Name</th>\n",
       "      <th>Age</th>\n",
       "      <th>Gender</th>\n",
       "    </tr>\n",
       "  </thead>\n",
       "  <tbody>\n",
       "    <tr>\n",
       "      <th>0</th>\n",
       "      <td>Alice</td>\n",
       "      <td>25</td>\n",
       "      <td>Female</td>\n",
       "    </tr>\n",
       "    <tr>\n",
       "      <th>1</th>\n",
       "      <td>Bob</td>\n",
       "      <td>30</td>\n",
       "      <td>Male</td>\n",
       "    </tr>\n",
       "    <tr>\n",
       "      <th>2</th>\n",
       "      <td>Claire</td>\n",
       "      <td>27</td>\n",
       "      <td>Female</td>\n",
       "    </tr>\n",
       "  </tbody>\n",
       "</table>\n",
       "</div>"
      ],
      "text/plain": [
       "     Name  Age  Gender\n",
       "0   Alice   25  Female\n",
       "1     Bob   30    Male\n",
       "2  Claire   27  Female"
      ]
     },
     "execution_count": 11,
     "metadata": {},
     "output_type": "execute_result"
    }
   ],
   "source": [
    "df = pd.DataFrame({'Name':['Alice', 'Bob', 'Claire'],\n",
    "                   'Age':[25, 30, 27],\n",
    "                   'Gender':['Female', 'Male', 'Female']\n",
    "})\n",
    "df.head()"
   ]
  },
  {
   "cell_type": "markdown",
   "id": "8596de8d-f0e6-4d83-a455-6795a1322576",
   "metadata": {},
   "source": [
    "## Q5. What are some common functions you can use to manipulate data in a Pandas DataFrame? Can you give an example of when you might use one of these functions?\n"
   ]
  },
  {
   "cell_type": "markdown",
   "id": "7602b983-5b1c-48bc-b0cb-0f91f0f958c5",
   "metadata": {},
   "source": [
    "**drop():** This function is used to remove specified rows or columns from a DataFrame. For example, if you have a DataFrame with a column that is not needed for analysis, you can remove it using the drop() function.\n",
    "\n",
    "**fillna():** This function is used to fill missing values in a DataFrame with a specified value or method. For example, if your DataFrame has missing values, you can use fillna() to replace the missing values with a mean or median value.\n",
    "\n",
    "**groupby():** This function is used to group rows in a DataFrame based on one or more columns, and then perform operations on the resulting groups. For example, you can use groupby() to group data by a particular category and then calculate the mean, median or sum of a particular column in each group.\n",
    "\n",
    "**merge():** This function is used to combine two or more DataFrames into a single DataFrame. For example, if you have two DataFrames that contain related data, you can use merge() to combine them into a single DataFrame."
   ]
  },
  {
   "cell_type": "markdown",
   "id": "f9dba56a-ea22-4884-89ab-f4f439e6f22a",
   "metadata": {},
   "source": [
    "## Q6. Which of the following is mutable in nature Series, DataFrame, Panel?\n"
   ]
  },
  {
   "cell_type": "markdown",
   "id": "bee4b9e4-d6dc-4e0f-beca-85b419aff4cd",
   "metadata": {},
   "source": [
    "Both Series and DataFrame are mutable in nature"
   ]
  },
  {
   "cell_type": "markdown",
   "id": "540efc2d-96e0-4675-a9bd-f6d084132c07",
   "metadata": {},
   "source": [
    "## Q7. Create a DataFrame using multiple Series. Explain with an example."
   ]
  },
  {
   "cell_type": "code",
   "execution_count": 12,
   "id": "e0607498-0d2b-48ca-b372-d91756b007ac",
   "metadata": {},
   "outputs": [],
   "source": [
    "name = pd.Series(['Alice', 'Bob', 'Charlie', 'Dave'])\n",
    "age = pd.Series([25, 32, 18, 47])\n",
    "gender = pd.Series(['F', 'M', 'M', 'M'])"
   ]
  },
  {
   "cell_type": "code",
   "execution_count": 13,
   "id": "cedd7132-2cc9-4d53-ba65-f5708e619ca4",
   "metadata": {},
   "outputs": [],
   "source": [
    "df = pd.DataFrame({'Name': name, 'Age': age, 'Gender': gender})"
   ]
  },
  {
   "cell_type": "code",
   "execution_count": 14,
   "id": "fc629f89-f39a-470d-bc4b-2a3bb728060f",
   "metadata": {},
   "outputs": [
    {
     "data": {
      "text/html": [
       "<div>\n",
       "<style scoped>\n",
       "    .dataframe tbody tr th:only-of-type {\n",
       "        vertical-align: middle;\n",
       "    }\n",
       "\n",
       "    .dataframe tbody tr th {\n",
       "        vertical-align: top;\n",
       "    }\n",
       "\n",
       "    .dataframe thead th {\n",
       "        text-align: right;\n",
       "    }\n",
       "</style>\n",
       "<table border=\"1\" class=\"dataframe\">\n",
       "  <thead>\n",
       "    <tr style=\"text-align: right;\">\n",
       "      <th></th>\n",
       "      <th>Name</th>\n",
       "      <th>Age</th>\n",
       "      <th>Gender</th>\n",
       "    </tr>\n",
       "  </thead>\n",
       "  <tbody>\n",
       "    <tr>\n",
       "      <th>0</th>\n",
       "      <td>Alice</td>\n",
       "      <td>25</td>\n",
       "      <td>F</td>\n",
       "    </tr>\n",
       "    <tr>\n",
       "      <th>1</th>\n",
       "      <td>Bob</td>\n",
       "      <td>32</td>\n",
       "      <td>M</td>\n",
       "    </tr>\n",
       "    <tr>\n",
       "      <th>2</th>\n",
       "      <td>Charlie</td>\n",
       "      <td>18</td>\n",
       "      <td>M</td>\n",
       "    </tr>\n",
       "    <tr>\n",
       "      <th>3</th>\n",
       "      <td>Dave</td>\n",
       "      <td>47</td>\n",
       "      <td>M</td>\n",
       "    </tr>\n",
       "  </tbody>\n",
       "</table>\n",
       "</div>"
      ],
      "text/plain": [
       "      Name  Age Gender\n",
       "0    Alice   25      F\n",
       "1      Bob   32      M\n",
       "2  Charlie   18      M\n",
       "3     Dave   47      M"
      ]
     },
     "execution_count": 14,
     "metadata": {},
     "output_type": "execute_result"
    }
   ],
   "source": [
    "df"
   ]
  }
 ],
 "metadata": {
  "kernelspec": {
   "display_name": "Python 3 (ipykernel)",
   "language": "python",
   "name": "python3"
  },
  "language_info": {
   "codemirror_mode": {
    "name": "ipython",
    "version": 3
   },
   "file_extension": ".py",
   "mimetype": "text/x-python",
   "name": "python",
   "nbconvert_exporter": "python",
   "pygments_lexer": "ipython3",
   "version": "3.10.8"
  }
 },
 "nbformat": 4,
 "nbformat_minor": 5
}
