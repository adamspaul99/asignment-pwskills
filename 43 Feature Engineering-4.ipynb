{
 "cells": [
  {
   "cell_type": "markdown",
   "id": "71f5d638-5215-43c7-b799-cfb73328df89",
   "metadata": {},
   "source": [
    "# Feature Engineering-4"
   ]
  },
  {
   "cell_type": "markdown",
   "id": "3af64e5d-9953-4ae1-9899-884c9df0218f",
   "metadata": {},
   "source": [
    "### Q1. What is data encoding? How is it useful in data science?\n",
    "\n",
    "Data encoding is the process of transforming data from one format to another. It is useful in data science as it enables the conversion of categorical or qualitative data into numerical or quantitative data, which can be analyzed using various machine learning algorithms."
   ]
  },
  {
   "cell_type": "markdown",
   "id": "6c7b5438-d351-4582-83de-b88cf4bfc88e",
   "metadata": {},
   "source": [
    "### Q2. What is nominal encoding? Provide an example of how you would use it in a real-world scenario.\n",
    "Nominal encoding is a type of categorical data encoding in which each unique category is assigned a unique integer value.\n",
    "\n",
    "An example of nominal encoding is assigning a unique integer value to each color in a dataset of different colored cars, where red is assigned 1, blue is assigned 2, green is assigned 3, and so on"
   ]
  },
  {
   "cell_type": "markdown",
   "id": "ff9cc82d-aa79-4e39-8e29-f4f0762c6c64",
   "metadata": {},
   "source": [
    "### Q3. In what situations is nominal encoding preferred over one-hot encoding? Provide a practical example.\n",
    "\n",
    "Nominal encoding is preferred over one-hot encoding when the number of unique categories is small and the categories are equally important.\n",
    "\n",
    "For example, in a dataset of different types of fruits, nominal encoding can be used to assign a unique integer value to each fruit type. One-hot encoding, on the other hand, creates a new column for each unique category, which can result in a large number of columns if the number of categories is large."
   ]
  },
  {
   "cell_type": "markdown",
   "id": "af564176-2cc3-4791-a55a-9c6c476eb3e7",
   "metadata": {},
   "source": [
    "### Q4. Suppose you have a dataset containing categorical data with 5 unique values. Which encoding technique would you use to transform this data into a format suitable for machine learning algorithms? Explain why you made this choice.\n",
    "\n",
    "The encoding technique to use depends on the nature of the data and the machine learning algorithm being used. If the categorical data has no inherent order, nominal encoding can be used. If there is an inherent order to the data, ordinal encoding can be used. If the number of unique categories is small, nominal encoding or label encoding can be used. If the number of categories is large, one-hot encoding or binary encoding can be used."
   ]
  },
  {
   "cell_type": "markdown",
   "id": "81500b74-5215-4a72-a8a7-eed408a867dc",
   "metadata": {},
   "source": [
    "### Q5. In a machine learning project, you have a dataset with 1000 rows and 5 columns. Two of the columns are categorical, and the remaining three columns are numerical. If you were to use nominal encoding to transform the categorical data, how many new columns would be created? Show your calculations.\n",
    "\n",
    "If two columns are being nominal encoded, the number of new columns created would be equal to the number of unique categories in both columns. Let's assume the first column has 3 unique categories and the second column has 5 unique categories. The total number of new columns created would be 3+5=8"
   ]
  },
  {
   "cell_type": "markdown",
   "id": "73b69534-385b-4149-8ff6-5e281476c07c",
   "metadata": {},
   "source": [
    "### Q6. You are working with a dataset containing information about different types of animals, including their species, habitat, and diet. Which encoding technique would you use to transform the categorical data into a format suitable for machine learning algorithms? Justify your answer.\n",
    "\n",
    " The encoding technique to use depends on the nature of the data and the machine learning algorithm being used. In this case, since the categorical data represents different types of animals, one-hot encoding can be used to represent each animal type as a binary vector. This will create a new column for each unique animal type, with a value of 1 in the corresponding column and 0 in all other columns.\n",
    "\n"
   ]
  },
  {
   "cell_type": "markdown",
   "id": "4f722f05-c13e-4481-b5f1-c8fde33725f2",
   "metadata": {},
   "source": [
    "### Q7.You are working on a project that involves predicting customer churn for a telecommunications company. You have a dataset with 5 features, including the customer's gender, age, contract type, monthly charges, and tenure. Which encoding technique(s) would you use to transform the categorical data into numerical data? Provide a step-by-step explanation of how you would implement the encoding.\n",
    "\n",
    "For nominal data such as gender and contract type, label encoding can be used to assign a unique integer value to each category. For example, male can be assigned 0 and female can be assigned 1. For contract type, one can be assigned 0 and two can be assigned 1. For numerical data such as monthly charges and tenure, no encoding is necessary as the data is already in a numerical format."
   ]
  }
 ],
 "metadata": {
  "kernelspec": {
   "display_name": "Python 3 (ipykernel)",
   "language": "python",
   "name": "python3"
  },
  "language_info": {
   "codemirror_mode": {
    "name": "ipython",
    "version": 3
   },
   "file_extension": ".py",
   "mimetype": "text/x-python",
   "name": "python",
   "nbconvert_exporter": "python",
   "pygments_lexer": "ipython3",
   "version": "3.10.8"
  }
 },
 "nbformat": 4,
 "nbformat_minor": 5
}
