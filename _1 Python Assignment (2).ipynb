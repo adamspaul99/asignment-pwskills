{
 "cells": [
  {
   "cell_type": "markdown",
   "id": "9195250c-116b-4351-ae71-f08f164647da",
   "metadata": {},
   "source": [
    "## Q1. Explain with an example each when to use a for loop and a while loop."
   ]
  },
  {
   "cell_type": "markdown",
   "id": "e21e6c46-a9f7-4f59-bcd2-ff5d0cf28be0",
   "metadata": {},
   "source": [
    "### For Loop"
   ]
  },
  {
   "cell_type": "code",
   "execution_count": 1,
   "id": "9a796168-96cc-4872-9f25-5699d566040b",
   "metadata": {},
   "outputs": [
    {
     "name": "stdout",
     "output_type": "stream",
     "text": [
      "2\n",
      "23436\n",
      "64\n",
      "36\n",
      "68\n",
      "234\n",
      "66\n",
      "86\n",
      "634\n",
      "54\n",
      "64\n",
      "4\n"
     ]
    }
   ],
   "source": [
    "list_1 = [1,2,3,56345,23436,7,64,4325,457,67,45,36,68,257,234,66,86,634,43,65,75,54,565,75,64,235,647,67,4]\n",
    "\n",
    "# Print all the even numbers that are in list_1\n",
    "\n",
    "for i in list_1:\n",
    "    if i%2 == 0:\n",
    "        print(i)"
   ]
  },
  {
   "cell_type": "markdown",
   "id": "bf30a473-be03-48d9-8e2e-5570c537722f",
   "metadata": {},
   "source": [
    "### While Loop"
   ]
  },
  {
   "cell_type": "code",
   "execution_count": 2,
   "id": "0b742b3b-cac4-4837-8a78-39ee32364b09",
   "metadata": {},
   "outputs": [
    {
     "name": "stdin",
     "output_type": "stream",
     "text": [
      "Enter any number to get its table :-  66\n"
     ]
    },
    {
     "name": "stdout",
     "output_type": "stream",
     "text": [
      "66 X 1 = 66\n",
      "66 X 2 = 132\n",
      "66 X 3 = 198\n",
      "66 X 4 = 264\n",
      "66 X 5 = 330\n",
      "66 X 6 = 396\n",
      "66 X 7 = 462\n",
      "66 X 8 = 528\n",
      "66 X 9 = 594\n",
      "66 X 10 = 660\n"
     ]
    }
   ],
   "source": [
    "num = int(input(\"Enter any number to get its table :- \"))\n",
    "i = 1\n",
    "while i <= 10:\n",
    "    print(F\"{num} X {i} = {num*i}\")\n",
    "    i = i + 1\n"
   ]
  },
  {
   "cell_type": "markdown",
   "id": "a0ec5e5c-818a-477f-b8e0-2790d128007a",
   "metadata": {},
   "source": [
    "## Q2. Write a python program to print the sum and product of the first 10 natural numbers using for and while loop."
   ]
  },
  {
   "cell_type": "markdown",
   "id": "dddde1af-06e7-475b-9299-570817044ce1",
   "metadata": {},
   "source": [
    "### For Loop"
   ]
  },
  {
   "cell_type": "code",
   "execution_count": 3,
   "id": "3e6ad87f-34d0-4053-8293-574e2c147882",
   "metadata": {},
   "outputs": [
    {
     "name": "stdout",
     "output_type": "stream",
     "text": [
      "the sum and product of the first 10 natural numbers using for loop sum = 55, product = 3628800\n"
     ]
    }
   ],
   "source": [
    "# num = int(input(\"Enter nth number to get its sum:- \"))\n",
    "num = 10\n",
    "add = 0\n",
    "product = 1\n",
    "\n",
    "for i in range(1, num+1):\n",
    "    add = add + i\n",
    "    product = product * i\n",
    "    \n",
    "\n",
    "print(F'the sum and product of the first 10 natural numbers using for loop sum = {add}, product = {product}')\n",
    "    "
   ]
  },
  {
   "cell_type": "markdown",
   "id": "fb4c383a-977e-4679-876c-48f9b0fb1c4d",
   "metadata": {},
   "source": [
    "### While Loop"
   ]
  },
  {
   "cell_type": "code",
   "execution_count": 4,
   "id": "a6d13cdf-2d92-4f3d-bd27-1bdb8862d990",
   "metadata": {},
   "outputs": [
    {
     "name": "stdout",
     "output_type": "stream",
     "text": [
      "the sum and product of the first 10 natural numbers using while loop sum = 55, product = 3628800\n"
     ]
    }
   ],
   "source": [
    "num = 10\n",
    "count = 1\n",
    "add = 0\n",
    "product = 1\n",
    "\n",
    "while count <= 10:\n",
    "    add = add + count\n",
    "    product = product * count\n",
    "    count = count + 1\n",
    "    \n",
    "\n",
    "print(F'the sum and product of the first 10 natural numbers using while loop sum = {add}, product = {product}')"
   ]
  },
  {
   "cell_type": "markdown",
   "id": "cce95701-fa4a-4446-8954-bed08065072d",
   "metadata": {},
   "source": [
    "## Q3. Create a python program to compute the electricity bill for a household.\n",
    "\n",
    "The per-unit charges in rupees are as follows: For the first 100 units, the user will be charged Rs. 4.5 per\n",
    "unit, for the next 100 units, the user will be charged Rs. 6 per unit, and for the next 100 units, the user will\n",
    "be charged Rs. 10 per unit, After 300 units and above the user will be charged Rs. 20 per unit.\n",
    "\n",
    "You are required to take the units of electricity consumed in a month from the user as input.\n",
    "\n",
    "Your program must pass this test case: when the unit of electricity consumed by the user in a month is\n",
    "310, the total electricity bill should be 2250."
   ]
  },
  {
   "cell_type": "code",
   "execution_count": 5,
   "id": "70c6c884-c925-468b-9e00-72d6b903b01b",
   "metadata": {},
   "outputs": [
    {
     "name": "stdin",
     "output_type": "stream",
     "text": [
      "Enter your units to generate your electricity bill 310\n"
     ]
    },
    {
     "name": "stdout",
     "output_type": "stream",
     "text": [
      "Here is your electricity bill --> 2250.0\n"
     ]
    }
   ],
   "source": [
    "num = int(input('Enter your units to generate your electricity bill'))\n",
    "a = 0\n",
    "b = 0\n",
    "c = 0\n",
    "d = 0\n",
    "if num <= 100:\n",
    "    a = (num * 4.5)\n",
    "    print(F'Here is your electricity bill --> {a}')\n",
    "elif num <= 200:\n",
    "    a = (100 * 4.5)\n",
    "    b = a + ((num-100)*6)\n",
    "    print(F'Here is your electricity bill --> {b}')\n",
    "elif num <= 300:\n",
    "    a = (100 * 4.5)\n",
    "    b = (100 * 6)\n",
    "    c = a + b + ((num-200)*10)\n",
    "    print(F'Here is your electricity bill --> {c}')\n",
    "else:\n",
    "    a = (100 * 4.5)\n",
    "    b = (100 * 6)\n",
    "    c = (100 * 10)\n",
    "    d = a + b + c + (num-300)*20\n",
    "    print(F'Here is your electricity bill --> {d}')\n",
    "    \n",
    "\n",
    "    \n",
    "    "
   ]
  },
  {
   "cell_type": "markdown",
   "id": "58e2ccce-2b8b-4762-96d0-588b29079830",
   "metadata": {},
   "source": [
    "## Q4. Create a list of numbers from 1 to 100. Use for loop and while loop to calculate the cube of each number and if the cube of that number is divisible by 4 or 5 then append that number in a list and print that list."
   ]
  },
  {
   "cell_type": "markdown",
   "id": "46e890e6-3d3a-49fa-a84d-d3906da0a128",
   "metadata": {},
   "source": [
    "### For Loop"
   ]
  },
  {
   "cell_type": "code",
   "execution_count": 6,
   "id": "6fb93e87-d68e-4605-9fe5-8b7e369277b9",
   "metadata": {},
   "outputs": [
    {
     "data": {
      "text/plain": [
       "([1,\n",
       "  8,\n",
       "  27,\n",
       "  64,\n",
       "  125,\n",
       "  216,\n",
       "  343,\n",
       "  512,\n",
       "  729,\n",
       "  1000,\n",
       "  1331,\n",
       "  1728,\n",
       "  2197,\n",
       "  2744,\n",
       "  3375,\n",
       "  4096,\n",
       "  4913,\n",
       "  5832,\n",
       "  6859,\n",
       "  8000,\n",
       "  9261,\n",
       "  10648,\n",
       "  12167,\n",
       "  13824,\n",
       "  15625,\n",
       "  17576,\n",
       "  19683,\n",
       "  21952,\n",
       "  24389,\n",
       "  27000,\n",
       "  29791,\n",
       "  32768,\n",
       "  35937,\n",
       "  39304,\n",
       "  42875,\n",
       "  46656,\n",
       "  50653,\n",
       "  54872,\n",
       "  59319,\n",
       "  64000,\n",
       "  68921,\n",
       "  74088,\n",
       "  79507,\n",
       "  85184,\n",
       "  91125,\n",
       "  97336,\n",
       "  103823,\n",
       "  110592,\n",
       "  117649,\n",
       "  125000,\n",
       "  132651,\n",
       "  140608,\n",
       "  148877,\n",
       "  157464,\n",
       "  166375,\n",
       "  175616,\n",
       "  185193,\n",
       "  195112,\n",
       "  205379,\n",
       "  216000,\n",
       "  226981,\n",
       "  238328,\n",
       "  250047,\n",
       "  262144,\n",
       "  274625,\n",
       "  287496,\n",
       "  300763,\n",
       "  314432,\n",
       "  328509,\n",
       "  343000,\n",
       "  357911,\n",
       "  373248,\n",
       "  389017,\n",
       "  405224,\n",
       "  421875,\n",
       "  438976,\n",
       "  456533,\n",
       "  474552,\n",
       "  493039,\n",
       "  512000,\n",
       "  531441,\n",
       "  551368,\n",
       "  571787,\n",
       "  592704,\n",
       "  614125,\n",
       "  636056,\n",
       "  658503,\n",
       "  681472,\n",
       "  704969,\n",
       "  729000,\n",
       "  753571,\n",
       "  778688,\n",
       "  804357,\n",
       "  830584,\n",
       "  857375,\n",
       "  884736,\n",
       "  912673,\n",
       "  941192,\n",
       "  970299,\n",
       "  1000000],\n",
       " [8,\n",
       "  64,\n",
       "  125,\n",
       "  216,\n",
       "  512,\n",
       "  1000,\n",
       "  1728,\n",
       "  2744,\n",
       "  3375,\n",
       "  4096,\n",
       "  5832,\n",
       "  8000,\n",
       "  10648,\n",
       "  13824,\n",
       "  15625,\n",
       "  17576,\n",
       "  21952,\n",
       "  27000,\n",
       "  32768,\n",
       "  39304,\n",
       "  42875,\n",
       "  46656,\n",
       "  54872,\n",
       "  64000,\n",
       "  74088,\n",
       "  85184,\n",
       "  91125,\n",
       "  97336,\n",
       "  110592,\n",
       "  125000,\n",
       "  140608,\n",
       "  157464,\n",
       "  166375,\n",
       "  175616,\n",
       "  195112,\n",
       "  216000,\n",
       "  238328,\n",
       "  262144,\n",
       "  274625,\n",
       "  287496,\n",
       "  314432,\n",
       "  343000,\n",
       "  373248,\n",
       "  405224,\n",
       "  421875,\n",
       "  438976,\n",
       "  474552,\n",
       "  512000,\n",
       "  551368,\n",
       "  592704,\n",
       "  614125,\n",
       "  636056,\n",
       "  681472,\n",
       "  729000,\n",
       "  778688,\n",
       "  830584,\n",
       "  857375,\n",
       "  884736,\n",
       "  941192,\n",
       "  1000000])"
      ]
     },
     "execution_count": 6,
     "metadata": {},
     "output_type": "execute_result"
    }
   ],
   "source": [
    "list1 = list(range(1, 101))\n",
    "list2 = []\n",
    "list3 = []\n",
    "len(list1)\n",
    "\n",
    "for i in list1:\n",
    "    list2.append(i ** 3)\n",
    "for i in list2:\n",
    "    if i % 4 == 0 or i % 5 ==0:\n",
    "        list3.append(i)\n",
    "list2, list3"
   ]
  },
  {
   "cell_type": "markdown",
   "id": "421fe2b9-b71d-4f50-b3f9-ebf0df80cfcc",
   "metadata": {},
   "source": [
    "### While Loop"
   ]
  },
  {
   "cell_type": "code",
   "execution_count": 7,
   "id": "5c6f069c-fc7f-4f7e-9ccf-12d38cc1e806",
   "metadata": {},
   "outputs": [
    {
     "data": {
      "text/plain": [
       "([1,\n",
       "  8,\n",
       "  27,\n",
       "  64,\n",
       "  125,\n",
       "  216,\n",
       "  343,\n",
       "  512,\n",
       "  729,\n",
       "  1000,\n",
       "  1331,\n",
       "  1728,\n",
       "  2197,\n",
       "  2744,\n",
       "  3375,\n",
       "  4096,\n",
       "  4913,\n",
       "  5832,\n",
       "  6859,\n",
       "  8000,\n",
       "  9261,\n",
       "  10648,\n",
       "  12167,\n",
       "  13824,\n",
       "  15625,\n",
       "  17576,\n",
       "  19683,\n",
       "  21952,\n",
       "  24389,\n",
       "  27000,\n",
       "  29791,\n",
       "  32768,\n",
       "  35937,\n",
       "  39304,\n",
       "  42875,\n",
       "  46656,\n",
       "  50653,\n",
       "  54872,\n",
       "  59319,\n",
       "  64000,\n",
       "  68921,\n",
       "  74088,\n",
       "  79507,\n",
       "  85184,\n",
       "  91125,\n",
       "  97336,\n",
       "  103823,\n",
       "  110592,\n",
       "  117649,\n",
       "  125000,\n",
       "  132651,\n",
       "  140608,\n",
       "  148877,\n",
       "  157464,\n",
       "  166375,\n",
       "  175616,\n",
       "  185193,\n",
       "  195112,\n",
       "  205379,\n",
       "  216000,\n",
       "  226981,\n",
       "  238328,\n",
       "  250047,\n",
       "  262144,\n",
       "  274625,\n",
       "  287496,\n",
       "  300763,\n",
       "  314432,\n",
       "  328509,\n",
       "  343000,\n",
       "  357911,\n",
       "  373248,\n",
       "  389017,\n",
       "  405224,\n",
       "  421875,\n",
       "  438976,\n",
       "  456533,\n",
       "  474552,\n",
       "  493039,\n",
       "  512000,\n",
       "  531441,\n",
       "  551368,\n",
       "  571787,\n",
       "  592704,\n",
       "  614125,\n",
       "  636056,\n",
       "  658503,\n",
       "  681472,\n",
       "  704969,\n",
       "  729000,\n",
       "  753571,\n",
       "  778688,\n",
       "  804357,\n",
       "  830584,\n",
       "  857375,\n",
       "  884736,\n",
       "  912673,\n",
       "  941192,\n",
       "  970299,\n",
       "  1000000],\n",
       " [8,\n",
       "  64,\n",
       "  125,\n",
       "  216,\n",
       "  512,\n",
       "  1000,\n",
       "  1728,\n",
       "  2744,\n",
       "  3375,\n",
       "  4096,\n",
       "  5832,\n",
       "  8000,\n",
       "  10648,\n",
       "  13824,\n",
       "  15625,\n",
       "  17576,\n",
       "  21952,\n",
       "  27000,\n",
       "  32768,\n",
       "  39304,\n",
       "  42875,\n",
       "  46656,\n",
       "  54872,\n",
       "  64000,\n",
       "  74088,\n",
       "  85184,\n",
       "  91125,\n",
       "  97336,\n",
       "  110592,\n",
       "  125000,\n",
       "  140608,\n",
       "  157464,\n",
       "  166375,\n",
       "  175616,\n",
       "  195112,\n",
       "  216000,\n",
       "  238328,\n",
       "  262144,\n",
       "  274625,\n",
       "  287496,\n",
       "  314432,\n",
       "  343000,\n",
       "  373248,\n",
       "  405224,\n",
       "  421875,\n",
       "  438976,\n",
       "  474552,\n",
       "  512000,\n",
       "  551368,\n",
       "  592704,\n",
       "  614125,\n",
       "  636056,\n",
       "  681472,\n",
       "  729000,\n",
       "  778688,\n",
       "  830584,\n",
       "  857375,\n",
       "  884736,\n",
       "  941192,\n",
       "  1000000])"
      ]
     },
     "execution_count": 7,
     "metadata": {},
     "output_type": "execute_result"
    }
   ],
   "source": [
    "list1 = list(range(1, 101))\n",
    "list2 = []\n",
    "list3 = []\n",
    "count1 = 0\n",
    "len(list1)\n",
    "while count1 < len(list1):\n",
    "    list2.append(list1[count1] ** 3)\n",
    "    count1 = count1 + 1\n",
    "    \n",
    "\n",
    "count2 = 0\n",
    "while count2 < len(list2):\n",
    "    if list2[count2] % 4 == 0 or list2[count2] % 5 ==0:\n",
    "        list3.append(list2[count2])\n",
    "    count2 = count2 + 1\n",
    "\n",
    "list2, list3"
   ]
  },
  {
   "cell_type": "markdown",
   "id": "fc9afd7c-6446-471b-b027-384e1a00a62a",
   "metadata": {},
   "source": [
    "## Q5. Write a program to filter count vowels in the below-given string.\n",
    "string = \"I want to become a data scientist\""
   ]
  },
  {
   "cell_type": "code",
   "execution_count": 9,
   "id": "449cefdb-0d50-48b9-8664-7cfd1132be5e",
   "metadata": {},
   "outputs": [
    {
     "name": "stdout",
     "output_type": "stream",
     "text": [
      "vowels counts in above string is --> 12 \n",
      "list of vowels in above list --> ['I', 'a', 'o', 'e', 'o', 'e', 'a', 'a', 'a', 'i', 'e', 'i']\n"
     ]
    }
   ],
   "source": [
    "string1 = \"I want to become a data scientist\"\n",
    "list1 = ['a','e','i','o','u']\n",
    "list2 = []\n",
    "for i in string1:\n",
    "    if i.lower() in list1:\n",
    "        list2.append(i)\n",
    "print('vowels counts in above string is -->', len(list2),'\\nlist of vowels in above list -->' ,list2)"
   ]
  },
  {
   "cell_type": "code",
   "execution_count": null,
   "id": "5c670122-0291-4003-97c9-e86976a321e8",
   "metadata": {},
   "outputs": [],
   "source": []
  }
 ],
 "metadata": {
  "kernelspec": {
   "display_name": "Python 3 (ipykernel)",
   "language": "python",
   "name": "python3"
  },
  "language_info": {
   "codemirror_mode": {
    "name": "ipython",
    "version": 3
   },
   "file_extension": ".py",
   "mimetype": "text/x-python",
   "name": "python",
   "nbconvert_exporter": "python",
   "pygments_lexer": "ipython3",
   "version": "3.10.8"
  }
 },
 "nbformat": 4,
 "nbformat_minor": 5
}
