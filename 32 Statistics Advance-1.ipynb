{
 "cells": [
  {
   "cell_type": "markdown",
   "id": "3380897c-1483-4bbf-8b7d-705e6a8bc8b7",
   "metadata": {},
   "source": [
    "### Q1. What is the Probability density function? \n",
    "\n",
    "A probability density function (PDF) is a mathematical function that describes the probability of a continuous random variable taking on a particular value or falling within a certain range of values. The area under the curve of the PDF over a particular range represents the probability of the variable falling within that range."
   ]
  },
  {
   "cell_type": "markdown",
   "id": "d4fecfe0-fd7d-43d3-b50d-7c03713e8264",
   "metadata": {},
   "source": [
    "### Q2. What are the types of Probability distribution? \n",
    "There are many types of probability distributions. Some of the commonly used ones include:\n",
    "\n",
    "1. Normal Distribution\n",
    "2. Bernoulli Distribution\n",
    "3. Log Normal Distribution\n",
    "4. Uniform Distribution\n",
    "5. Binomial Distribution\n",
    "6. Poisson Distribution"
   ]
  },
  {
   "cell_type": "markdown",
   "id": "1410cac9-de9b-4aa8-9598-4f2388b81035",
   "metadata": {},
   "source": [
    "### Q3. Write a Python function to calculate the probability density function of a normal distribution with  given mean and standard deviation at a given point. \n",
    "\n"
   ]
  },
  {
   "cell_type": "code",
   "execution_count": 1,
   "id": "e82f5a14-ad34-4282-acc0-6febbff6964b",
   "metadata": {},
   "outputs": [
    {
     "data": {
      "text/plain": [
       "'\\n\\nCalculates the probability density function of a normal distribution with the given mean and standard deviation at a \\ngiven point x.\\n\\n'"
      ]
     },
     "execution_count": 1,
     "metadata": {},
     "output_type": "execute_result"
    }
   ],
   "source": [
    "import math\n",
    "\n",
    "def normal_pdf(x, mean, std_dev):\n",
    "  \n",
    "    coeff = 1 / (std_dev * math.sqrt(2 * math.pi))\n",
    "    exp = math.exp(-0.5 * ((x - mean) / std_dev) ** 2)\n",
    "    return coeff * exp\n",
    "\n",
    "\n",
    "\"\"\"\n",
    "\n",
    "Calculates the probability density function of a normal distribution with the given mean and standard deviation at a \n",
    "given point x.\n",
    "\n",
    "\"\"\""
   ]
  },
  {
   "cell_type": "markdown",
   "id": "95a85d8d-401d-42c1-9549-bf6b6132c90e",
   "metadata": {},
   "source": [
    "### Q4. What are the properties of Binomial distribution? Give two examples of events where binomial  distribution can be applied.\n",
    "\n",
    "The binomial distribution has the following properties:\n",
    "\n",
    "1. It is a discrete probability distribution.\n",
    "2. The probability of success remains constant across all trials.\n",
    "3. The trials are independent of each other.\n",
    "4. The distribution is characterized by two parameters: the number of trials (n) and the probability of success (p).\n",
    "\n",
    "Two examples of events where binomial distribution can be applied are:\n",
    "\n",
    "1. The number of heads obtained when flipping a coin n times.\n",
    "2. The number of defective items in a sample of n items produced by a manufacturing process with a known defect rate."
   ]
  },
  {
   "cell_type": "markdown",
   "id": "7f6c3cee-93e4-4d6d-9641-a99d9c13945a",
   "metadata": {},
   "source": [
    "### Q5. Generate a random sample of size 1000 from a binomial distribution with probability of success 0.4  and plot a histogram of the results using matplotlib. \n"
   ]
  },
  {
   "cell_type": "code",
   "execution_count": 5,
   "id": "98a992df-6220-4dcb-84e8-463499972383",
   "metadata": {},
   "outputs": [
    {
     "data": {
      "image/png": "[encoded data removed]",
      "text/plain": [
       "<Figure size 640x480 with 1 Axes>"
      ]
     },
     "metadata": {},
     "output_type": "display_data"
    }
   ],
   "source": [
    "import numpy as np\n",
    "import matplotlib.pyplot as plt\n",
    "\n",
    "\n",
    "n = 10\n",
    "p = 0.4\n",
    "size = 1000\n",
    "\n",
    "\n",
    "sample = np.random.binomial(n, p, size)\n",
    "\n",
    "\n",
    "plt.hist(sample, bins=range(n+1), density=True)\n",
    "plt.xlabel('Number of successes')\n",
    "plt.ylabel('Probability')\n",
    "plt.show()"
   ]
  },
  {
   "cell_type": "markdown",
   "id": "0c1125b6-e79c-4d46-bf43-89bc19a85a89",
   "metadata": {},
   "source": [
    "### Q6. Write a Python function to calculate the cumulative distribution function of a Poisson distribution  with given mean at a given point. \n"
   ]
  },
  {
   "cell_type": "code",
   "execution_count": 6,
   "id": "a639568e-e420-47e1-91d8-47d7e2d77f69",
   "metadata": {},
   "outputs": [],
   "source": [
    "import math\n",
    "\n",
    "def poisson_cdf(x, mean):\n",
    "   \n",
    "    cdf = 0\n",
    "    for i in range(x+1):\n",
    "        cdf += math.exp(-mean) * (mean ** i) / math.factorial(i)\n",
    "    return cdf\n",
    "\n",
    "# Calculates the cumulative distribution function of a Poisson distribution with the given mean at a given point x."
   ]
  },
  {
   "cell_type": "markdown",
   "id": "ffefa7cf-1db6-4313-b142-84e7539437b8",
   "metadata": {},
   "source": [
    "### Q7. How Binomial distribution different from Poisson distribution? \n",
    "\n",
    "Binomial distribution and Poisson distribution are both probability distributions that are used to model discrete events. The main difference between them is that the binomial distribution is used to model the number of successes in a fixed number of trials, while the Poisson distribution is used to model the number of events occurring in a fixed amount of time or space."
   ]
  },
  {
   "cell_type": "markdown",
   "id": "5deb1388-a3df-4a03-9afe-3474314b3f00",
   "metadata": {},
   "source": [
    "### Q8. Generate a random sample of size 1000 from a Poisson distribution with mean 5 and calculate the  sample mean and variance. \n"
   ]
  },
  {
   "cell_type": "code",
   "execution_count": 7,
   "id": "598ebb92-181b-4b5d-8813-f5d62dbfa2b9",
   "metadata": {},
   "outputs": [
    {
     "name": "stdout",
     "output_type": "stream",
     "text": [
      "Sample mean: 4.976\n",
      "Sample variance: 4.897424\n"
     ]
    }
   ],
   "source": [
    "import numpy as np\n",
    "\n",
    "sample = np.random.poisson(5, size=1000)\n",
    "\n",
    "sample_mean = np.mean(sample)\n",
    "sample_var = np.var(sample)\n",
    "\n",
    "print(\"Sample mean:\", sample_mean)\n",
    "print(\"Sample variance:\", sample_var)"
   ]
  },
  {
   "cell_type": "markdown",
   "id": "e9c90071-6ed7-4db5-aa22-4650810178d7",
   "metadata": {},
   "source": [
    "### Q9. How mean and variance are related in Binomial distribution and Poisson distribution?\n",
    "\n",
    "The mean and variance are related in both the binomial and Poisson distributions. In the binomial distribution, the mean is equal to the product of the number of trials and the probability of success, while the variance is equal to the product of the number of trials, the probability of success, and the probability of failure"
   ]
  },
  {
   "cell_type": "markdown",
   "id": "1f88bab9-cc65-456a-828f-f007c45b7126",
   "metadata": {},
   "source": [
    "###  Q10. In normal distribution with respect to mean position, where does the least frequent data appear?\n",
    "\n",
    "In a normal distribution, the least frequent data appears at the tails, which are the extreme ends of the distribution. The probability density decreases as we move away from the mean towards the tails, and it becomes very low at the tails. Specifically, the data that is farther than three standard deviations from the mean is considered rare in a normal distribution."
   ]
  },
  {
   "cell_type": "code",
   "execution_count": null,
   "id": "6b44cbc4-c0b6-4583-8e8d-28ae81fbc96f",
   "metadata": {},
   "outputs": [],
   "source": []
  }
 ],
 "metadata": {
  "kernelspec": {
   "display_name": "Python 3 (ipykernel)",
   "language": "python",
   "name": "python3"
  },
  "language_info": {
   "codemirror_mode": {
    "name": "ipython",
    "version": 3
   },
   "file_extension": ".py",
   "mimetype": "text/x-python",
   "name": "python",
   "nbconvert_exporter": "python",
   "pygments_lexer": "ipython3",
   "version": "3.10.8"
  }
 },
 "nbformat": 4,
 "nbformat_minor": 5
}
