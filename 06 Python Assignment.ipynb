{
 "cells": [
  {
   "cell_type": "markdown",
   "id": "1cbba087-cf4d-425b-8bb9-01d35977b3f5",
   "metadata": {},
   "source": [
    "## 1. Write a program to accept percentage from the user and display the grade according to the following criteria:"
   ]
  },
  {
   "cell_type": "code",
   "execution_count": 1,
   "id": "8e465002-9539-4b92-993a-3d183ddefa15",
   "metadata": {},
   "outputs": [
    {
     "name": "stdin",
     "output_type": "stream",
     "text": [
      "Enter your percentage 79\n"
     ]
    },
    {
     "name": "stdout",
     "output_type": "stream",
     "text": [
      "Grade - C\n"
     ]
    }
   ],
   "source": [
    "num = int(input('Enter your percentage'))\n",
    "if num > 100 :\n",
    "    print('Enter valid percentage')\n",
    "elif 90 < num <=100 :\n",
    "    print('Grade - A')\n",
    "elif 80 < num <= 90 :\n",
    "    print('Grade - B')\n",
    "elif 60 <= num <= 80 :\n",
    "    print('Grade - C')\n",
    "else:\n",
    "    print('Grade - D')\n"
   ]
  },
  {
   "cell_type": "markdown",
   "id": "dd5987b5-687b-4d30-8174-ea8a9330dea7",
   "metadata": {},
   "source": [
    "## 2 Write a program to accept the cost price of a bike and display the road tax to be paid according to the following criteria:"
   ]
  },
  {
   "cell_type": "code",
   "execution_count": 2,
   "id": "7466843b-6980-4068-8c7d-b51855aa9a7f",
   "metadata": {},
   "outputs": [
    {
     "name": "stdin",
     "output_type": "stream",
     "text": [
      "Enter the price of bike 89000\n"
     ]
    },
    {
     "name": "stdout",
     "output_type": "stream",
     "text": [
      "The road tax to be paid --> 8900.0\n"
     ]
    }
   ],
   "source": [
    "cost_price = int(input('Enter the price of bike'))\n",
    "\n",
    "if cost_price > 100000 :\n",
    "    print(F'The road tax to be paid --> {cost_price/100*15}')\n",
    "elif 50000 < cost_price <= 100000 :\n",
    "    print(F'The road tax to be paid --> {cost_price/100*10}')\n",
    "else:\n",
    "    print(F'The road tax to be paid --> {cost_price/100*5}')"
   ]
  },
  {
   "cell_type": "markdown",
   "id": "de0495eb-3c33-462b-ba10-be05ab3b22bd",
   "metadata": {},
   "source": [
    "## 3. Accept any city from the user and display monuments of that city."
   ]
  },
  {
   "cell_type": "code",
   "execution_count": null,
   "id": "5d98e531-24f7-46ff-80cc-cf5ae6438af4",
   "metadata": {},
   "outputs": [],
   "source": [
    "\n",
    "city_name = input('Enter any city name from the given list\\nDelhi\\nAgra\\nJaipur\\n')\n",
    "\n",
    "if city_name.lower() == 'delhi':\n",
    "    print('Red Fort')\n",
    "elif city_name.lower() == 'agra':\n",
    "    print('Taj Mahal')\n",
    "elif city_name.lower() == 'jaipur':\n",
    "    print('Jal Mahal')\n",
    "else:\n",
    "    print('Check your input')"
   ]
  },
  {
   "cell_type": "markdown",
   "id": "4ce88bb2-479c-43bb-9698-4af6cfb1b153",
   "metadata": {},
   "source": [
    "## 4. Check how many times a given number can be divided by 3 before it is less than or equal to 10."
   ]
  },
  {
   "cell_type": "code",
   "execution_count": null,
   "id": "8ec27002-29c8-40f6-a7ad-4c9f1f3abd8e",
   "metadata": {},
   "outputs": [],
   "source": [
    "num = int(input('Enter any number'))\n",
    "count = 0\n",
    "a = num\n",
    "while num > 10:\n",
    "    num = num / 3\n",
    "    count += 1\n",
    "print(F'{a} divided by 3, {count} times.')"
   ]
  },
  {
   "cell_type": "markdown",
   "id": "1dcd2337-5057-4fb6-af83-188362b7f043",
   "metadata": {},
   "source": [
    "## 5. Why and When to Use while Loop in Python give a detailed description with example"
   ]
  },
  {
   "cell_type": "markdown",
   "id": "e5360365-7e1f-40fd-9446-73425c28e449",
   "metadata": {},
   "source": [
    "A While loop in Python allows a part of the code to be executed repeatedly as long as a given condition is true. It is typically used when the number of iterations is not known."
   ]
  },
  {
   "cell_type": "code",
   "execution_count": null,
   "id": "9e3a03fa-b72c-4bae-a866-5413bce51f2a",
   "metadata": {},
   "outputs": [],
   "source": [
    "# in this example we dont know that how many times our loop is going to run\n",
    "\n",
    "num = int(input('Enter any number'))\n",
    "count = 0\n",
    "a = num\n",
    "while num > 10:\n",
    "    num = num / 3\n",
    "    count += 1\n",
    "print(F'{a} divided by 3, {count} times.')"
   ]
  },
  {
   "cell_type": "markdown",
   "id": "1270d3fc-0e95-4ad1-a6c4-bd26d0c48d1c",
   "metadata": {},
   "source": [
    "## 6. Use nested while loop to print 3 different pattern."
   ]
  },
  {
   "cell_type": "code",
   "execution_count": null,
   "id": "ac91d503-4d2f-442a-986c-e104b56203c8",
   "metadata": {},
   "outputs": [],
   "source": [
    "n = int(input('Enter number of rows : '))\n",
    " \n",
    "i = 1\n",
    "while i <= n :\n",
    "    j = 1\n",
    "    while j <= i:\n",
    "        print(\"*\", end = \" \")\n",
    "        j += 1\n",
    "    print()\n",
    "    i += 1"
   ]
  },
  {
   "cell_type": "code",
   "execution_count": null,
   "id": "cab122fd-5b4e-4a21-a758-a0f850d54cc5",
   "metadata": {},
   "outputs": [],
   "source": [
    "n = int(input('Enter number of rows : '))\n",
    " \n",
    "i = 1\n",
    "while i <= n :\n",
    "    j = n\n",
    "    while j >= i:\n",
    "        print(\"*\", end = \" \")\n",
    "        j -= 1\n",
    "    print()\n",
    "    i += 1"
   ]
  },
  {
   "cell_type": "code",
   "execution_count": null,
   "id": "2c23a380-37b2-4b6f-8aab-e8ee7adb5920",
   "metadata": {},
   "outputs": [],
   "source": [
    "n = int(input('Enter number of rows : '))\n",
    " \n",
    "k = 1\n",
    "i = 1\n",
    "while i <= n :\n",
    "    j = 1\n",
    "    while j <= i:\n",
    "        print(\"{:3d}\".format(k), end = \" \")\n",
    "        j += 1\n",
    "        k += 1\n",
    "    print()\n",
    "    i += 1"
   ]
  },
  {
   "cell_type": "markdown",
   "id": "e6774a32-3c66-4a67-8ca3-7bca7e6bf150",
   "metadata": {},
   "source": [
    "## 7. Reverse a while loop to display numbers from 10 to 1."
   ]
  },
  {
   "cell_type": "code",
   "execution_count": null,
   "id": "5e49743e-daf6-4824-980e-1dce3a0eb615",
   "metadata": {},
   "outputs": [],
   "source": [
    "count = 10\n",
    "while count != 0:\n",
    "    print(count)\n",
    "    count -= 1"
   ]
  },
  {
   "cell_type": "markdown",
   "id": "175e51f8-c3d9-41bc-b3fb-957853ff06f7",
   "metadata": {},
   "source": [
    "## 8. Reverse a while loop to display numbers from 10 to 1."
   ]
  },
  {
   "cell_type": "code",
   "execution_count": null,
   "id": "d47c4513-18fd-464a-90ac-d3ec65d44cc2",
   "metadata": {},
   "outputs": [],
   "source": [
    "count = 10\n",
    "while count != 0:\n",
    "    print(count)\n",
    "    count -= 1"
   ]
  },
  {
   "cell_type": "code",
   "execution_count": null,
   "id": "873e2922-06a6-4053-8866-3b1eb348f402",
   "metadata": {},
   "outputs": [],
   "source": []
  }
 ],
 "metadata": {
  "kernelspec": {
   "display_name": "Python 3 (ipykernel)",
   "language": "python",
   "name": "python3"
  },
  "language_info": {
   "codemirror_mode": {
    "name": "ipython",
    "version": 3
   },
   "file_extension": ".py",
   "mimetype": "text/x-python",
   "name": "python",
   "nbconvert_exporter": "python",
   "pygments_lexer": "ipython3",
   "version": "3.10.8"
  }
 },
 "nbformat": 4,
 "nbformat_minor": 5
}
